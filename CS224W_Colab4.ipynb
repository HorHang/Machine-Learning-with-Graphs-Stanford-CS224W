{
  "cells": [
    {
      "attachments": {},
      "cell_type": "markdown",
      "metadata": {
        "id": "XuXWJLEm2UWS"
      },
      "source": [
        "# **CS224W - Colab 4**"
      ]
    },
    {
      "attachments": {},
      "cell_type": "markdown",
      "metadata": {
        "id": "8gzsP50bF6Gb"
      },
      "source": [
        "In Colab 2 we constructed GNN models by using PyTorch Geometric's built in GCN layer, `GCNConv`. In Colab 3 we implemented the  **GraphSAGE** ([Hamilton et al. (2017)](https://arxiv.org/abs/1706.02216)) layer. In this colab you'll use what you've learned and implement a more powerful layer: **GAT** ([Veličković et al. (2018)](https://arxiv.org/abs/1710.10903)). Then we will run our models on the CORA dataset, which is a standard citation network benchmark dataset.\n",
        "\n",
        "**Note**: Make sure to **sequentially run all the cells in each section** so that the intermediate variables / packages will carry over to the next cell\n",
        "\n",
        "Have fun and good luck on Colab 4 :)"
      ]
    },
    {
      "attachments": {},
      "cell_type": "markdown",
      "metadata": {
        "id": "MSaetj53YnT6"
      },
      "source": [
        "# Device\n",
        "We recommend using a GPU for this Colab.\n",
        "\n",
        "Please click `Runtime` and then `Change runtime type`. Then set the `hardware accelerator` to **GPU**."
      ]
    },
    {
      "attachments": {},
      "cell_type": "markdown",
      "metadata": {
        "id": "67gOQITlCNQi"
      },
      "source": [
        "## Installation"
      ]
    },
    {
      "cell_type": "code",
      "execution_count": 225,
      "metadata": {
        "id": "J_m9l6OYCQZP"
      },
      "outputs": [
        {
          "name": "stdout",
          "output_type": "stream",
          "text": [
            "Looking in links: https://data.pyg.org/whl/torch-1.13.1+cu116.html\n",
            "Requirement already satisfied: torch-scatter in c:\\users\\hor hang\\appdata\\local\\programs\\python\\python311\\lib\\site-packages (2.1.1)\n"
          ]
        },
        {
          "name": "stderr",
          "output_type": "stream",
          "text": [
            "\n",
            "[notice] A new release of pip available: 22.3.1 -> 23.1.2\n",
            "[notice] To update, run: python.exe -m pip install --upgrade pip\n"
          ]
        },
        {
          "name": "stdout",
          "output_type": "stream",
          "text": [
            "Looking in links: https://data.pyg.org/whl/torch-1.13.1+cu116.html\n",
            "Requirement already satisfied: torch-sparse in c:\\users\\hor hang\\appdata\\local\\programs\\python\\python311\\lib\\site-packages (0.6.17)\n",
            "Requirement already satisfied: scipy in c:\\users\\hor hang\\appdata\\local\\programs\\python\\python311\\lib\\site-packages (from torch-sparse) (1.10.1)\n",
            "Requirement already satisfied: numpy<1.27.0,>=1.19.5 in c:\\users\\hor hang\\appdata\\local\\programs\\python\\python311\\lib\\site-packages (from scipy->torch-sparse) (1.23.5)\n"
          ]
        },
        {
          "name": "stderr",
          "output_type": "stream",
          "text": [
            "\n",
            "[notice] A new release of pip available: 22.3.1 -> 23.1.2\n",
            "[notice] To update, run: python.exe -m pip install --upgrade pip\n"
          ]
        },
        {
          "name": "stdout",
          "output_type": "stream",
          "text": [
            "Requirement already satisfied: torch-geometric in c:\\users\\hor hang\\appdata\\local\\programs\\python\\python311\\lib\\site-packages (2.4.0)\n",
            "Requirement already satisfied: tqdm in c:\\users\\hor hang\\appdata\\local\\programs\\python\\python311\\lib\\site-packages (from torch-geometric) (4.65.0)\n",
            "Requirement already satisfied: numpy in c:\\users\\hor hang\\appdata\\local\\programs\\python\\python311\\lib\\site-packages (from torch-geometric) (1.23.5)\n",
            "Requirement already satisfied: scipy in c:\\users\\hor hang\\appdata\\local\\programs\\python\\python311\\lib\\site-packages (from torch-geometric) (1.10.1)\n",
            "Requirement already satisfied: jinja2 in c:\\users\\hor hang\\appdata\\local\\programs\\python\\python311\\lib\\site-packages (from torch-geometric) (3.1.2)\n",
            "Requirement already satisfied: requests in c:\\users\\hor hang\\appdata\\local\\programs\\python\\python311\\lib\\site-packages (from torch-geometric) (2.31.0)\n",
            "Requirement already satisfied: pyparsing in c:\\users\\hor hang\\appdata\\local\\programs\\python\\python311\\lib\\site-packages (from torch-geometric) (3.0.9)\n",
            "Requirement already satisfied: scikit-learn in c:\\users\\hor hang\\appdata\\local\\programs\\python\\python311\\lib\\site-packages (from torch-geometric) (1.2.2)\n",
            "Requirement already satisfied: psutil>=5.8.0 in c:\\users\\hor hang\\appdata\\roaming\\python\\python311\\site-packages (from torch-geometric) (5.9.5)\n",
            "Requirement already satisfied: MarkupSafe>=2.0 in c:\\users\\hor hang\\appdata\\local\\programs\\python\\python311\\lib\\site-packages (from jinja2->torch-geometric) (2.1.2)\n",
            "Requirement already satisfied: charset-normalizer<4,>=2 in c:\\users\\hor hang\\appdata\\local\\programs\\python\\python311\\lib\\site-packages (from requests->torch-geometric) (3.1.0)\n",
            "Requirement already satisfied: idna<4,>=2.5 in c:\\users\\hor hang\\appdata\\local\\programs\\python\\python311\\lib\\site-packages (from requests->torch-geometric) (3.4)\n",
            "Requirement already satisfied: urllib3<3,>=1.21.1 in c:\\users\\hor hang\\appdata\\local\\programs\\python\\python311\\lib\\site-packages (from requests->torch-geometric) (1.26.16)\n",
            "Requirement already satisfied: certifi>=2017.4.17 in c:\\users\\hor hang\\appdata\\local\\programs\\python\\python311\\lib\\site-packages (from requests->torch-geometric) (2023.5.7)\n",
            "Requirement already satisfied: joblib>=1.1.1 in c:\\users\\hor hang\\appdata\\local\\programs\\python\\python311\\lib\\site-packages (from scikit-learn->torch-geometric) (1.2.0)\n",
            "Requirement already satisfied: threadpoolctl>=2.0.0 in c:\\users\\hor hang\\appdata\\local\\programs\\python\\python311\\lib\\site-packages (from scikit-learn->torch-geometric) (3.1.0)\n",
            "Requirement already satisfied: colorama in c:\\users\\hor hang\\appdata\\local\\programs\\python\\python311\\lib\\site-packages (from tqdm->torch-geometric) (0.4.6)\n"
          ]
        },
        {
          "name": "stderr",
          "output_type": "stream",
          "text": [
            "\n",
            "[notice] A new release of pip available: 22.3.1 -> 23.1.2\n",
            "[notice] To update, run: python.exe -m pip install --upgrade pip\n",
            "\n",
            "[notice] A new release of pip available: 22.3.1 -> 23.1.2\n",
            "[notice] To update, run: python.exe -m pip install --upgrade pip\n"
          ]
        }
      ],
      "source": [
        "# Install torch geometric\n",
        "import os\n",
        "if 'IS_GRADESCOPE_ENV' not in os.environ:\n",
        "  !pip install torch-scatter -f https://data.pyg.org/whl/torch-1.13.1+cu116.html\n",
        "  !pip install torch-sparse -f https://data.pyg.org/whl/torch-1.13.1+cu116.html\n",
        "  !pip install torch-geometric\n",
        "  !pip install -q git+https://github.com/snap-stanford/deepsnap.git"
      ]
    },
    {
      "cell_type": "code",
      "execution_count": 226,
      "metadata": {
        "id": "PRfgbfTjCRD_"
      },
      "outputs": [
        {
          "data": {
            "text/plain": [
              "'2.4.0'"
            ]
          },
          "execution_count": 226,
          "metadata": {},
          "output_type": "execute_result"
        }
      ],
      "source": [
        "import torch_geometric\n",
        "torch_geometric.__version__"
      ]
    },
    {
      "attachments": {},
      "cell_type": "markdown",
      "metadata": {
        "id": "ZoXlf4MtYrbz"
      },
      "source": [
        "# 1) GNN Layers"
      ]
    },
    {
      "attachments": {},
      "cell_type": "markdown",
      "metadata": {
        "id": "TQy2RBfgYut4"
      },
      "source": [
        "## Implementing Layer Modules\n",
        "\n",
        "In Colab 2, we implemented a GCN model for node and graph classification tasks. However, for that notebook we took advantage of PyG's built in GCN module. For Colabs 3 and 4, we provide a build upon a general Graph Neural Network Stack, into which we will be able to plugin our own module implementations: GraphSAGE and GAT.\n",
        "\n",
        "We will then use our layer implemenations to complete node classification on the CORA dataset, a standard citation network benchmark. In this dataset, nodes correspond to documents and edges correspond to undirected citations. Each node or document in the graph is assigned a class label and features based on the documents binarized bag-of-words representation. Specifically, the Cora graph has 2708 nodes, 5429 edges, 7 prediction classes, and 1433 features per node."
      ]
    },
    {
      "attachments": {},
      "cell_type": "markdown",
      "metadata": {
        "id": "H4ne6Gw-CT5G"
      },
      "source": [
        "## GNN Stack Module\n",
        "\n",
        "Below is the implementation of a general GNN stack, where we can plugin any GNN layer, such as **GraphSage**, **GAT**, etc. This module is provided for you. Your implementations of the **GraphSage** and **GAT** layers will function as components in the GNNStack Module."
      ]
    },
    {
      "cell_type": "code",
      "execution_count": 227,
      "metadata": {
        "id": "Ys8vZAFPCWWe"
      },
      "outputs": [],
      "source": [
        "import torch\n",
        "import torch_scatter\n",
        "import torch.nn as nn\n",
        "import torch.nn.functional as F\n",
        "\n",
        "import torch_geometric.nn as pyg_nn\n",
        "import torch_geometric.utils as pyg_utils\n",
        "\n",
        "from torch import Tensor\n",
        "from typing import Union, Tuple, Optional\n",
        "from torch_geometric.typing import (OptPairTensor, Adj, Size, NoneType,\n",
        "                                    OptTensor)\n",
        "\n",
        "from torch.nn import Parameter, Linear\n",
        "from torch_sparse import SparseTensor, set_diag\n",
        "from torch_geometric.nn.conv import MessagePassing\n",
        "from torch_geometric.utils import remove_self_loops, add_self_loops, softmax, degree\n",
        "\n",
        "class GNNStack(torch.nn.Module):\n",
        "    def __init__(self, input_dim, hidden_dim, output_dim, args, emb=False):\n",
        "        super(GNNStack, self).__init__()\n",
        "        conv_model = self.build_conv_model(args.model_type)\n",
        "        self.convs = nn.ModuleList()\n",
        "        self.convs.append(conv_model(input_dim, hidden_dim))\n",
        "        assert (args.num_layers >= 1), 'Number of layers is not >=1'\n",
        "        for l in range(args.num_layers-1):\n",
        "            self.convs.append(conv_model(args.heads * hidden_dim, hidden_dim))\n",
        "\n",
        "        # post-message-passing\n",
        "        self.post_mp = nn.Sequential(\n",
        "            nn.Linear(args.heads * hidden_dim, hidden_dim), nn.Dropout(args.dropout),\n",
        "            nn.Linear(hidden_dim, output_dim))\n",
        "\n",
        "        self.dropout = args.dropout\n",
        "        self.num_layers = args.num_layers\n",
        "\n",
        "        self.emb = emb\n",
        "\n",
        "    def build_conv_model(self, model_type):\n",
        "        if model_type == 'GraphSage':\n",
        "            return GraphSage\n",
        "        elif model_type == 'GAT':\n",
        "            # When applying GAT with num heads > 1, you need to modify the\n",
        "            # input and output dimension of the conv layers (self.convs),\n",
        "            # to ensure that the input dim of the next layer is num heads\n",
        "            # multiplied by the output dim of the previous layer.\n",
        "            # HINT: In case you want to play with multiheads, you need to change the for-loop that builds up self.convs to be\n",
        "            # self.convs.append(conv_model(hidden_dim * num_heads, hidden_dim)),\n",
        "            # and also the first nn.Linear(hidden_dim * num_heads, hidden_dim) in post-message-passing.\n",
        "            return GAT\n",
        "\n",
        "    def forward(self, data):\n",
        "        x, edge_index, batch = data.x, data.edge_index, data.batch\n",
        "\n",
        "        for i in range(self.num_layers):\n",
        "            x = self.convs[i](x, edge_index)\n",
        "            x = F.relu(x)\n",
        "            x = F.dropout(x, p=self.dropout,training=self.training)\n",
        "\n",
        "        x = self.post_mp(x)\n",
        "\n",
        "        if self.emb == True:\n",
        "            return x\n",
        "\n",
        "        return F.log_softmax(x, dim=1)\n",
        "\n",
        "    def loss(self, pred, label):\n",
        "        return F.nll_loss(pred, label)"
      ]
    },
    {
      "attachments": {},
      "cell_type": "markdown",
      "metadata": {
        "id": "5nW_XpEwASNZ"
      },
      "source": [
        "## Creating Our Own Message Passing Layer\n",
        "\n",
        "Now let's start implementing our own message passing layers! Working through this part will help us become acutely familiar with the behind the scenes work of implementing Pytorch Message Passing Layers, allowing us to build our own GNN models. To do so, we will work with and implement 3 critcal functions needed to define a PyG Message Passing Layer: `forward`, `message`, and `aggregate`.\n",
        "\n",
        "Before diving head first into the coding details, let us quickly review the key components of the message passing process. To do so, we will focus on a single round of messsage passing with respect to a single central node $x$. Before message passing, $x$ is associated with a feature vector $x^{l-1}$, and the goal of message passing is to update this feature vector as $x^l$. To do so, we implement the following steps: 1) each neighboring node $v$ passes its current message $v^{l-1}$ across the edge $(x, v)$ - 2) for the node $x$, we aggregate all of the messages of the neighboring nodes (for example through a sum or mean) - and 3) we transform the aggregated information by for example applying linear and non-linear transformations. Altogether, the message passing process is applied such that every node $u$ in our graph updates its embedding by acting as the central node $x$ in step 1-3 described above.\n",
        "\n",
        "Now, we extending this process to that of a single message passing layer, the job of a message passing layer is to update the current feature representation or embedding of each node in a graph by propagating and transforming information within the graph. Overall, the general paradigm of a message passing layers is: 1) pre-processing -> 2) **message passing** / propagation -> 3) post-processing.\n",
        "\n",
        "The `forward` fuction that we will implement for our message passing layer captures this execution logic. Namely, the `forward` function handles the pre and post-processing of node features / embeddings, as well as initiates message passing by calling the `propagate` function.\n",
        "\n",
        "\n",
        "The `propagate` function encapsulates the message passing process! It does so by calling three important functions: 1) `message`, 2) `aggregate`, and 3) `update`. Our implementation will vary slightly from this, as we will not explicitly implement `update`, but instead place the logic for updating node embeddings after message passing and within the `forward` function. To be more specific, after information is propagated (message passing), we can further transform the node embeddings outputed by `propagate`. Therefore, the output of `forward` is exactly the node embeddings after one GNN layer.\n",
        "\n",
        "Lastly, before starting to implement our own layer, let us dig a bit deeper into each of the functions described above:\n",
        "\n",
        "1.\n",
        "\n",
        "```\n",
        "def propagate(edge_index, x=(x_i, x_j), extra=(extra_i, extra_j), size=size):\n",
        "```\n",
        "Calling `propagate` initiates the message passing process. Looking at the function parameters, we highlight a couple of key parameters.\n",
        "\n",
        "  - `edge_index` is passed to the forward function and captures the edge structure of the graph.\n",
        "  - `x=(x_i, x_j)` represents the node features that will be used in message passing. In order to explain why we pass the tuple `(x_i, x_j)`, we first look at how our edges are represented. For every edge $(i, j) \\in E$, we can differentiate $i$ as the source or central node ($x_{central}$) and j as the neighboring node ($x_{neighbor}$).\n",
        "  \n",
        "    Taking the example of message passing above, for a central node $u$ we will aggregate and transform all of the messages associated with the nodes $v$ s.t. $(u, v) \\in E$ (i.e. $v \\in N_{u}$). Thus we see, the subscripts `_i` and `_j` allow us to specifcally differenciate features associated with central nodes (i.e. nodes  recieving message information) and neighboring nodes (i.e. nodes passing messages).\n",
        "\n",
        "    This is definitely a somewhat confusing concept; however, one key thing to remember / wrap your head around is that depending on the perspective, a node $x$ acts as a central node or a neighboring node. In fact, in undirected graphs we store both edge directions (i.e. $(i, j)$ and $(j, i)$). From the central node perspective, `x_i`, x is collecting neighboring information to update its embedding. From a neighboring node perspective, `x_j`, x is passing its message information along the edge connecting it to a different central node.\n",
        "\n",
        "  - `extra=(extra_i, extra_j)` represents additional information that we can associate with each node beyond its current feature embedding. In fact, we can include as many additional parameters of the form `param=(param_i, param_j)` as we would like. Again, we highlight that indexing with `_i` and `_j` allows us to differentiate central and neighboring nodes.\n",
        "\n",
        "  The output of the `propagate` function is a matrix of node embeddings after the message passing process and has shape $[N, d]$.\n",
        "\n",
        "2.\n",
        "```\n",
        "def message(x_j, ...):\n",
        "```\n",
        "The `message` function is called by propagate and constructs the messages from\n",
        "neighboring nodes $j$ to central nodes $i$ for each edge $(i, j)$ in *edge_index*. This function can take any argument that was initially passed to `propagate`. Furthermore, we can again differentiate central nodes and neighboring nodes by appending `_i` or `_j` to the variable name, .e.g. `x_i` and `x_j`. Looking more specifically at the variables, we have:\n",
        "\n",
        "  - `x_j` represents a matrix of feature embeddings for all neighboring nodes passing their messages along their respective edge (i.e. all nodes $j$ for edges $(i, j) \\in E$). Thus, its shape is $[|E|, d]$!\n",
        "  - In implementing GAT we will see how to access additional variables passed to propagate\n",
        "\n",
        "  Critically, we see that the output of the `message` function is a matrix of neighboring node embeddings ready to be aggregated, having shape $[|E|, d]$.\n",
        "\n",
        "3.\n",
        "```\n",
        "def aggregate(self, inputs, index, dim_size = None):\n",
        "```\n",
        "Lastly, the `aggregate` function is used to aggregate the messages from neighboring nodes. Looking at the parameters we highlight:\n",
        "\n",
        "  - `inputs` represents a matrix of the messages passed from neighboring nodes (i.e. the output of the `message` function).\n",
        "  - `index` has the same shape as `inputs` and tells us the central node that corresponding to each of the rows / messages $j$ in the `inputs` matrix. Thus, `index` tells us which rows / messages to aggregate for each central node.\n",
        "\n",
        "  The output of `aggregate` is of shape $[N, d]$.\n",
        "\n",
        "\n",
        "For additional resources refer to the PyG documentation for implementing custom message passing layers: https://pytorch-geometric.readthedocs.io/en/latest/notes/create_gnn.html"
      ]
    },
    {
      "attachments": {},
      "cell_type": "markdown",
      "metadata": {
        "id": "qjcfF3RACdLD"
      },
      "source": [
        "## GAT Implementation\n",
        "\n",
        "Attention mechanisms have become the state-of-the-art in many sequence-based tasks such as machine translation and learning sentence representations. One of the major benefits of attention-based mechanisms is their ability to focus on the most relevant parts of the input to make decisions. In this problem, we will see how attention mechanisms can be used to perform node classification over graph-structured data through the usage of Graph Attention Networks (GATs) ([Veličković et al. (2018)](https://arxiv.org/abs/1710.10903)).\n",
        "\n",
        "The building block of the Graph Attention Network is the graph attention layer, which is a variant of the aggregation function. Let $N$ be the number of nodes and $F$ be the dimension of the feature vector for each node. The input to each graph attentional layer is a set of node features: $\\mathbf{h} = \\{\\overrightarrow{h_1}, \\overrightarrow{h_2}, \\dots, \\overrightarrow{h_N}$\\}, $\\overrightarrow{h_i} \\in R^F$. The output of each graph attentional layer is a new set of node features, which may have a new dimension $F'$: $\\mathbf{h'} = \\{\\overrightarrow{h_1'}, \\overrightarrow{h_2'}, \\dots, \\overrightarrow{h_N'}\\}$, with $\\overrightarrow{h_i'} \\in \\mathbb{R}^{F'}$.\n",
        "\n",
        "We will now describe how this transformation is performed for each graph attention layer. First, a shared linear transformation parametrized by the weight matrix $\\mathbf{W} \\in \\mathbb{R}^{F' \\times F}$ is applied to every node.\n",
        "\n",
        "Next, we perform self-attention on the nodes. We use a shared attention function $a$:\n",
        "\\begin{equation}\n",
        "a : \\mathbb{R}^{F'} \\times \\mathbb{R}^{F'} \\rightarrow \\mathbb{R}.\n",
        "\\end{equation}\n",
        "\n",
        "that computes the attention coefficients capturing the importance of node $j$'s features to node $i$:\n",
        "\\begin{equation}\n",
        "e_{ij} = a(\\mathbf{W_l}\\overrightarrow{h_i}, \\mathbf{W_r} \\overrightarrow{h_j})\n",
        "\\end{equation}\n",
        "\n",
        "The most general formulation of self-attention allows every node to attend to all other nodes which drops all structural information. However, to utilize graph structure in the attention mechanisms, we use **masked attention**. In masked attention, we only compute attention coefficients $e_{ij}$ for nodes $j \\in N_i$ where $N_i$ is some neighborhood of node $i$ in the graph.\n",
        "\n",
        "To easily compare coefficients across different nodes, we normalize the coefficients across $j$ using a softmax function:\n",
        "\\begin{equation}\n",
        "\\alpha_{ij} = \\text{softmax}_j(e_{ij}) = \\frac{\\exp(e_{ij})}{\\sum_{k \\in N_i} \\exp(e_{ik})}\n",
        "\\end{equation}\n",
        "\n",
        "For this problem, our attention mechanism $a$ will be a single-layer feedforward neural network parametrized by a weight vectors $\\overrightarrow{a_l} \\in \\mathbb{R}^{F'}$ and $\\overrightarrow{a_r} \\in \\mathbb{R}^{F'}$, followed by a LeakyReLU nonlinearity (with negative input slope 0.2). Let $\\cdot^T$ represent transposition and $||$ represent concatenation. The coefficients computed by our attention mechanism may be expressed as:\n",
        "\n",
        "\\begin{equation}\n",
        "\\alpha_{ij} = \\frac{\\exp\\Big(\\text{LeakyReLU}\\Big(\\overrightarrow{a_l}^T \\mathbf{W_l} \\overrightarrow{h_i} + \\overrightarrow{a_r}^T\\mathbf{W_r}\\overrightarrow{h_j}\\Big)\\Big)}{\\sum_{k\\in N_i} \\exp\\Big(\\text{LeakyReLU}\\Big(\\overrightarrow{a_l}^T \\mathbf{W_l} \\overrightarrow{h_i} + \\overrightarrow{a_r}^T\\mathbf{W_r}\\overrightarrow{h_k}\\Big)\\Big)}\n",
        "\\end{equation}\n",
        "\n",
        "For the following questions, we denote `alpha_l` = $\\alpha_l = [...,\\overrightarrow{a_l}^T \\mathbf{W_l} \\overrightarrow{h_i},...] \\in R^n$ and `alpha_r` = $\\alpha_r = [..., \\overrightarrow{a_r}^T \\mathbf{W_r} \\overrightarrow{h_j}, ...] \\in R^n$.\n",
        "\n",
        "\n",
        "At every layer of GAT, after the attention coefficients are computed for that layer, the aggregation function can be computed by a weighted sum of neighborhood messages, where weights are specified by $\\alpha_{ij}$.\n",
        "\n",
        "Now, we use the normalized attention coefficients to compute a linear combination of the features corresponding to them. These aggregated features will serve as the final output features for every node.\n",
        "\n",
        "\\begin{equation}\n",
        "h_i' = \\sum_{j \\in N_i} \\alpha_{ij} \\mathbf{W_r} \\overrightarrow{h_j}.\n",
        "\\end{equation}\n",
        "\n",
        "At this point, we have covered a lot of information! Before reading further about multi-head attention, we encourage you to go again through the excersize of thinking about what components of the attention mechanism correspond with the different functions: 1) `forward`, 2) `message`, and 3 `aggregate`.\n",
        "\n",
        "- Hint 1: Our aggregation is very similar to that of GraphSage except now we are using sum aggregation\n",
        "- Hint 2: The terms we aggregate over again represent the individual message that each neighbor node j sends. Thus, we see that $\\alpha_{ij}$ is part of the message each node sends and is thus computed during the message step. This makes sense since an attention weight is associated with each edge in the graph.\n",
        "- Hint 3: Look at the terms in the definition of $\\alpha_{ij}$. What values do we want to pre-process and pass as parameters to the `propagate` function. The parameters of `message(..., x_j, alpha_j, alpha_i, ...)` should give a good hint.  \n",
        "\n",
        "### Multi-Head Attention\n",
        "To stabilize the learning process of self-attention, we use multi-head attention. To do this we use $K$ independent attention mechanisms, or ``heads'' compute output features as in the above equations. Then, we concatenate these output feature representations:\n",
        "\n",
        "\\begin{equation}\n",
        "    \\overrightarrow{h_i}' = ||_{k=1}^K \\Big(\\sum_{j \\in N_i} \\alpha_{ij}^{(k)} \\mathbf{W_r}^{(k)} \\overrightarrow{h_j}\\Big)\n",
        "\\end{equation}\n",
        "\n",
        "where $||$ is concentation, $\\alpha_{ij}^{(k)}$ are the normalized attention coefficients computed by the $k$-th attention mechanism $(a^k)$, and $\\mathbf{W}^{(k)}$ is the corresponding input linear transformation's weight matrix. Note that for this setting, $\\mathbf{h'} \\in \\mathbb{R}^{KF'}$."
      ]
    },
    {
      "cell_type": "code",
      "execution_count": 296,
      "metadata": {
        "id": "w4j45gTpCeXO"
      },
      "outputs": [],
      "source": [
        "class GAT(MessagePassing):\n",
        "\n",
        "    def __init__(self, in_channels, out_channels, heads = 2,\n",
        "                 negative_slope = 0.2, dropout = 0., **kwargs):\n",
        "        super(GAT, self).__init__(node_dim=0, **kwargs)\n",
        "\n",
        "        self.in_channels = in_channels\n",
        "        self.out_channels = out_channels\n",
        "        self.heads = heads\n",
        "        self.negative_slope = negative_slope\n",
        "        self.dropout = dropout\n",
        "\n",
        "        self.lin_l = None\n",
        "        self.lin_r = None\n",
        "        self.att_l = None\n",
        "        self.att_r = None\n",
        "\n",
        "        ############################################################################\n",
        "        # TODO: Your code here! \n",
        "        # Define the layers needed for the message functions below.\n",
        "        # self.lin_l is the linear transformation that you apply to embeddings \n",
        "        # BEFORE message passing.\n",
        "        # \n",
        "        # Pay attention to dimensions of the linear layers, since we're using \n",
        "        # multi-head attention.\n",
        "        # Our implementation is ~1 lines, but don't worry if you deviate from this.\n",
        "\n",
        "        ############################################################################\n",
        "\n",
        "        self.lin_r = self.lin_l\n",
        "\n",
        "        ############################################################################\n",
        "        # TODO: Your code here! \n",
        "        # Define the attention parameters \\overrightarrow{a_l/r}^T in the above intro.\n",
        "        # You have to deal with multi-head scenarios.\n",
        "        # Use nn.Parameter instead of nn.Linear\n",
        "        # Our implementation is ~2 lines, but don't worry if you deviate from this.\n",
        "\n",
        "        ############################################################################\n",
        "\n",
        "        self.reset_parameters()\n",
        "\n",
        "    def reset_parameters(self):\n",
        "        nn.init.xavier_uniform_(self.lin_l.weight)\n",
        "        nn.init.xavier_uniform_(self.lin_r.weight)\n",
        "        nn.init.xavier_uniform_(self.att_l)\n",
        "        nn.init.xavier_uniform_(self.att_r)\n",
        "\n",
        "    def forward(self, x, edge_index, size = None):\n",
        "        \n",
        "        H, C = self.heads, self.out_channels\n",
        "\n",
        "        ############################################################################\n",
        "        # TODO: Your code here! \n",
        "        # Implement message passing, as well as any pre- and post-processing (our update rule).\n",
        "        # 1. First apply linear transformation to node embeddings, and split that \n",
        "        #    into multiple heads. We use the same representations for source and\n",
        "        #    target nodes, but apply different linear weights (W_l and W_r)\n",
        "        # 2. Calculate alpha vectors for central nodes (alpha_l) and neighbor nodes (alpha_r).\n",
        "        # 3. Call propagate function to conduct the message passing. \n",
        "        #    3.1 Remember to pass alpha = (alpha_l, alpha_r) as a parameter.\n",
        "        #    3.2 See there for more information: https://pytorch-geometric.readthedocs.io/en/latest/notes/create_gnn.html\n",
        "        # 4. Transform the output back to the shape of [N, H * C].\n",
        "        # Our implementation is ~5 lines, but don't worry if you deviate from this.\n",
        "\n",
        "\n",
        "        ############################################################################\n",
        "\n",
        "        return out\n",
        "\n",
        "\n",
        "    def message(self, x_j, alpha_j, alpha_i, index, ptr, size_i):\n",
        "\n",
        "        ############################################################################\n",
        "        # TODO: Your code here! \n",
        "        # Implement your message function. Putting the attention in message \n",
        "        # instead of in update is a little tricky.\n",
        "        # 1. Calculate the final attention weights using alpha_i and alpha_j,\n",
        "        #    and apply leaky Relu.\n",
        "        # 2. Calculate softmax over the neighbor nodes for all the nodes. Use \n",
        "        #    torch_geometric.utils.softmax instead of the one in Pytorch.\n",
        "        # 3. Apply dropout to attention weights (alpha).\n",
        "        # 4. Multiply embeddings and attention weights. As a sanity check, the output\n",
        "        #    should be of shape [E, H, C].\n",
        "        # 5. ptr (LongTensor, optional): If given, computes the softmax based on\n",
        "        #    sorted inputs in CSR representation. You can simply pass it to softmax.\n",
        "        # Our implementation is ~4-5 lines, but don't worry if you deviate from this.\n",
        "\n",
        "\n",
        "        ############################################################################\n",
        "\n",
        "        return out\n",
        "\n",
        "\n",
        "    def aggregate(self, inputs, index, dim_size = None):\n",
        "\n",
        "        ############################################################################\n",
        "        # TODO: Your code here! \n",
        "        # Implement your aggregate function here.\n",
        "        # See here as how to use torch_scatter.scatter: https://pytorch-scatter.readthedocs.io/en/latest/_modules/torch_scatter/scatter.html\n",
        "        # Pay attention to \"reduce\" parameter is different from that in GraphSage.\n",
        "        # Our implementation is ~1 lines, but don't worry if you deviate from this.\n",
        "\n",
        "        ############################################################################\n",
        "    \n",
        "        return out"
      ]
    },
    {
      "attachments": {},
      "cell_type": "markdown",
      "metadata": {
        "id": "V2dkgSuWCheU"
      },
      "source": [
        "## Building Optimizers\n",
        "\n",
        "This function has been implemented for you. **For grading purposes please use the default Adam optimizer**, but feel free to play with other types of optimizers on your own."
      ]
    },
    {
      "cell_type": "code",
      "execution_count": 297,
      "metadata": {
        "id": "f_TIQ8NPCjBP"
      },
      "outputs": [],
      "source": [
        "import torch.optim as optim\n",
        "\n",
        "def build_optimizer(args, params):\n",
        "    weight_decay = args.weight_decay\n",
        "    filter_fn = filter(lambda p : p.requires_grad, params)\n",
        "    if args.opt == 'adam':\n",
        "        optimizer = optim.Adam(filter_fn, lr=args.lr, weight_decay=weight_decay)\n",
        "    elif args.opt == 'sgd':\n",
        "        optimizer = optim.SGD(filter_fn, lr=args.lr, momentum=0.95, weight_decay=weight_decay)\n",
        "    elif args.opt == 'rmsprop':\n",
        "        optimizer = optim.RMSprop(filter_fn, lr=args.lr, weight_decay=weight_decay)\n",
        "    elif args.opt == 'adagrad':\n",
        "        optimizer = optim.Adagrad(filter_fn, lr=args.lr, weight_decay=weight_decay)\n",
        "    if args.opt_scheduler == 'none':\n",
        "        return None, optimizer\n",
        "    elif args.opt_scheduler == 'step':\n",
        "        scheduler = optim.lr_scheduler.StepLR(optimizer, step_size=args.opt_decay_step, gamma=args.opt_decay_rate)\n",
        "    elif args.opt_scheduler == 'cos':\n",
        "        scheduler = optim.lr_scheduler.CosineAnnealingLR(optimizer, T_max=args.opt_restart)\n",
        "    return scheduler, optimizer"
      ]
    },
    {
      "attachments": {},
      "cell_type": "markdown",
      "metadata": {
        "id": "hBYdWFwYCkwY"
      },
      "source": [
        "## Training and Testing\n",
        "\n",
        "Here we provide you with the functions to train and test. **Please do not modify this part for grading purposes.**"
      ]
    },
    {
      "cell_type": "code",
      "execution_count": 298,
      "metadata": {
        "id": "_tZMWRc8CmGg"
      },
      "outputs": [],
      "source": [
        "import time\n",
        "\n",
        "import networkx as nx\n",
        "import numpy as np\n",
        "import torch\n",
        "import torch.optim as optim\n",
        "from tqdm import trange\n",
        "import pandas as pd\n",
        "import copy\n",
        "\n",
        "from torch_geometric.datasets import TUDataset\n",
        "from torch_geometric.datasets import Planetoid\n",
        "from torch_geometric.data import DataLoader\n",
        "\n",
        "import torch_geometric.nn as pyg_nn\n",
        "\n",
        "import matplotlib.pyplot as plt\n",
        "\n",
        "\n",
        "def train(dataset, args):\n",
        "\n",
        "    print(\"Node task. test set size:\", np.sum(dataset[0]['test_mask'].numpy()))\n",
        "    print()\n",
        "    test_loader = loader = DataLoader(dataset, batch_size=args.batch_size, shuffle=False)\n",
        "\n",
        "    # build model\n",
        "    model = GNNStack(dataset.num_node_features, args.hidden_dim, dataset.num_classes,\n",
        "                            args)\n",
        "    scheduler, opt = build_optimizer(args, model.parameters())\n",
        "\n",
        "    # train\n",
        "    losses = []\n",
        "    test_accs = []\n",
        "    best_acc = 0\n",
        "    best_model = None\n",
        "    for epoch in trange(args.epochs, desc=\"Training\", unit=\"Epochs\"):\n",
        "        total_loss = 0\n",
        "        model.train()\n",
        "        for batch in loader:\n",
        "            opt.zero_grad()\n",
        "            pred = model(batch)\n",
        "            label = batch.y\n",
        "            pred = pred[batch.train_mask]\n",
        "            label = label[batch.train_mask]\n",
        "            loss = model.loss(pred, label)\n",
        "            loss.backward()\n",
        "            opt.step()\n",
        "            total_loss += loss.item() * batch.num_graphs\n",
        "        total_loss /= len(loader.dataset)\n",
        "        losses.append(total_loss)\n",
        "\n",
        "        if epoch % 10 == 0:\n",
        "          test_acc = test(test_loader, model)\n",
        "          test_accs.append(test_acc)\n",
        "          if test_acc > best_acc:\n",
        "            best_acc = test_acc\n",
        "            best_model = copy.deepcopy(model)\n",
        "        else:\n",
        "          test_accs.append(test_accs[-1])\n",
        "\n",
        "    return test_accs, losses, best_model, best_acc, test_loader\n",
        "\n",
        "def test(loader, test_model, is_validation=False, save_model_preds=False, model_type=None):\n",
        "    test_model.eval()\n",
        "\n",
        "    correct = 0\n",
        "    # Note that Cora is only one graph!\n",
        "    for data in loader:\n",
        "        with torch.no_grad():\n",
        "            # max(dim=1) returns values, indices tuple; only need indices\n",
        "            pred = test_model(data).max(dim=1)[1]\n",
        "            label = data.y\n",
        "\n",
        "        mask = data.val_mask if is_validation else data.test_mask\n",
        "        # node classification: only evaluate on nodes in test set\n",
        "        pred = pred[mask]\n",
        "        label = label[mask]\n",
        "\n",
        "        if save_model_preds:\n",
        "          print (\"Saving Model Predictions for Model Type\", model_type)\n",
        "\n",
        "          data = {}\n",
        "          data['pred'] = pred.view(-1).cpu().detach().numpy()\n",
        "          data['label'] = label.view(-1).cpu().detach().numpy()\n",
        "\n",
        "          df = pd.DataFrame(data=data)\n",
        "          # Save locally as csv\n",
        "          df.to_csv('CORA-Node-' + model_type + '.csv', sep=',', index=False)\n",
        "\n",
        "        correct += pred.eq(label).sum().item()\n",
        "\n",
        "    total = 0\n",
        "    for data in loader.dataset:\n",
        "        total += torch.sum(data.val_mask if is_validation else data.test_mask).item()\n",
        "\n",
        "    return correct / total\n",
        "\n",
        "class objectview(object):\n",
        "    def __init__(self, d):\n",
        "        self.__dict__ = d\n"
      ]
    },
    {
      "attachments": {},
      "cell_type": "markdown",
      "metadata": {
        "id": "L7-h7jIsCns4"
      },
      "source": [
        "## Let's Start the Training!\n",
        "\n",
        "We will be working on the CORA dataset on node-level classification.\n",
        "\n",
        "This part is implemented for you. **For grading purposes, please do not modify the default parameters.** However, feel free to play with different configurations just for fun! Training with default parameters on the GPU runtime should take less than 5 minutes.\n",
        "\n",
        "**Submit your best accuracy on Gradescope.**"
      ]
    },
    {
      "cell_type": "code",
      "execution_count": 299,
      "metadata": {
        "id": "qe9B45l9Cpz2"
      },
      "outputs": [
        {
          "name": "stdout",
          "output_type": "stream",
          "text": [
            "Node task. test set size: 1000\n",
            "\n"
          ]
        },
        {
          "name": "stderr",
          "output_type": "stream",
          "text": [
            "Training:   0%|          | 1/500 [00:00<01:22,  6.02Epochs/s]"
          ]
        },
        {
          "name": "stdout",
          "output_type": "stream",
          "text": [
            "out shape from message function should be [E, H, C]: torch.Size([10556, 2, 32])\n",
            "out shape from message function should be [E, H, C]: torch.Size([10556, 2, 32])\n",
            "out shape from message function should be [E, H, C]: torch.Size([10556, 2, 32])\n",
            "out shape from message function should be [E, H, C]: torch.Size([10556, 2, 32])\n",
            "out shape from message function should be [E, H, C]: torch.Size([10556, 2, 32])"
          ]
        },
        {
          "name": "stderr",
          "output_type": "stream",
          "text": [
            "Training:   0%|          | 2/500 [00:00<01:13,  6.80Epochs/s]"
          ]
        },
        {
          "name": "stdout",
          "output_type": "stream",
          "text": [
            "\n",
            "out shape from message function should be [E, H, C]: torch.Size([10556, 2, 32])\n",
            "out shape from message function should be [E, H, C]: torch.Size([10556, 2, 32])\n",
            "out shape from message function should be [E, H, C]: torch.Size([10556, 2, 32])\n"
          ]
        },
        {
          "name": "stderr",
          "output_type": "stream",
          "text": [
            "Training:   1%|          | 3/500 [00:00<01:18,  6.32Epochs/s]"
          ]
        },
        {
          "name": "stdout",
          "output_type": "stream",
          "text": [
            "out shape from message function should be [E, H, C]: torch.Size([10556, 2, 32])\n",
            "out shape from message function should be [E, H, C]: torch.Size([10556, 2, 32])\n"
          ]
        },
        {
          "name": "stderr",
          "output_type": "stream",
          "text": [
            "Training:   1%|          | 5/500 [00:00<01:23,  5.94Epochs/s]"
          ]
        },
        {
          "name": "stdout",
          "output_type": "stream",
          "text": [
            "out shape from message function should be [E, H, C]: torch.Size([10556, 2, 32])\n",
            "out shape from message function should be [E, H, C]: torch.Size([10556, 2, 32])\n",
            "out shape from message function should be [E, H, C]: torch.Size([10556, 2, 32])\n",
            "out shape from message function should be [E, H, C]: torch.Size([10556, 2, 32])\n"
          ]
        },
        {
          "name": "stderr",
          "output_type": "stream",
          "text": [
            "Training:   1%|▏         | 7/500 [00:01<01:12,  6.84Epochs/s]"
          ]
        },
        {
          "name": "stdout",
          "output_type": "stream",
          "text": [
            "out shape from message function should be [E, H, C]: torch.Size([10556, 2, 32])\n",
            "out shape from message function should be [E, H, C]: torch.Size([10556, 2, 32])\n",
            "out shape from message function should be [E, H, C]: torch.Size([10556, 2, 32])\n",
            "out shape from message function should be [E, H, C]: torch.Size([10556, 2, 32])\n"
          ]
        },
        {
          "name": "stderr",
          "output_type": "stream",
          "text": [
            "Training:   2%|▏         | 9/500 [00:01<01:06,  7.36Epochs/s]"
          ]
        },
        {
          "name": "stdout",
          "output_type": "stream",
          "text": [
            "out shape from message function should be [E, H, C]: torch.Size([10556, 2, 32])\n",
            "out shape from message function should be [E, H, C]: torch.Size([10556, 2, 32])\n",
            "out shape from message function should be [E, H, C]: torch.Size([10556, 2, 32])\n",
            "out shape from message function should be [E, H, C]: torch.Size([10556, 2, 32])\n"
          ]
        },
        {
          "name": "stderr",
          "output_type": "stream",
          "text": [
            "Training:   2%|▏         | 11/500 [00:01<01:13,  6.67Epochs/s]"
          ]
        },
        {
          "name": "stdout",
          "output_type": "stream",
          "text": [
            "out shape from message function should be [E, H, C]: torch.Size([10556, 2, 32])\n",
            "out shape from message function should be [E, H, C]: torch.Size([10556, 2, 32])\n",
            "out shape from message function should be [E, H, C]: torch.Size([10556, 2, 32])\n",
            "out shape from message function should be [E, H, C]: torch.Size([10556, 2, 32])\n",
            "out shape from message function should be [E, H, C]: torch.Size([10556, 2, 32])\n",
            "out shape from message function should be [E, H, C]: torch.Size([10556, 2, 32])\n"
          ]
        },
        {
          "name": "stderr",
          "output_type": "stream",
          "text": [
            "Training:   3%|▎         | 13/500 [00:01<01:08,  7.15Epochs/s]"
          ]
        },
        {
          "name": "stdout",
          "output_type": "stream",
          "text": [
            "out shape from message function should be [E, H, C]: torch.Size([10556, 2, 32])\n",
            "out shape from message function should be [E, H, C]: torch.Size([10556, 2, 32])\n",
            "out shape from message function should be [E, H, C]: torch.Size([10556, 2, 32])\n",
            "out shape from message function should be [E, H, C]: torch.Size([10556, 2, 32])\n"
          ]
        },
        {
          "name": "stderr",
          "output_type": "stream",
          "text": [
            "Training:   3%|▎         | 15/500 [00:02<01:09,  7.00Epochs/s]"
          ]
        },
        {
          "name": "stdout",
          "output_type": "stream",
          "text": [
            "out shape from message function should be [E, H, C]: torch.Size([10556, 2, 32])\n",
            "out shape from message function should be [E, H, C]: torch.Size([10556, 2, 32])\n",
            "out shape from message function should be [E, H, C]: torch.Size([10556, 2, 32])\n",
            "out shape from message function should be [E, H, C]: torch.Size([10556, 2, 32])\n"
          ]
        },
        {
          "name": "stderr",
          "output_type": "stream",
          "text": [
            "Training:   3%|▎         | 17/500 [00:02<01:02,  7.73Epochs/s]"
          ]
        },
        {
          "name": "stdout",
          "output_type": "stream",
          "text": [
            "out shape from message function should be [E, H, C]: torch.Size([10556, 2, 32])\n",
            "out shape from message function should be [E, H, C]: torch.Size([10556, 2, 32])\n",
            "out shape from message function should be [E, H, C]: torch.Size([10556, 2, 32])\n",
            "out shape from message function should be [E, H, C]: torch.Size([10556, 2, 32])\n"
          ]
        },
        {
          "name": "stderr",
          "output_type": "stream",
          "text": [
            "Training:   4%|▍         | 19/500 [00:02<00:59,  8.02Epochs/s]"
          ]
        },
        {
          "name": "stdout",
          "output_type": "stream",
          "text": [
            "out shape from message function should be [E, H, C]: torch.Size([10556, 2, 32])\n",
            "out shape from message function should be [E, H, C]: torch.Size([10556, 2, 32])\n",
            "out shape from message function should be [E, H, C]: torch.Size([10556, 2, 32])\n",
            "out shape from message function should be [E, H, C]: torch.Size([10556, 2, 32])\n"
          ]
        },
        {
          "name": "stderr",
          "output_type": "stream",
          "text": [
            "Training:   4%|▍         | 21/500 [00:03<01:08,  7.03Epochs/s]"
          ]
        },
        {
          "name": "stdout",
          "output_type": "stream",
          "text": [
            "out shape from message function should be [E, H, C]: torch.Size([10556, 2, 32])\n",
            "out shape from message function should be [E, H, C]: torch.Size([10556, 2, 32])\n",
            "out shape from message function should be [E, H, C]: torch.Size([10556, 2, 32])\n",
            "out shape from message function should be [E, H, C]: torch.Size([10556, 2, 32])\n",
            "out shape from message function should be [E, H, C]: torch.Size([10556, 2, 32])\n",
            "out shape from message function should be [E, H, C]: torch.Size([10556, 2, 32])\n"
          ]
        },
        {
          "name": "stderr",
          "output_type": "stream",
          "text": [
            "Training:   5%|▍         | 23/500 [00:03<01:04,  7.39Epochs/s]"
          ]
        },
        {
          "name": "stdout",
          "output_type": "stream",
          "text": [
            "out shape from message function should be [E, H, C]: torch.Size([10556, 2, 32])\n",
            "out shape from message function should be [E, H, C]: torch.Size([10556, 2, 32])\n"
          ]
        },
        {
          "name": "stderr",
          "output_type": "stream",
          "text": [
            "Training:   5%|▍         | 24/500 [00:03<01:11,  6.70Epochs/s]"
          ]
        },
        {
          "name": "stdout",
          "output_type": "stream",
          "text": [
            "out shape from message function should be [E, H, C]: torch.Size([10556, 2, 32])\n",
            "out shape from message function should be [E, H, C]: torch.Size([10556, 2, 32])\n",
            "out shape from message function should be [E, H, C]: torch.Size([10556, 2, 32])\n",
            "out shape from message function should be [E, H, C]: torch.Size([10556, 2, 32])\n"
          ]
        },
        {
          "name": "stderr",
          "output_type": "stream",
          "text": [
            "Training:   5%|▌         | 26/500 [00:03<01:08,  6.96Epochs/s]"
          ]
        },
        {
          "name": "stdout",
          "output_type": "stream",
          "text": [
            "out shape from message function should be [E, H, C]: torch.Size([10556, 2, 32])\n",
            "out shape from message function should be [E, H, C]: torch.Size([10556, 2, 32])\n",
            "out shape from message function should be [E, H, C]: torch.Size([10556, 2, 32])\n",
            "out shape from message function should be [E, H, C]: torch.Size([10556, 2, 32])\n"
          ]
        },
        {
          "name": "stderr",
          "output_type": "stream",
          "text": [
            "Training:   6%|▌         | 28/500 [00:03<01:01,  7.66Epochs/s]"
          ]
        },
        {
          "name": "stdout",
          "output_type": "stream",
          "text": [
            "out shape from message function should be [E, H, C]: torch.Size([10556, 2, 32])\n",
            "out shape from message function should be [E, H, C]: torch.Size([10556, 2, 32])\n",
            "out shape from message function should be [E, H, C]: torch.Size([10556, 2, 32])\n",
            "out shape from message function should be [E, H, C]: torch.Size([10556, 2, 32])\n"
          ]
        },
        {
          "name": "stderr",
          "output_type": "stream",
          "text": [
            "Training:   6%|▌         | 30/500 [00:04<00:58,  7.97Epochs/s]"
          ]
        },
        {
          "name": "stdout",
          "output_type": "stream",
          "text": [
            "out shape from message function should be [E, H, C]: torch.Size([10556, 2, 32])\n",
            "out shape from message function should be [E, H, C]: torch.Size([10556, 2, 32])\n",
            "out shape from message function should be [E, H, C]: torch.Size([10556, 2, 32])\n",
            "out shape from message function should be [E, H, C]: torch.Size([10556, 2, 32])\n"
          ]
        },
        {
          "name": "stderr",
          "output_type": "stream",
          "text": [
            "Training:   6%|▋         | 32/500 [00:04<01:03,  7.36Epochs/s]"
          ]
        },
        {
          "name": "stdout",
          "output_type": "stream",
          "text": [
            "out shape from message function should be [E, H, C]: torch.Size([10556, 2, 32])\n",
            "out shape from message function should be [E, H, C]: torch.Size([10556, 2, 32])\n",
            "out shape from message function should be [E, H, C]: torch.Size([10556, 2, 32])\n",
            "out shape from message function should be [E, H, C]: torch.Size([10556, 2, 32])\n",
            "out shape from message function should be [E, H, C]: torch.Size([10556, 2, 32])\n"
          ]
        },
        {
          "name": "stderr",
          "output_type": "stream",
          "text": [
            "Training:   7%|▋         | 33/500 [00:04<01:02,  7.43Epochs/s]"
          ]
        },
        {
          "name": "stdout",
          "output_type": "stream",
          "text": [
            "out shape from message function should be [E, H, C]: torch.Size([10556, 2, 32])\n",
            "out shape from message function should be [E, H, C]: torch.Size([10556, 2, 32])\n",
            "out shape from message function should be [E, H, C]: torch.Size([10556, 2, 32])\n"
          ]
        },
        {
          "name": "stderr",
          "output_type": "stream",
          "text": [
            "Training:   7%|▋         | 35/500 [00:04<01:09,  6.66Epochs/s]"
          ]
        },
        {
          "name": "stdout",
          "output_type": "stream",
          "text": [
            "out shape from message function should be [E, H, C]: torch.Size([10556, 2, 32])\n",
            "out shape from message function should be [E, H, C]: torch.Size([10556, 2, 32])\n",
            "out shape from message function should be [E, H, C]: torch.Size([10556, 2, 32])\n",
            "out shape from message function should be [E, H, C]: torch.Size([10556, 2, 32])\n"
          ]
        },
        {
          "name": "stderr",
          "output_type": "stream",
          "text": [
            "Training:   7%|▋         | 37/500 [00:05<01:02,  7.38Epochs/s]"
          ]
        },
        {
          "name": "stdout",
          "output_type": "stream",
          "text": [
            "out shape from message function should be [E, H, C]: torch.Size([10556, 2, 32])\n",
            "out shape from message function should be [E, H, C]: torch.Size([10556, 2, 32])\n",
            "out shape from message function should be [E, H, C]: torch.Size([10556, 2, 32])\n",
            "out shape from message function should be [E, H, C]: torch.Size([10556, 2, 32])\n"
          ]
        },
        {
          "name": "stderr",
          "output_type": "stream",
          "text": [
            "Training:   8%|▊         | 39/500 [00:05<01:07,  6.85Epochs/s]"
          ]
        },
        {
          "name": "stdout",
          "output_type": "stream",
          "text": [
            "out shape from message function should be [E, H, C]: torch.Size([10556, 2, 32])\n",
            "out shape from message function should be [E, H, C]: torch.Size([10556, 2, 32])\n",
            "out shape from message function should be [E, H, C]: torch.Size([10556, 2, 32])\n",
            "out shape from message function should be [E, H, C]: torch.Size([10556, 2, 32])\n"
          ]
        },
        {
          "name": "stderr",
          "output_type": "stream",
          "text": [
            "Training:   8%|▊         | 41/500 [00:05<01:09,  6.59Epochs/s]"
          ]
        },
        {
          "name": "stdout",
          "output_type": "stream",
          "text": [
            "out shape from message function should be [E, H, C]: torch.Size([10556, 2, 32])\n",
            "out shape from message function should be [E, H, C]: torch.Size([10556, 2, 32])\n",
            "out shape from message function should be [E, H, C]: torch.Size([10556, 2, 32])\n",
            "out shape from message function should be [E, H, C]: torch.Size([10556, 2, 32])\n",
            "out shape from message function should be [E, H, C]: torch.Size([10556, 2, 32])\n",
            "out shape from message function should be [E, H, C]: torch.Size([10556, 2, 32])\n"
          ]
        },
        {
          "name": "stderr",
          "output_type": "stream",
          "text": [
            "Training:   9%|▊         | 43/500 [00:06<01:02,  7.35Epochs/s]"
          ]
        },
        {
          "name": "stdout",
          "output_type": "stream",
          "text": [
            "out shape from message function should be [E, H, C]: torch.Size([10556, 2, 32])\n",
            "out shape from message function should be [E, H, C]: torch.Size([10556, 2, 32])\n",
            "out shape from message function should be [E, H, C]: torch.Size([10556, 2, 32])\n",
            "out shape from message function should be [E, H, C]: torch.Size([10556, 2, 32])\n"
          ]
        },
        {
          "name": "stderr",
          "output_type": "stream",
          "text": [
            "Training:   9%|▉         | 45/500 [00:06<00:58,  7.74Epochs/s]"
          ]
        },
        {
          "name": "stdout",
          "output_type": "stream",
          "text": [
            "out shape from message function should be [E, H, C]: torch.Size([10556, 2, 32])\n",
            "out shape from message function should be [E, H, C]: torch.Size([10556, 2, 32])\n"
          ]
        },
        {
          "name": "stderr",
          "output_type": "stream",
          "text": [
            "Training:   9%|▉         | 46/500 [00:06<01:08,  6.62Epochs/s]"
          ]
        },
        {
          "name": "stdout",
          "output_type": "stream",
          "text": [
            "out shape from message function should be [E, H, C]: torch.Size([10556, 2, 32])\n",
            "out shape from message function should be [E, H, C]: torch.Size([10556, 2, 32])\n",
            "out shape from message function should be [E, H, C]: torch.Size([10556, 2, 32])\n",
            "out shape from message function should be [E, H, C]: torch.Size([10556, 2, 32])\n"
          ]
        },
        {
          "name": "stderr",
          "output_type": "stream",
          "text": [
            "Training:  10%|▉         | 48/500 [00:06<01:03,  7.11Epochs/s]"
          ]
        },
        {
          "name": "stdout",
          "output_type": "stream",
          "text": [
            "out shape from message function should be [E, H, C]: torch.Size([10556, 2, 32])\n",
            "out shape from message function should be [E, H, C]: torch.Size([10556, 2, 32])\n",
            "out shape from message function should be [E, H, C]: torch.Size([10556, 2, 32])\n",
            "out shape from message function should be [E, H, C]: torch.Size([10556, 2, 32])\n"
          ]
        },
        {
          "name": "stderr",
          "output_type": "stream",
          "text": [
            "Training:  10%|█         | 50/500 [00:06<01:00,  7.44Epochs/s]"
          ]
        },
        {
          "name": "stdout",
          "output_type": "stream",
          "text": [
            "out shape from message function should be [E, H, C]: torch.Size([10556, 2, 32])\n",
            "out shape from message function should be [E, H, C]: torch.Size([10556, 2, 32])\n",
            "out shape from message function should be [E, H, C]: torch.Size([10556, 2, 32])\n",
            "out shape from message function should be [E, H, C]: torch.Size([10556, 2, 32])\n"
          ]
        },
        {
          "name": "stderr",
          "output_type": "stream",
          "text": [
            "Training:  10%|█         | 52/500 [00:07<01:04,  6.97Epochs/s]"
          ]
        },
        {
          "name": "stdout",
          "output_type": "stream",
          "text": [
            "out shape from message function should be [E, H, C]: torch.Size([10556, 2, 32])\n",
            "out shape from message function should be [E, H, C]: torch.Size([10556, 2, 32])\n",
            "out shape from message function should be [E, H, C]: torch.Size([10556, 2, 32])\n",
            "out shape from message function should be [E, H, C]: torch.Size([10556, 2, 32])\n",
            "out shape from message function should be [E, H, C]: torch.Size([10556, 2, 32])\n"
          ]
        },
        {
          "name": "stderr",
          "output_type": "stream",
          "text": [
            "Training:  11%|█         | 53/500 [00:07<01:02,  7.10Epochs/s]"
          ]
        },
        {
          "name": "stdout",
          "output_type": "stream",
          "text": [
            "out shape from message function should be [E, H, C]: torch.Size([10556, 2, 32])\n",
            "out shape from message function should be [E, H, C]: torch.Size([10556, 2, 32])\n",
            "out shape from message function should be [E, H, C]: torch.Size([10556, 2, 32])\n"
          ]
        },
        {
          "name": "stderr",
          "output_type": "stream",
          "text": [
            "Training:  11%|█         | 55/500 [00:07<01:08,  6.47Epochs/s]"
          ]
        },
        {
          "name": "stdout",
          "output_type": "stream",
          "text": [
            "out shape from message function should be [E, H, C]: torch.Size([10556, 2, 32])\n",
            "out shape from message function should be [E, H, C]: torch.Size([10556, 2, 32])\n",
            "out shape from message function should be [E, H, C]: torch.Size([10556, 2, 32])\n",
            "out shape from message function should be [E, H, C]: torch.Size([10556, 2, 32])\n"
          ]
        },
        {
          "name": "stderr",
          "output_type": "stream",
          "text": [
            "Training:  11%|█▏        | 57/500 [00:08<01:02,  7.07Epochs/s]"
          ]
        },
        {
          "name": "stdout",
          "output_type": "stream",
          "text": [
            "out shape from message function should be [E, H, C]: torch.Size([10556, 2, 32])\n",
            "out shape from message function should be [E, H, C]: torch.Size([10556, 2, 32])\n",
            "out shape from message function should be [E, H, C]: torch.Size([10556, 2, 32])\n",
            "out shape from message function should be [E, H, C]: torch.Size([10556, 2, 32])\n"
          ]
        },
        {
          "name": "stderr",
          "output_type": "stream",
          "text": [
            "Training:  12%|█▏        | 59/500 [00:08<00:58,  7.52Epochs/s]"
          ]
        },
        {
          "name": "stdout",
          "output_type": "stream",
          "text": [
            "out shape from message function should be [E, H, C]: torch.Size([10556, 2, 32])\n",
            "out shape from message function should be [E, H, C]: torch.Size([10556, 2, 32])\n",
            "out shape from message function should be [E, H, C]: torch.Size([10556, 2, 32])\n",
            "out shape from message function should be [E, H, C]: torch.Size([10556, 2, 32])\n"
          ]
        },
        {
          "name": "stderr",
          "output_type": "stream",
          "text": [
            "Training:  12%|█▏        | 61/500 [00:08<01:04,  6.85Epochs/s]"
          ]
        },
        {
          "name": "stdout",
          "output_type": "stream",
          "text": [
            "out shape from message function should be [E, H, C]: torch.Size([10556, 2, 32])\n",
            "out shape from message function should be [E, H, C]: torch.Size([10556, 2, 32])\n",
            "out shape from message function should be [E, H, C]: torch.Size([10556, 2, 32])\n",
            "out shape from message function should be [E, H, C]: torch.Size([10556, 2, 32])\n",
            "out shape from message function should be [E, H, C]: torch.Size([10556, 2, 32])\n",
            "out shape from message function should be [E, H, C]: torch.Size([10556, 2, 32])\n"
          ]
        },
        {
          "name": "stderr",
          "output_type": "stream",
          "text": [
            "Training:  13%|█▎        | 63/500 [00:08<01:07,  6.45Epochs/s]"
          ]
        },
        {
          "name": "stdout",
          "output_type": "stream",
          "text": [
            "out shape from message function should be [E, H, C]: torch.Size([10556, 2, 32])\n",
            "out shape from message function should be [E, H, C]: torch.Size([10556, 2, 32])\n"
          ]
        },
        {
          "name": "stderr",
          "output_type": "stream",
          "text": [
            "Training:  13%|█▎        | 64/500 [00:09<01:04,  6.78Epochs/s]"
          ]
        },
        {
          "name": "stdout",
          "output_type": "stream",
          "text": [
            "out shape from message function should be [E, H, C]: torch.Size([10556, 2, 32])\n",
            "out shape from message function should be [E, H, C]: torch.Size([10556, 2, 32])\n",
            "out shape from message function should be [E, H, C]: torch.Size([10556, 2, 32])\n",
            "out shape from message function should be [E, H, C]: torch.Size([10556, 2, 32])\n"
          ]
        },
        {
          "name": "stderr",
          "output_type": "stream",
          "text": [
            "Training:  13%|█▎        | 66/500 [00:09<01:01,  7.09Epochs/s]"
          ]
        },
        {
          "name": "stdout",
          "output_type": "stream",
          "text": [
            "out shape from message function should be [E, H, C]: torch.Size([10556, 2, 32])\n",
            "out shape from message function should be [E, H, C]: torch.Size([10556, 2, 32])\n",
            "out shape from message function should be [E, H, C]: torch.Size([10556, 2, 32])\n",
            "out shape from message function should be [E, H, C]: torch.Size([10556, 2, 32])\n"
          ]
        },
        {
          "name": "stderr",
          "output_type": "stream",
          "text": [
            "Training:  14%|█▎        | 68/500 [00:09<00:58,  7.35Epochs/s]"
          ]
        },
        {
          "name": "stdout",
          "output_type": "stream",
          "text": [
            "out shape from message function should be [E, H, C]: torch.Size([10556, 2, 32])\n",
            "out shape from message function should be [E, H, C]: torch.Size([10556, 2, 32])\n",
            "out shape from message function should be [E, H, C]: torch.Size([10556, 2, 32])\n",
            "out shape from message function should be [E, H, C]: torch.Size([10556, 2, 32])\n"
          ]
        },
        {
          "name": "stderr",
          "output_type": "stream",
          "text": [
            "Training:  14%|█▍        | 70/500 [00:09<00:56,  7.56Epochs/s]"
          ]
        },
        {
          "name": "stdout",
          "output_type": "stream",
          "text": [
            "out shape from message function should be [E, H, C]: torch.Size([10556, 2, 32])\n",
            "out shape from message function should be [E, H, C]: torch.Size([10556, 2, 32])\n",
            "out shape from message function should be [E, H, C]: torch.Size([10556, 2, 32])\n",
            "out shape from message function should be [E, H, C]: torch.Size([10556, 2, 32])\n"
          ]
        },
        {
          "name": "stderr",
          "output_type": "stream",
          "text": [
            "Training:  14%|█▍        | 71/500 [00:10<01:02,  6.85Epochs/s]"
          ]
        },
        {
          "name": "stdout",
          "output_type": "stream",
          "text": [
            "out shape from message function should be [E, H, C]: torch.Size([10556, 2, 32])\n",
            "out shape from message function should be [E, H, C]: torch.Size([10556, 2, 32])\n",
            "out shape from message function should be [E, H, C]: torch.Size([10556, 2, 32])\n",
            "out shape from message function should be [E, H, C]: torch.Size([10556, 2, 32])\n"
          ]
        },
        {
          "name": "stderr",
          "output_type": "stream",
          "text": [
            "Training:  15%|█▍        | 73/500 [00:10<01:04,  6.59Epochs/s]"
          ]
        },
        {
          "name": "stdout",
          "output_type": "stream",
          "text": [
            "out shape from message function should be [E, H, C]: torch.Size([10556, 2, 32])\n",
            "out shape from message function should be [E, H, C]: torch.Size([10556, 2, 32])\n",
            "out shape from message function should be [E, H, C]: torch.Size([10556, 2, 32])\n"
          ]
        },
        {
          "name": "stderr",
          "output_type": "stream",
          "text": [
            "Training:  15%|█▍        | 74/500 [00:10<01:09,  6.13Epochs/s]"
          ]
        },
        {
          "name": "stdout",
          "output_type": "stream",
          "text": [
            "out shape from message function should be [E, H, C]: torch.Size([10556, 2, 32])\n",
            "out shape from message function should be [E, H, C]: torch.Size([10556, 2, 32])\n",
            "out shape from message function should be [E, H, C]: torch.Size([10556, 2, 32])\n"
          ]
        },
        {
          "name": "stderr",
          "output_type": "stream",
          "text": [
            "Training:  15%|█▌        | 76/500 [00:10<01:01,  6.84Epochs/s]"
          ]
        },
        {
          "name": "stdout",
          "output_type": "stream",
          "text": [
            "out shape from message function should be [E, H, C]: torch.Size([10556, 2, 32])\n",
            "out shape from message function should be [E, H, C]: torch.Size([10556, 2, 32])\n",
            "out shape from message function should be [E, H, C]: torch.Size([10556, 2, 32])\n",
            "out shape from message function should be [E, H, C]: torch.Size([10556, 2, 32])\n"
          ]
        },
        {
          "name": "stderr",
          "output_type": "stream",
          "text": [
            "Training:  16%|█▌        | 78/500 [00:11<00:56,  7.51Epochs/s]"
          ]
        },
        {
          "name": "stdout",
          "output_type": "stream",
          "text": [
            "out shape from message function should be [E, H, C]: torch.Size([10556, 2, 32])\n",
            "out shape from message function should be [E, H, C]: torch.Size([10556, 2, 32])\n",
            "out shape from message function should be [E, H, C]: torch.Size([10556, 2, 32])\n",
            "out shape from message function should be [E, H, C]: torch.Size([10556, 2, 32])\n"
          ]
        },
        {
          "name": "stderr",
          "output_type": "stream",
          "text": [
            "Training:  16%|█▌        | 80/500 [00:11<01:00,  6.97Epochs/s]"
          ]
        },
        {
          "name": "stdout",
          "output_type": "stream",
          "text": [
            "out shape from message function should be [E, H, C]: torch.Size([10556, 2, 32])\n",
            "out shape from message function should be [E, H, C]: torch.Size([10556, 2, 32])\n",
            "out shape from message function should be [E, H, C]: torch.Size([10556, 2, 32])\n"
          ]
        },
        {
          "name": "stderr",
          "output_type": "stream",
          "text": [
            "Training:  16%|█▌        | 81/500 [00:11<01:05,  6.36Epochs/s]"
          ]
        },
        {
          "name": "stdout",
          "output_type": "stream",
          "text": [
            "out shape from message function should be [E, H, C]: torch.Size([10556, 2, 32])\n",
            "out shape from message function should be [E, H, C]: torch.Size([10556, 2, 32])\n",
            "out shape from message function should be [E, H, C]: torch.Size([10556, 2, 32])\n",
            "out shape from message function should be [E, H, C]: torch.Size([10556, 2, 32])\n",
            "out shape from message function should be [E, H, C]: torch.Size([10556, 2, 32])\n"
          ]
        },
        {
          "name": "stderr",
          "output_type": "stream",
          "text": [
            "Training:  17%|█▋        | 83/500 [00:11<00:57,  7.30Epochs/s]"
          ]
        },
        {
          "name": "stdout",
          "output_type": "stream",
          "text": [
            "out shape from message function should be [E, H, C]: torch.Size([10556, 2, 32])\n",
            "out shape from message function should be [E, H, C]: torch.Size([10556, 2, 32])\n",
            "out shape from message function should be [E, H, C]: torch.Size([10556, 2, 32])\n",
            "out shape from message function should be [E, H, C]: torch.Size([10556, 2, 32])\n"
          ]
        },
        {
          "name": "stderr",
          "output_type": "stream",
          "text": [
            "Training:  17%|█▋        | 85/500 [00:11<00:54,  7.58Epochs/s]"
          ]
        },
        {
          "name": "stdout",
          "output_type": "stream",
          "text": [
            "out shape from message function should be [E, H, C]: torch.Size([10556, 2, 32])\n",
            "out shape from message function should be [E, H, C]: torch.Size([10556, 2, 32])\n",
            "out shape from message function should be [E, H, C]: torch.Size([10556, 2, 32])\n",
            "out shape from message function should be [E, H, C]: torch.Size([10556, 2, 32])\n"
          ]
        },
        {
          "name": "stderr",
          "output_type": "stream",
          "text": [
            "Training:  17%|█▋        | 87/500 [00:12<00:51,  8.05Epochs/s]"
          ]
        },
        {
          "name": "stdout",
          "output_type": "stream",
          "text": [
            "out shape from message function should be [E, H, C]: torch.Size([10556, 2, 32])\n",
            "out shape from message function should be [E, H, C]: torch.Size([10556, 2, 32])\n",
            "out shape from message function should be [E, H, C]: torch.Size([10556, 2, 32])\n",
            "out shape from message function should be [E, H, C]: torch.Size([10556, 2, 32])\n"
          ]
        },
        {
          "name": "stderr",
          "output_type": "stream",
          "text": [
            "Training:  18%|█▊        | 89/500 [00:12<01:00,  6.79Epochs/s]"
          ]
        },
        {
          "name": "stdout",
          "output_type": "stream",
          "text": [
            "out shape from message function should be [E, H, C]: torch.Size([10556, 2, 32])\n",
            "out shape from message function should be [E, H, C]: torch.Size([10556, 2, 32])\n",
            "out shape from message function should be [E, H, C]: torch.Size([10556, 2, 32])\n",
            "out shape from message function should be [E, H, C]: torch.Size([10556, 2, 32])\n"
          ]
        },
        {
          "name": "stderr",
          "output_type": "stream",
          "text": [
            "Training:  18%|█▊        | 91/500 [00:12<01:02,  6.56Epochs/s]"
          ]
        },
        {
          "name": "stdout",
          "output_type": "stream",
          "text": [
            "out shape from message function should be [E, H, C]: torch.Size([10556, 2, 32])\n",
            "out shape from message function should be [E, H, C]: torch.Size([10556, 2, 32])\n",
            "out shape from message function should be [E, H, C]: torch.Size([10556, 2, 32])\n",
            "out shape from message function should be [E, H, C]: torch.Size([10556, 2, 32])\n",
            "out shape from message function should be [E, H, C]: torch.Size([10556, 2, 32])\n",
            "out shape from message function should be [E, H, C]: torch.Size([10556, 2, 32])\n"
          ]
        },
        {
          "name": "stderr",
          "output_type": "stream",
          "text": [
            "Training:  19%|█▉        | 94/500 [00:13<00:49,  8.28Epochs/s]"
          ]
        },
        {
          "name": "stdout",
          "output_type": "stream",
          "text": [
            "out shape from message function should be [E, H, C]: torch.Size([10556, 2, 32])\n",
            "out shape from message function should be [E, H, C]: torch.Size([10556, 2, 32])\n",
            "out shape from message function should be [E, H, C]: torch.Size([10556, 2, 32])\n",
            "out shape from message function should be [E, H, C]: torch.Size([10556, 2, 32])\n",
            "out shape from message function should be [E, H, C]: torch.Size([10556, 2, 32])\n"
          ]
        },
        {
          "name": "stderr",
          "output_type": "stream",
          "text": [
            "Training:  19%|█▉        | 95/500 [00:13<00:48,  8.41Epochs/s]"
          ]
        },
        {
          "name": "stdout",
          "output_type": "stream",
          "text": [
            "out shape from message function should be [E, H, C]: torch.Size([10556, 2, 32])\n",
            "out shape from message function should be [E, H, C]: torch.Size([10556, 2, 32])\n",
            "out shape from message function should be [E, H, C]: torch.Size([10556, 2, 32])\n"
          ]
        },
        {
          "name": "stderr",
          "output_type": "stream",
          "text": [
            "Training:  19%|█▉        | 97/500 [00:13<00:47,  8.51Epochs/s]"
          ]
        },
        {
          "name": "stdout",
          "output_type": "stream",
          "text": [
            "out shape from message function should be [E, H, C]: torch.Size([10556, 2, 32])\n",
            "out shape from message function should be [E, H, C]: torch.Size([10556, 2, 32])\n",
            "out shape from message function should be [E, H, C]: torch.Size([10556, 2, 32])\n",
            "out shape from message function should be [E, H, C]: torch.Size([10556, 2, 32])\n"
          ]
        },
        {
          "name": "stderr",
          "output_type": "stream",
          "text": [
            "Training:  20%|██        | 100/500 [00:13<00:43,  9.14Epochs/s]"
          ]
        },
        {
          "name": "stdout",
          "output_type": "stream",
          "text": [
            "out shape from message function should be [E, H, C]: torch.Size([10556, 2, 32])\n",
            "out shape from message function should be [E, H, C]: torch.Size([10556, 2, 32])\n",
            "out shape from message function should be [E, H, C]: torch.Size([10556, 2, 32])\n",
            "out shape from message function should be [E, H, C]: torch.Size([10556, 2, 32])\n"
          ]
        },
        {
          "name": "stderr",
          "output_type": "stream",
          "text": [
            "Training:  20%|██        | 101/500 [00:13<00:48,  8.23Epochs/s]"
          ]
        },
        {
          "name": "stdout",
          "output_type": "stream",
          "text": [
            "out shape from message function should be [E, H, C]: torch.Size([10556, 2, 32])\n",
            "out shape from message function should be [E, H, C]: torch.Size([10556, 2, 32])\n",
            "out shape from message function should be [E, H, C]: torch.Size([10556, 2, 32])\n",
            "out shape from message function should be [E, H, C]: torch.Size([10556, 2, 32])\n",
            "out shape from message function should be [E, H, C]: torch.Size([10556, 2, 32])\n",
            "out shape from message function should be [E, H, C]: torch.Size([10556, 2, 32])\n"
          ]
        },
        {
          "name": "stderr",
          "output_type": "stream",
          "text": [
            "Training:  21%|██        | 103/500 [00:14<00:55,  7.14Epochs/s]"
          ]
        },
        {
          "name": "stdout",
          "output_type": "stream",
          "text": [
            "out shape from message function should be [E, H, C]: torch.Size([10556, 2, 32])\n",
            "out shape from message function should be [E, H, C]: torch.Size([10556, 2, 32])\n",
            "out shape from message function should be [E, H, C]: torch.Size([10556, 2, 32])\n"
          ]
        },
        {
          "name": "stderr",
          "output_type": "stream",
          "text": [
            "Training:  21%|██        | 104/500 [00:14<00:54,  7.24Epochs/s]"
          ]
        },
        {
          "name": "stdout",
          "output_type": "stream",
          "text": [
            "out shape from message function should be [E, H, C]: torch.Size([10556, 2, 32])\n",
            "out shape from message function should be [E, H, C]: torch.Size([10556, 2, 32])\n",
            "out shape from message function should be [E, H, C]: torch.Size([10556, 2, 32])\n"
          ]
        },
        {
          "name": "stderr",
          "output_type": "stream",
          "text": [
            "Training:  21%|██▏       | 107/500 [00:14<00:45,  8.67Epochs/s]"
          ]
        },
        {
          "name": "stdout",
          "output_type": "stream",
          "text": [
            "out shape from message function should be [E, H, C]: torch.Size([10556, 2, 32])\n",
            "out shape from message function should be [E, H, C]: torch.Size([10556, 2, 32])\n",
            "out shape from message function should be [E, H, C]: torch.Size([10556, 2, 32])\n",
            "out shape from message function should be [E, H, C]: torch.Size([10556, 2, 32])\n",
            "out shape from message function should be [E, H, C]: torch.Size([10556, 2, 32])\n"
          ]
        },
        {
          "name": "stderr",
          "output_type": "stream",
          "text": [
            "Training:  22%|██▏       | 109/500 [00:14<00:42,  9.24Epochs/s]"
          ]
        },
        {
          "name": "stdout",
          "output_type": "stream",
          "text": [
            "out shape from message function should be [E, H, C]: torch.Size([10556, 2, 32])\n",
            "out shape from message function should be [E, H, C]: torch.Size([10556, 2, 32])\n",
            "out shape from message function should be [E, H, C]: torch.Size([10556, 2, 32])\n",
            "out shape from message function should be [E, H, C]: torch.Size([10556, 2, 32])\n",
            "out shape from message function should be [E, H, C]: torch.Size([10556, 2, 32])\n"
          ]
        },
        {
          "name": "stderr",
          "output_type": "stream",
          "text": [
            "Training:  22%|██▏       | 111/500 [00:15<00:47,  8.20Epochs/s]"
          ]
        },
        {
          "name": "stdout",
          "output_type": "stream",
          "text": [
            "out shape from message function should be [E, H, C]: torch.Size([10556, 2, 32])\n",
            "out shape from message function should be [E, H, C]: torch.Size([10556, 2, 32])\n",
            "out shape from message function should be [E, H, C]: torch.Size([10556, 2, 32])\n",
            "out shape from message function should be [E, H, C]: torch.Size([10556, 2, 32])\n",
            "out shape from message function should be [E, H, C]: torch.Size([10556, 2, 32])\n",
            "out shape from message function should be [E, H, C]: torch.Size([10556, 2, 32])\n"
          ]
        },
        {
          "name": "stderr",
          "output_type": "stream",
          "text": [
            "Training:  23%|██▎       | 113/500 [00:15<00:46,  8.39Epochs/s]"
          ]
        },
        {
          "name": "stdout",
          "output_type": "stream",
          "text": [
            "out shape from message function should be [E, H, C]: torch.Size([10556, 2, 32])\n",
            "out shape from message function should be [E, H, C]: torch.Size([10556, 2, 32])\n",
            "out shape from message function should be [E, H, C]: torch.Size([10556, 2, 32])\n",
            "out shape from message function should be [E, H, C]: torch.Size([10556, 2, 32])\n"
          ]
        },
        {
          "name": "stderr",
          "output_type": "stream",
          "text": [
            "Training:  23%|██▎       | 115/500 [00:15<00:45,  8.45Epochs/s]"
          ]
        },
        {
          "name": "stdout",
          "output_type": "stream",
          "text": [
            "out shape from message function should be [E, H, C]: torch.Size([10556, 2, 32])\n",
            "out shape from message function should be [E, H, C]: torch.Size([10556, 2, 32])\n",
            "out shape from message function should be [E, H, C]: torch.Size([10556, 2, 32])\n",
            "out shape from message function should be [E, H, C]: torch.Size([10556, 2, 32])\n"
          ]
        },
        {
          "name": "stderr",
          "output_type": "stream",
          "text": [
            "Training:  23%|██▎       | 117/500 [00:16<00:56,  6.82Epochs/s]"
          ]
        },
        {
          "name": "stdout",
          "output_type": "stream",
          "text": [
            "out shape from message function should be [E, H, C]: torch.Size([10556, 2, 32])\n",
            "out shape from message function should be [E, H, C]: torch.Size([10556, 2, 32])\n"
          ]
        },
        {
          "name": "stderr",
          "output_type": "stream",
          "text": [
            "Training:  24%|██▎       | 118/500 [00:16<00:54,  7.00Epochs/s]"
          ]
        },
        {
          "name": "stdout",
          "output_type": "stream",
          "text": [
            "out shape from message function should be [E, H, C]: torch.Size([10556, 2, 32])\n",
            "out shape from message function should be [E, H, C]: torch.Size([10556, 2, 32])\n",
            "out shape from message function should be [E, H, C]: torch.Size([10556, 2, 32])\n",
            "out shape from message function should be [E, H, C]: torch.Size([10556, 2, 32])\n"
          ]
        },
        {
          "name": "stderr",
          "output_type": "stream",
          "text": [
            "Training:  24%|██▍       | 120/500 [00:16<00:48,  7.84Epochs/s]"
          ]
        },
        {
          "name": "stdout",
          "output_type": "stream",
          "text": [
            "out shape from message function should be [E, H, C]: torch.Size([10556, 2, 32])\n",
            "out shape from message function should be [E, H, C]: torch.Size([10556, 2, 32])\n",
            "out shape from message function should be [E, H, C]: torch.Size([10556, 2, 32])\n",
            "out shape from message function should be [E, H, C]: torch.Size([10556, 2, 32])\n"
          ]
        },
        {
          "name": "stderr",
          "output_type": "stream",
          "text": [
            "Training:  24%|██▍       | 122/500 [00:16<00:49,  7.71Epochs/s]"
          ]
        },
        {
          "name": "stdout",
          "output_type": "stream",
          "text": [
            "out shape from message function should be [E, H, C]: torch.Size([10556, 2, 32])\n",
            "out shape from message function should be [E, H, C]: torch.Size([10556, 2, 32])\n",
            "out shape from message function should be [E, H, C]: torch.Size([10556, 2, 32])\n",
            "out shape from message function should be [E, H, C]: torch.Size([10556, 2, 32])\n",
            "out shape from message function should be [E, H, C]: torch.Size([10556, 2, 32])\n",
            "out shape from message function should be [E, H, C]: torch.Size([10556, 2, 32])\n"
          ]
        },
        {
          "name": "stderr",
          "output_type": "stream",
          "text": [
            "Training:  25%|██▍       | 124/500 [00:16<00:45,  8.20Epochs/s]"
          ]
        },
        {
          "name": "stdout",
          "output_type": "stream",
          "text": [
            "out shape from message function should be [E, H, C]: torch.Size([10556, 2, 32])\n",
            "out shape from message function should be [E, H, C]: torch.Size([10556, 2, 32])\n",
            "out shape from message function should be [E, H, C]: torch.Size([10556, 2, 32])\n",
            "out shape from message function should be [E, H, C]: torch.Size([10556, 2, 32])\n"
          ]
        },
        {
          "name": "stderr",
          "output_type": "stream",
          "text": [
            "Training:  25%|██▌       | 126/500 [00:17<00:43,  8.68Epochs/s]"
          ]
        },
        {
          "name": "stdout",
          "output_type": "stream",
          "text": [
            "out shape from message function should be [E, H, C]: torch.Size([10556, 2, 32])\n",
            "out shape from message function should be [E, H, C]: torch.Size([10556, 2, 32])\n",
            "out shape from message function should be [E, H, C]: torch.Size([10556, 2, 32])\n",
            "out shape from message function should be [E, H, C]: torch.Size([10556, 2, 32])\n"
          ]
        },
        {
          "name": "stderr",
          "output_type": "stream",
          "text": [
            "Training:  26%|██▌       | 128/500 [00:17<00:43,  8.64Epochs/s]"
          ]
        },
        {
          "name": "stdout",
          "output_type": "stream",
          "text": [
            "out shape from message function should be [E, H, C]: torch.Size([10556, 2, 32])\n",
            "out shape from message function should be [E, H, C]: torch.Size([10556, 2, 32])\n",
            "out shape from message function should be [E, H, C]: torch.Size([10556, 2, 32])\n",
            "out shape from message function should be [E, H, C]: torch.Size([10556, 2, 32])\n"
          ]
        },
        {
          "name": "stderr",
          "output_type": "stream",
          "text": [
            "Training:  26%|██▌       | 130/500 [00:17<00:45,  8.07Epochs/s]"
          ]
        },
        {
          "name": "stdout",
          "output_type": "stream",
          "text": [
            "out shape from message function should be [E, H, C]: torch.Size([10556, 2, 32])\n",
            "out shape from message function should be [E, H, C]: torch.Size([10556, 2, 32])\n"
          ]
        },
        {
          "name": "stderr",
          "output_type": "stream",
          "text": [
            "Training:  26%|██▌       | 131/500 [00:17<01:05,  5.62Epochs/s]"
          ]
        },
        {
          "name": "stdout",
          "output_type": "stream",
          "text": [
            "out shape from message function should be [E, H, C]: torch.Size([10556, 2, 32])\n",
            "out shape from message function should be [E, H, C]: torch.Size([10556, 2, 32])\n",
            "out shape from message function should be [E, H, C]: torch.Size([10556, 2, 32])\n",
            "out shape from message function should be [E, H, C]: torch.Size([10556, 2, 32])\n",
            "out shape from message function should be [E, H, C]: torch.Size([10556, 2, 32])\n"
          ]
        },
        {
          "name": "stderr",
          "output_type": "stream",
          "text": [
            "Training:  26%|██▋       | 132/500 [00:18<00:59,  6.14Epochs/s]"
          ]
        },
        {
          "name": "stdout",
          "output_type": "stream",
          "text": [
            "out shape from message function should be [E, H, C]: torch.Size([10556, 2, 32])\n",
            "out shape from message function should be [E, H, C]: torch.Size([10556, 2, 32])\n",
            "out shape from message function should be [E, H, C]: torch.Size([10556, 2, 32])\n"
          ]
        },
        {
          "name": "stderr",
          "output_type": "stream",
          "text": [
            "Training:  27%|██▋       | 134/500 [00:18<00:50,  7.21Epochs/s]"
          ]
        },
        {
          "name": "stdout",
          "output_type": "stream",
          "text": [
            "out shape from message function should be [E, H, C]: torch.Size([10556, 2, 32])\n",
            "out shape from message function should be [E, H, C]: torch.Size([10556, 2, 32])\n",
            "out shape from message function should be [E, H, C]: torch.Size([10556, 2, 32])\n",
            "out shape from message function should be [E, H, C]: torch.Size([10556, 2, 32])\n"
          ]
        },
        {
          "name": "stderr",
          "output_type": "stream",
          "text": [
            "Training:  27%|██▋       | 136/500 [00:18<00:47,  7.66Epochs/s]"
          ]
        },
        {
          "name": "stdout",
          "output_type": "stream",
          "text": [
            "out shape from message function should be [E, H, C]: torch.Size([10556, 2, 32])\n",
            "out shape from message function should be [E, H, C]: torch.Size([10556, 2, 32])\n",
            "out shape from message function should be [E, H, C]: torch.Size([10556, 2, 32])\n",
            "out shape from message function should be [E, H, C]: torch.Size([10556, 2, 32])\n"
          ]
        },
        {
          "name": "stderr",
          "output_type": "stream",
          "text": [
            "Training:  28%|██▊       | 138/500 [00:18<00:45,  7.93Epochs/s]"
          ]
        },
        {
          "name": "stdout",
          "output_type": "stream",
          "text": [
            "out shape from message function should be [E, H, C]: torch.Size([10556, 2, 32])\n",
            "out shape from message function should be [E, H, C]: torch.Size([10556, 2, 32])\n",
            "out shape from message function should be [E, H, C]: torch.Size([10556, 2, 32])\n",
            "out shape from message function should be [E, H, C]: torch.Size([10556, 2, 32])\n"
          ]
        },
        {
          "name": "stderr",
          "output_type": "stream",
          "text": [
            "Training:  28%|██▊       | 140/500 [00:18<00:44,  8.06Epochs/s]"
          ]
        },
        {
          "name": "stdout",
          "output_type": "stream",
          "text": [
            "out shape from message function should be [E, H, C]: torch.Size([10556, 2, 32])\n",
            "out shape from message function should be [E, H, C]: torch.Size([10556, 2, 32])\n",
            "out shape from message function should be [E, H, C]: torch.Size([10556, 2, 32])\n",
            "out shape from message function should be [E, H, C]: torch.Size([10556, 2, 32])\n"
          ]
        },
        {
          "name": "stderr",
          "output_type": "stream",
          "text": [
            "Training:  28%|██▊       | 142/500 [00:19<00:48,  7.46Epochs/s]"
          ]
        },
        {
          "name": "stdout",
          "output_type": "stream",
          "text": [
            "out shape from message function should be [E, H, C]: torch.Size([10556, 2, 32])\n",
            "out shape from message function should be [E, H, C]: torch.Size([10556, 2, 32])\n",
            "out shape from message function should be [E, H, C]: torch.Size([10556, 2, 32])\n",
            "out shape from message function should be [E, H, C]: torch.Size([10556, 2, 32])\n",
            "out shape from message function should be [E, H, C]: torch.Size([10556, 2, 32])\n",
            "out shape from message function should be [E, H, C]: torch.Size([10556, 2, 32])\n"
          ]
        },
        {
          "name": "stderr",
          "output_type": "stream",
          "text": [
            "Training:  29%|██▉       | 144/500 [00:19<00:53,  6.64Epochs/s]"
          ]
        },
        {
          "name": "stdout",
          "output_type": "stream",
          "text": [
            "out shape from message function should be [E, H, C]: torch.Size([10556, 2, 32])\n",
            "out shape from message function should be [E, H, C]: torch.Size([10556, 2, 32])\n",
            "out shape from message function should be [E, H, C]: torch.Size([10556, 2, 32])\n",
            "out shape from message function should be [E, H, C]: torch.Size([10556, 2, 32])\n"
          ]
        },
        {
          "name": "stderr",
          "output_type": "stream",
          "text": [
            "Training:  29%|██▉       | 146/500 [00:19<00:47,  7.40Epochs/s]"
          ]
        },
        {
          "name": "stdout",
          "output_type": "stream",
          "text": [
            "out shape from message function should be [E, H, C]: torch.Size([10556, 2, 32])\n",
            "out shape from message function should be [E, H, C]: torch.Size([10556, 2, 32])\n",
            "out shape from message function should be [E, H, C]: torch.Size([10556, 2, 32])\n",
            "out shape from message function should be [E, H, C]: torch.Size([10556, 2, 32])\n"
          ]
        },
        {
          "name": "stderr",
          "output_type": "stream",
          "text": [
            "Training:  30%|██▉       | 148/500 [00:20<00:44,  7.89Epochs/s]"
          ]
        },
        {
          "name": "stdout",
          "output_type": "stream",
          "text": [
            "out shape from message function should be [E, H, C]: torch.Size([10556, 2, 32])\n",
            "out shape from message function should be [E, H, C]: torch.Size([10556, 2, 32])\n",
            "out shape from message function should be [E, H, C]: torch.Size([10556, 2, 32])\n",
            "out shape from message function should be [E, H, C]: torch.Size([10556, 2, 32])\n"
          ]
        },
        {
          "name": "stderr",
          "output_type": "stream",
          "text": [
            "Training:  30%|███       | 150/500 [00:20<00:43,  8.05Epochs/s]"
          ]
        },
        {
          "name": "stdout",
          "output_type": "stream",
          "text": [
            "out shape from message function should be [E, H, C]: torch.Size([10556, 2, 32])\n",
            "out shape from message function should be [E, H, C]: torch.Size([10556, 2, 32])\n",
            "out shape from message function should be [E, H, C]: torch.Size([10556, 2, 32])\n",
            "out shape from message function should be [E, H, C]: torch.Size([10556, 2, 32])\n"
          ]
        },
        {
          "name": "stderr",
          "output_type": "stream",
          "text": [
            "Training:  30%|███       | 152/500 [00:20<00:45,  7.68Epochs/s]"
          ]
        },
        {
          "name": "stdout",
          "output_type": "stream",
          "text": [
            "out shape from message function should be [E, H, C]: torch.Size([10556, 2, 32])\n",
            "out shape from message function should be [E, H, C]: torch.Size([10556, 2, 32])\n",
            "out shape from message function should be [E, H, C]: torch.Size([10556, 2, 32])\n",
            "out shape from message function should be [E, H, C]: torch.Size([10556, 2, 32])\n",
            "out shape from message function should be [E, H, C]: torch.Size([10556, 2, 32])\n",
            "out shape from message function should be [E, H, C]: torch.Size([10556, 2, 32])\n"
          ]
        },
        {
          "name": "stderr",
          "output_type": "stream",
          "text": [
            "Training:  31%|███       | 154/500 [00:20<00:43,  7.96Epochs/s]"
          ]
        },
        {
          "name": "stdout",
          "output_type": "stream",
          "text": [
            "out shape from message function should be [E, H, C]: torch.Size([10556, 2, 32])\n",
            "out shape from message function should be [E, H, C]: torch.Size([10556, 2, 32])\n",
            "out shape from message function should be [E, H, C]: torch.Size([10556, 2, 32])\n",
            "out shape from message function should be [E, H, C]: torch.Size([10556, 2, 32])\n"
          ]
        },
        {
          "name": "stderr",
          "output_type": "stream",
          "text": [
            "Training:  31%|███       | 156/500 [00:21<00:41,  8.37Epochs/s]"
          ]
        },
        {
          "name": "stdout",
          "output_type": "stream",
          "text": [
            "out shape from message function should be [E, H, C]: torch.Size([10556, 2, 32])\n",
            "out shape from message function should be [E, H, C]: torch.Size([10556, 2, 32])\n",
            "out shape from message function should be [E, H, C]: torch.Size([10556, 2, 32])\n",
            "out shape from message function should be [E, H, C]: torch.Size([10556, 2, 32])\n"
          ]
        },
        {
          "name": "stderr",
          "output_type": "stream",
          "text": [
            "Training:  31%|███▏      | 157/500 [00:21<00:40,  8.38Epochs/s]"
          ]
        },
        {
          "name": "stdout",
          "output_type": "stream",
          "text": [
            "out shape from message function should be [E, H, C]: torch.Size([10556, 2, 32])\n",
            "out shape from message function should be [E, H, C]: torch.Size([10556, 2, 32])\n"
          ]
        },
        {
          "name": "stderr",
          "output_type": "stream",
          "text": [
            "Training:  32%|███▏      | 159/500 [00:21<00:50,  6.74Epochs/s]"
          ]
        },
        {
          "name": "stdout",
          "output_type": "stream",
          "text": [
            "out shape from message function should be [E, H, C]: torch.Size([10556, 2, 32])\n",
            "out shape from message function should be [E, H, C]: torch.Size([10556, 2, 32])\n",
            "out shape from message function should be [E, H, C]: torch.Size([10556, 2, 32])\n",
            "out shape from message function should be [E, H, C]: torch.Size([10556, 2, 32])\n"
          ]
        },
        {
          "name": "stderr",
          "output_type": "stream",
          "text": [
            "Training:  32%|███▏      | 161/500 [00:21<00:51,  6.63Epochs/s]"
          ]
        },
        {
          "name": "stdout",
          "output_type": "stream",
          "text": [
            "out shape from message function should be [E, H, C]: torch.Size([10556, 2, 32])\n",
            "out shape from message function should be [E, H, C]: torch.Size([10556, 2, 32])\n",
            "out shape from message function should be [E, H, C]: torch.Size([10556, 2, 32])\n",
            "out shape from message function should be [E, H, C]: torch.Size([10556, 2, 32])\n",
            "out shape from message function should be [E, H, C]: torch.Size([10556, 2, 32])\n",
            "out shape from message function should be [E, H, C]: torch.Size([10556, 2, 32])\n"
          ]
        },
        {
          "name": "stderr",
          "output_type": "stream",
          "text": [
            "Training:  33%|███▎      | 163/500 [00:22<00:46,  7.30Epochs/s]"
          ]
        },
        {
          "name": "stdout",
          "output_type": "stream",
          "text": [
            "out shape from message function should be [E, H, C]: torch.Size([10556, 2, 32])\n",
            "out shape from message function should be [E, H, C]: torch.Size([10556, 2, 32])\n",
            "out shape from message function should be [E, H, C]: torch.Size([10556, 2, 32])\n",
            "out shape from message function should be [E, H, C]: torch.Size([10556, 2, 32])\n"
          ]
        },
        {
          "name": "stderr",
          "output_type": "stream",
          "text": [
            "Training:  33%|███▎      | 165/500 [00:22<00:42,  7.81Epochs/s]"
          ]
        },
        {
          "name": "stdout",
          "output_type": "stream",
          "text": [
            "out shape from message function should be [E, H, C]: torch.Size([10556, 2, 32])\n",
            "out shape from message function should be [E, H, C]: torch.Size([10556, 2, 32])\n",
            "out shape from message function should be [E, H, C]: torch.Size([10556, 2, 32])\n",
            "out shape from message function should be [E, H, C]: torch.Size([10556, 2, 32])\n"
          ]
        },
        {
          "name": "stderr",
          "output_type": "stream",
          "text": [
            "Training:  33%|███▎      | 167/500 [00:22<00:40,  8.22Epochs/s]"
          ]
        },
        {
          "name": "stdout",
          "output_type": "stream",
          "text": [
            "out shape from message function should be [E, H, C]: torch.Size([10556, 2, 32])\n",
            "out shape from message function should be [E, H, C]: torch.Size([10556, 2, 32])\n",
            "out shape from message function should be [E, H, C]: torch.Size([10556, 2, 32])\n",
            "out shape from message function should be [E, H, C]: torch.Size([10556, 2, 32])\n"
          ]
        },
        {
          "name": "stderr",
          "output_type": "stream",
          "text": [
            "Training:  34%|███▍      | 169/500 [00:22<00:40,  8.20Epochs/s]"
          ]
        },
        {
          "name": "stdout",
          "output_type": "stream",
          "text": [
            "out shape from message function should be [E, H, C]: torch.Size([10556, 2, 32])\n",
            "out shape from message function should be [E, H, C]: torch.Size([10556, 2, 32])\n",
            "out shape from message function should be [E, H, C]: torch.Size([10556, 2, 32])\n",
            "out shape from message function should be [E, H, C]: torch.Size([10556, 2, 32])\n"
          ]
        },
        {
          "name": "stderr",
          "output_type": "stream",
          "text": [
            "Training:  34%|███▍      | 171/500 [00:23<00:50,  6.45Epochs/s]"
          ]
        },
        {
          "name": "stdout",
          "output_type": "stream",
          "text": [
            "out shape from message function should be [E, H, C]: torch.Size([10556, 2, 32])\n",
            "out shape from message function should be [E, H, C]: torch.Size([10556, 2, 32])\n",
            "out shape from message function should be [E, H, C]: torch.Size([10556, 2, 32])\n",
            "out shape from message function should be [E, H, C]: torch.Size([10556, 2, 32])\n",
            "out shape from message function should be [E, H, C]: torch.Size([10556, 2, 32])\n",
            "out shape from message function should be [E, H, C]: torch.Size([10556, 2, 32])\n"
          ]
        },
        {
          "name": "stderr",
          "output_type": "stream",
          "text": [
            "Training:  35%|███▍      | 173/500 [00:23<00:47,  6.91Epochs/s]"
          ]
        },
        {
          "name": "stdout",
          "output_type": "stream",
          "text": [
            "out shape from message function should be [E, H, C]: torch.Size([10556, 2, 32])\n",
            "out shape from message function should be [E, H, C]: torch.Size([10556, 2, 32])\n",
            "out shape from message function should be [E, H, C]: torch.Size([10556, 2, 32])\n",
            "out shape from message function should be [E, H, C]: torch.Size([10556, 2, 32])\n"
          ]
        },
        {
          "name": "stderr",
          "output_type": "stream",
          "text": [
            "Training:  35%|███▌      | 175/500 [00:23<00:42,  7.69Epochs/s]"
          ]
        },
        {
          "name": "stdout",
          "output_type": "stream",
          "text": [
            "out shape from message function should be [E, H, C]: torch.Size([10556, 2, 32])\n",
            "out shape from message function should be [E, H, C]: torch.Size([10556, 2, 32])\n",
            "out shape from message function should be [E, H, C]: torch.Size([10556, 2, 32])\n",
            "out shape from message function should be [E, H, C]: torch.Size([10556, 2, 32])\n"
          ]
        },
        {
          "name": "stderr",
          "output_type": "stream",
          "text": [
            "Training:  35%|███▌      | 177/500 [00:23<00:41,  7.77Epochs/s]"
          ]
        },
        {
          "name": "stdout",
          "output_type": "stream",
          "text": [
            "out shape from message function should be [E, H, C]: torch.Size([10556, 2, 32])\n",
            "out shape from message function should be [E, H, C]: torch.Size([10556, 2, 32])\n",
            "out shape from message function should be [E, H, C]: torch.Size([10556, 2, 32])\n",
            "out shape from message function should be [E, H, C]: torch.Size([10556, 2, 32])\n"
          ]
        },
        {
          "name": "stderr",
          "output_type": "stream",
          "text": [
            "Training:  36%|███▌      | 179/500 [00:24<00:41,  7.73Epochs/s]"
          ]
        },
        {
          "name": "stdout",
          "output_type": "stream",
          "text": [
            "out shape from message function should be [E, H, C]: torch.Size([10556, 2, 32])\n",
            "out shape from message function should be [E, H, C]: torch.Size([10556, 2, 32])\n",
            "out shape from message function should be [E, H, C]: torch.Size([10556, 2, 32])\n",
            "out shape from message function should be [E, H, C]: torch.Size([10556, 2, 32])\n"
          ]
        },
        {
          "name": "stderr",
          "output_type": "stream",
          "text": [
            "Training:  36%|███▌      | 181/500 [00:24<00:45,  6.98Epochs/s]"
          ]
        },
        {
          "name": "stdout",
          "output_type": "stream",
          "text": [
            "out shape from message function should be [E, H, C]: torch.Size([10556, 2, 32])\n",
            "out shape from message function should be [E, H, C]: torch.Size([10556, 2, 32])\n",
            "out shape from message function should be [E, H, C]: torch.Size([10556, 2, 32])\n",
            "out shape from message function should be [E, H, C]: torch.Size([10556, 2, 32])\n",
            "out shape from message function should be [E, H, C]: torch.Size([10556, 2, 32])\n",
            "out shape from message function should be [E, H, C]: torch.Size([10556, 2, 32])\n"
          ]
        },
        {
          "name": "stderr",
          "output_type": "stream",
          "text": [
            "Training:  36%|███▋      | 182/500 [00:24<00:44,  7.15Epochs/s]"
          ]
        },
        {
          "name": "stdout",
          "output_type": "stream",
          "text": [
            "out shape from message function should be [E, H, C]: torch.Size([10556, 2, 32])\n",
            "out shape from message function should be [E, H, C]: torch.Size([10556, 2, 32])\n"
          ]
        },
        {
          "name": "stderr",
          "output_type": "stream",
          "text": [
            "Training:  37%|███▋      | 184/500 [00:24<00:49,  6.44Epochs/s]"
          ]
        },
        {
          "name": "stdout",
          "output_type": "stream",
          "text": [
            "out shape from message function should be [E, H, C]: torch.Size([10556, 2, 32])\n",
            "out shape from message function should be [E, H, C]: torch.Size([10556, 2, 32])\n",
            "out shape from message function should be [E, H, C]: torch.Size([10556, 2, 32])\n",
            "out shape from message function should be [E, H, C]: torch.Size([10556, 2, 32])\n"
          ]
        },
        {
          "name": "stderr",
          "output_type": "stream",
          "text": [
            "Training:  37%|███▋      | 187/500 [00:25<00:42,  7.38Epochs/s]"
          ]
        },
        {
          "name": "stdout",
          "output_type": "stream",
          "text": [
            "out shape from message function should be [E, H, C]: torch.Size([10556, 2, 32])\n",
            "out shape from message function should be [E, H, C]: torch.Size([10556, 2, 32])\n",
            "out shape from message function should be [E, H, C]: torch.Size([10556, 2, 32])\n",
            "out shape from message function should be [E, H, C]: torch.Size([10556, 2, 32])\n"
          ]
        },
        {
          "name": "stderr",
          "output_type": "stream",
          "text": [
            "Training:  38%|███▊      | 188/500 [00:25<00:41,  7.45Epochs/s]"
          ]
        },
        {
          "name": "stdout",
          "output_type": "stream",
          "text": [
            "out shape from message function should be [E, H, C]: torch.Size([10556, 2, 32])\n",
            "out shape from message function should be [E, H, C]: torch.Size([10556, 2, 32])\n",
            "out shape from message function should be [E, H, C]: torch.Size([10556, 2, 32])\n",
            "out shape from message function should be [E, H, C]: torch.Size([10556, 2, 32])\n"
          ]
        },
        {
          "name": "stderr",
          "output_type": "stream",
          "text": [
            "Training:  38%|███▊      | 190/500 [00:25<00:40,  7.72Epochs/s]"
          ]
        },
        {
          "name": "stdout",
          "output_type": "stream",
          "text": [
            "out shape from message function should be [E, H, C]: torch.Size([10556, 2, 32])\n",
            "out shape from message function should be [E, H, C]: torch.Size([10556, 2, 32])\n",
            "out shape from message function should be [E, H, C]: torch.Size([10556, 2, 32])\n",
            "out shape from message function should be [E, H, C]: torch.Size([10556, 2, 32])\n"
          ]
        },
        {
          "name": "stderr",
          "output_type": "stream",
          "text": [
            "Training:  38%|███▊      | 192/500 [00:26<00:42,  7.22Epochs/s]"
          ]
        },
        {
          "name": "stdout",
          "output_type": "stream",
          "text": [
            "out shape from message function should be [E, H, C]: torch.Size([10556, 2, 32])\n",
            "out shape from message function should be [E, H, C]: torch.Size([10556, 2, 32])\n",
            "out shape from message function should be [E, H, C]: torch.Size([10556, 2, 32])\n",
            "out shape from message function should be [E, H, C]: torch.Size([10556, 2, 32])\n",
            "out shape from message function should be [E, H, C]: torch.Size([10556, 2, 32])\n"
          ]
        },
        {
          "name": "stderr",
          "output_type": "stream",
          "text": [
            "Training:  39%|███▊      | 193/500 [00:26<00:42,  7.21Epochs/s]"
          ]
        },
        {
          "name": "stdout",
          "output_type": "stream",
          "text": [
            "out shape from message function should be [E, H, C]: torch.Size([10556, 2, 32])\n",
            "out shape from message function should be [E, H, C]: torch.Size([10556, 2, 32])\n",
            "out shape from message function should be [E, H, C]: torch.Size([10556, 2, 32])\n"
          ]
        },
        {
          "name": "stderr",
          "output_type": "stream",
          "text": [
            "Training:  39%|███▉      | 195/500 [00:26<00:50,  5.99Epochs/s]"
          ]
        },
        {
          "name": "stdout",
          "output_type": "stream",
          "text": [
            "out shape from message function should be [E, H, C]: torch.Size([10556, 2, 32])\n",
            "out shape from message function should be [E, H, C]: torch.Size([10556, 2, 32])\n",
            "out shape from message function should be [E, H, C]: torch.Size([10556, 2, 32])\n",
            "out shape from message function should be [E, H, C]: torch.Size([10556, 2, 32])\n"
          ]
        },
        {
          "name": "stderr",
          "output_type": "stream",
          "text": [
            "Training:  39%|███▉      | 197/500 [00:26<00:46,  6.48Epochs/s]"
          ]
        },
        {
          "name": "stdout",
          "output_type": "stream",
          "text": [
            "out shape from message function should be [E, H, C]: torch.Size([10556, 2, 32])\n",
            "out shape from message function should be [E, H, C]: torch.Size([10556, 2, 32])\n",
            "out shape from message function should be [E, H, C]: torch.Size([10556, 2, 32])\n",
            "out shape from message function should be [E, H, C]: torch.Size([10556, 2, 32])\n"
          ]
        },
        {
          "name": "stderr",
          "output_type": "stream",
          "text": [
            "Training:  40%|███▉      | 199/500 [00:27<00:42,  7.06Epochs/s]"
          ]
        },
        {
          "name": "stdout",
          "output_type": "stream",
          "text": [
            "out shape from message function should be [E, H, C]: torch.Size([10556, 2, 32])\n",
            "out shape from message function should be [E, H, C]: torch.Size([10556, 2, 32])\n",
            "out shape from message function should be [E, H, C]: torch.Size([10556, 2, 32])\n",
            "out shape from message function should be [E, H, C]: torch.Size([10556, 2, 32])\n"
          ]
        },
        {
          "name": "stderr",
          "output_type": "stream",
          "text": [
            "Training:  40%|████      | 201/500 [00:27<00:45,  6.63Epochs/s]"
          ]
        },
        {
          "name": "stdout",
          "output_type": "stream",
          "text": [
            "out shape from message function should be [E, H, C]: torch.Size([10556, 2, 32])\n",
            "out shape from message function should be [E, H, C]: torch.Size([10556, 2, 32])\n",
            "out shape from message function should be [E, H, C]: torch.Size([10556, 2, 32])\n",
            "out shape from message function should be [E, H, C]: torch.Size([10556, 2, 32])\n",
            "out shape from message function should be [E, H, C]: torch.Size([10556, 2, 32])\n"
          ]
        },
        {
          "name": "stderr",
          "output_type": "stream",
          "text": [
            "Training:  40%|████      | 202/500 [00:27<00:43,  6.83Epochs/s]"
          ]
        },
        {
          "name": "stdout",
          "output_type": "stream",
          "text": [
            "out shape from message function should be [E, H, C]: torch.Size([10556, 2, 32])\n",
            "out shape from message function should be [E, H, C]: torch.Size([10556, 2, 32])\n",
            "out shape from message function should be [E, H, C]: torch.Size([10556, 2, 32])\n"
          ]
        },
        {
          "name": "stderr",
          "output_type": "stream",
          "text": [
            "Training:  41%|████      | 204/500 [00:27<00:41,  7.21Epochs/s]"
          ]
        },
        {
          "name": "stdout",
          "output_type": "stream",
          "text": [
            "out shape from message function should be [E, H, C]: torch.Size([10556, 2, 32])\n",
            "out shape from message function should be [E, H, C]: torch.Size([10556, 2, 32])\n",
            "out shape from message function should be [E, H, C]: torch.Size([10556, 2, 32])\n",
            "out shape from message function should be [E, H, C]: torch.Size([10556, 2, 32])\n"
          ]
        },
        {
          "name": "stderr",
          "output_type": "stream",
          "text": [
            "Training:  41%|████      | 206/500 [00:28<00:38,  7.59Epochs/s]"
          ]
        },
        {
          "name": "stdout",
          "output_type": "stream",
          "text": [
            "out shape from message function should be [E, H, C]: torch.Size([10556, 2, 32])\n",
            "out shape from message function should be [E, H, C]: torch.Size([10556, 2, 32])\n",
            "out shape from message function should be [E, H, C]: torch.Size([10556, 2, 32])\n",
            "out shape from message function should be [E, H, C]: torch.Size([10556, 2, 32])\n"
          ]
        },
        {
          "name": "stderr",
          "output_type": "stream",
          "text": [
            "Training:  42%|████▏     | 208/500 [00:28<00:43,  6.64Epochs/s]"
          ]
        },
        {
          "name": "stdout",
          "output_type": "stream",
          "text": [
            "out shape from message function should be [E, H, C]: torch.Size([10556, 2, 32])\n",
            "out shape from message function should be [E, H, C]: torch.Size([10556, 2, 32])\n",
            "out shape from message function should be [E, H, C]: torch.Size([10556, 2, 32])\n",
            "out shape from message function should be [E, H, C]: torch.Size([10556, 2, 32])\n"
          ]
        },
        {
          "name": "stderr",
          "output_type": "stream",
          "text": [
            "Training:  42%|████▏     | 210/500 [00:28<00:38,  7.53Epochs/s]"
          ]
        },
        {
          "name": "stdout",
          "output_type": "stream",
          "text": [
            "out shape from message function should be [E, H, C]: torch.Size([10556, 2, 32])\n",
            "out shape from message function should be [E, H, C]: torch.Size([10556, 2, 32])\n",
            "out shape from message function should be [E, H, C]: torch.Size([10556, 2, 32])\n",
            "out shape from message function should be [E, H, C]: torch.Size([10556, 2, 32])\n"
          ]
        },
        {
          "name": "stderr",
          "output_type": "stream",
          "text": [
            "Training:  42%|████▏     | 212/500 [00:28<00:38,  7.50Epochs/s]"
          ]
        },
        {
          "name": "stdout",
          "output_type": "stream",
          "text": [
            "out shape from message function should be [E, H, C]: torch.Size([10556, 2, 32])\n",
            "out shape from message function should be [E, H, C]: torch.Size([10556, 2, 32])\n",
            "out shape from message function should be [E, H, C]: torch.Size([10556, 2, 32])\n",
            "out shape from message function should be [E, H, C]: torch.Size([10556, 2, 32])\n",
            "out shape from message function should be [E, H, C]: torch.Size([10556, 2, 32])\n",
            "out shape from message function should be [E, H, C]: torch.Size([10556, 2, 32])\n"
          ]
        },
        {
          "name": "stderr",
          "output_type": "stream",
          "text": [
            "Training:  43%|████▎     | 214/500 [00:29<00:35,  8.01Epochs/s]"
          ]
        },
        {
          "name": "stdout",
          "output_type": "stream",
          "text": [
            "out shape from message function should be [E, H, C]: torch.Size([10556, 2, 32])\n",
            "out shape from message function should be [E, H, C]: torch.Size([10556, 2, 32])\n",
            "out shape from message function should be [E, H, C]: torch.Size([10556, 2, 32])\n",
            "out shape from message function should be [E, H, C]: torch.Size([10556, 2, 32])\n"
          ]
        },
        {
          "name": "stderr",
          "output_type": "stream",
          "text": [
            "Training:  43%|████▎     | 216/500 [00:29<00:33,  8.43Epochs/s]"
          ]
        },
        {
          "name": "stdout",
          "output_type": "stream",
          "text": [
            "out shape from message function should be [E, H, C]: torch.Size([10556, 2, 32])\n",
            "out shape from message function should be [E, H, C]: torch.Size([10556, 2, 32])\n",
            "out shape from message function should be [E, H, C]: torch.Size([10556, 2, 32])\n",
            "out shape from message function should be [E, H, C]: torch.Size([10556, 2, 32])\n"
          ]
        },
        {
          "name": "stderr",
          "output_type": "stream",
          "text": [
            "Training:  44%|████▎     | 218/500 [00:29<00:31,  8.96Epochs/s]"
          ]
        },
        {
          "name": "stdout",
          "output_type": "stream",
          "text": [
            "out shape from message function should be [E, H, C]: torch.Size([10556, 2, 32])\n",
            "out shape from message function should be [E, H, C]: torch.Size([10556, 2, 32])\n",
            "out shape from message function should be [E, H, C]: torch.Size([10556, 2, 32])\n",
            "out shape from message function should be [E, H, C]: torch.Size([10556, 2, 32])\n"
          ]
        },
        {
          "name": "stderr",
          "output_type": "stream",
          "text": [
            "Training:  44%|████▍     | 220/500 [00:29<00:31,  8.78Epochs/s]"
          ]
        },
        {
          "name": "stdout",
          "output_type": "stream",
          "text": [
            "out shape from message function should be [E, H, C]: torch.Size([10556, 2, 32])\n",
            "out shape from message function should be [E, H, C]: torch.Size([10556, 2, 32])\n",
            "out shape from message function should be [E, H, C]: torch.Size([10556, 2, 32])\n",
            "out shape from message function should be [E, H, C]: torch.Size([10556, 2, 32])\n"
          ]
        },
        {
          "name": "stderr",
          "output_type": "stream",
          "text": [
            "Training:  44%|████▍     | 222/500 [00:30<00:38,  7.22Epochs/s]"
          ]
        },
        {
          "name": "stdout",
          "output_type": "stream",
          "text": [
            "out shape from message function should be [E, H, C]: torch.Size([10556, 2, 32])\n",
            "out shape from message function should be [E, H, C]: torch.Size([10556, 2, 32])\n",
            "out shape from message function should be [E, H, C]: torch.Size([10556, 2, 32])\n",
            "out shape from message function should be [E, H, C]: torch.Size([10556, 2, 32])\n",
            "out shape from message function should be [E, H, C]: torch.Size([10556, 2, 32])\n",
            "out shape from message function should be [E, H, C]: torch.Size([10556, 2, 32])\n"
          ]
        },
        {
          "name": "stderr",
          "output_type": "stream",
          "text": [
            "Training:  45%|████▍     | 224/500 [00:30<00:35,  7.84Epochs/s]"
          ]
        },
        {
          "name": "stdout",
          "output_type": "stream",
          "text": [
            "out shape from message function should be [E, H, C]: torch.Size([10556, 2, 32])\n",
            "out shape from message function should be [E, H, C]: torch.Size([10556, 2, 32])\n",
            "out shape from message function should be [E, H, C]: torch.Size([10556, 2, 32])\n",
            "out shape from message function should be [E, H, C]: torch.Size([10556, 2, 32])\n"
          ]
        },
        {
          "name": "stderr",
          "output_type": "stream",
          "text": [
            "Training:  45%|████▌     | 226/500 [00:30<00:32,  8.31Epochs/s]"
          ]
        },
        {
          "name": "stdout",
          "output_type": "stream",
          "text": [
            "out shape from message function should be [E, H, C]: torch.Size([10556, 2, 32])\n",
            "out shape from message function should be [E, H, C]: torch.Size([10556, 2, 32])\n",
            "out shape from message function should be [E, H, C]: torch.Size([10556, 2, 32])\n",
            "out shape from message function should be [E, H, C]: torch.Size([10556, 2, 32])\n"
          ]
        },
        {
          "name": "stderr",
          "output_type": "stream",
          "text": [
            "Training:  46%|████▌     | 228/500 [00:30<00:32,  8.37Epochs/s]"
          ]
        },
        {
          "name": "stdout",
          "output_type": "stream",
          "text": [
            "out shape from message function should be [E, H, C]: torch.Size([10556, 2, 32])\n",
            "out shape from message function should be [E, H, C]: torch.Size([10556, 2, 32])\n",
            "out shape from message function should be [E, H, C]: torch.Size([10556, 2, 32])\n",
            "out shape from message function should be [E, H, C]: torch.Size([10556, 2, 32])\n"
          ]
        },
        {
          "name": "stderr",
          "output_type": "stream",
          "text": [
            "Training:  46%|████▌     | 230/500 [00:31<00:33,  8.03Epochs/s]"
          ]
        },
        {
          "name": "stdout",
          "output_type": "stream",
          "text": [
            "out shape from message function should be [E, H, C]: torch.Size([10556, 2, 32])\n",
            "out shape from message function should be [E, H, C]: torch.Size([10556, 2, 32])\n",
            "out shape from message function should be [E, H, C]: torch.Size([10556, 2, 32])\n",
            "out shape from message function should be [E, H, C]: torch.Size([10556, 2, 32])\n"
          ]
        },
        {
          "name": "stderr",
          "output_type": "stream",
          "text": [
            "Training:  46%|████▋     | 232/500 [00:31<00:35,  7.46Epochs/s]"
          ]
        },
        {
          "name": "stdout",
          "output_type": "stream",
          "text": [
            "out shape from message function should be [E, H, C]: torch.Size([10556, 2, 32])\n",
            "out shape from message function should be [E, H, C]: torch.Size([10556, 2, 32])\n",
            "out shape from message function should be [E, H, C]: torch.Size([10556, 2, 32])\n",
            "out shape from message function should be [E, H, C]: torch.Size([10556, 2, 32])\n",
            "out shape from message function should be [E, H, C]: torch.Size([10556, 2, 32])\n",
            "out shape from message function should be [E, H, C]: torch.Size([10556, 2, 32])\n"
          ]
        },
        {
          "name": "stderr",
          "output_type": "stream",
          "text": [
            "Training:  47%|████▋     | 234/500 [00:31<00:40,  6.59Epochs/s]"
          ]
        },
        {
          "name": "stdout",
          "output_type": "stream",
          "text": [
            "out shape from message function should be [E, H, C]: torch.Size([10556, 2, 32])\n",
            "out shape from message function should be [E, H, C]: torch.Size([10556, 2, 32])\n",
            "out shape from message function should be [E, H, C]: torch.Size([10556, 2, 32])\n",
            "out shape from message function should be [E, H, C]: torch.Size([10556, 2, 32])\n"
          ]
        },
        {
          "name": "stderr",
          "output_type": "stream",
          "text": [
            "Training:  47%|████▋     | 236/500 [00:32<00:37,  6.97Epochs/s]"
          ]
        },
        {
          "name": "stdout",
          "output_type": "stream",
          "text": [
            "out shape from message function should be [E, H, C]: torch.Size([10556, 2, 32])\n",
            "out shape from message function should be [E, H, C]: torch.Size([10556, 2, 32])\n",
            "out shape from message function should be [E, H, C]: torch.Size([10556, 2, 32])\n",
            "out shape from message function should be [E, H, C]: torch.Size([10556, 2, 32])\n"
          ]
        },
        {
          "name": "stderr",
          "output_type": "stream",
          "text": [
            "Training:  48%|████▊     | 238/500 [00:32<00:34,  7.52Epochs/s]"
          ]
        },
        {
          "name": "stdout",
          "output_type": "stream",
          "text": [
            "out shape from message function should be [E, H, C]: torch.Size([10556, 2, 32])\n",
            "out shape from message function should be [E, H, C]: torch.Size([10556, 2, 32])\n",
            "out shape from message function should be [E, H, C]: torch.Size([10556, 2, 32])\n",
            "out shape from message function should be [E, H, C]: torch.Size([10556, 2, 32])\n"
          ]
        },
        {
          "name": "stderr",
          "output_type": "stream",
          "text": [
            "Training:  48%|████▊     | 240/500 [00:32<00:32,  8.01Epochs/s]"
          ]
        },
        {
          "name": "stdout",
          "output_type": "stream",
          "text": [
            "out shape from message function should be [E, H, C]: torch.Size([10556, 2, 32])\n",
            "out shape from message function should be [E, H, C]: torch.Size([10556, 2, 32])\n",
            "out shape from message function should be [E, H, C]: torch.Size([10556, 2, 32])\n",
            "out shape from message function should be [E, H, C]: torch.Size([10556, 2, 32])\n"
          ]
        },
        {
          "name": "stderr",
          "output_type": "stream",
          "text": [
            "Training:  48%|████▊     | 242/500 [00:32<00:34,  7.43Epochs/s]"
          ]
        },
        {
          "name": "stdout",
          "output_type": "stream",
          "text": [
            "out shape from message function should be [E, H, C]: torch.Size([10556, 2, 32])\n",
            "out shape from message function should be [E, H, C]: torch.Size([10556, 2, 32])\n",
            "out shape from message function should be [E, H, C]: torch.Size([10556, 2, 32])\n",
            "out shape from message function should be [E, H, C]: torch.Size([10556, 2, 32])\n",
            "out shape from message function should be [E, H, C]: torch.Size([10556, 2, 32])\n",
            "out shape from message function should be [E, H, C]: torch.Size([10556, 2, 32])\n"
          ]
        },
        {
          "name": "stderr",
          "output_type": "stream",
          "text": [
            "Training:  49%|████▉     | 244/500 [00:33<00:33,  7.67Epochs/s]"
          ]
        },
        {
          "name": "stdout",
          "output_type": "stream",
          "text": [
            "out shape from message function should be [E, H, C]: torch.Size([10556, 2, 32])\n",
            "out shape from message function should be [E, H, C]: torch.Size([10556, 2, 32])\n",
            "out shape from message function should be [E, H, C]: torch.Size([10556, 2, 32])\n",
            "out shape from message function should be [E, H, C]: torch.Size([10556, 2, 32])\n"
          ]
        },
        {
          "name": "stderr",
          "output_type": "stream",
          "text": [
            "Training:  49%|████▉     | 246/500 [00:33<00:37,  6.72Epochs/s]"
          ]
        },
        {
          "name": "stdout",
          "output_type": "stream",
          "text": [
            "out shape from message function should be [E, H, C]: torch.Size([10556, 2, 32])\n",
            "out shape from message function should be [E, H, C]: torch.Size([10556, 2, 32])\n",
            "out shape from message function should be [E, H, C]: torch.Size([10556, 2, 32])\n"
          ]
        },
        {
          "name": "stderr",
          "output_type": "stream",
          "text": [
            "Training:  49%|████▉     | 247/500 [00:33<00:37,  6.78Epochs/s]"
          ]
        },
        {
          "name": "stdout",
          "output_type": "stream",
          "text": [
            "out shape from message function should be [E, H, C]: torch.Size([10556, 2, 32])\n",
            "out shape from message function should be [E, H, C]: torch.Size([10556, 2, 32])\n",
            "out shape from message function should be [E, H, C]: torch.Size([10556, 2, 32])\n"
          ]
        },
        {
          "name": "stderr",
          "output_type": "stream",
          "text": [
            "Training:  50%|████▉     | 249/500 [00:33<00:33,  7.42Epochs/s]"
          ]
        },
        {
          "name": "stdout",
          "output_type": "stream",
          "text": [
            "out shape from message function should be [E, H, C]: torch.Size([10556, 2, 32])\n",
            "out shape from message function should be [E, H, C]: torch.Size([10556, 2, 32])\n",
            "out shape from message function should be [E, H, C]: torch.Size([10556, 2, 32])\n",
            "out shape from message function should be [E, H, C]: torch.Size([10556, 2, 32])\n"
          ]
        },
        {
          "name": "stderr",
          "output_type": "stream",
          "text": [
            "Training:  50%|█████     | 251/500 [00:34<00:35,  7.02Epochs/s]"
          ]
        },
        {
          "name": "stdout",
          "output_type": "stream",
          "text": [
            "out shape from message function should be [E, H, C]: torch.Size([10556, 2, 32])\n",
            "out shape from message function should be [E, H, C]: torch.Size([10556, 2, 32])\n",
            "out shape from message function should be [E, H, C]: torch.Size([10556, 2, 32])\n",
            "out shape from message function should be [E, H, C]: torch.Size([10556, 2, 32])\n",
            "out shape from message function should be [E, H, C]: torch.Size([10556, 2, 32])\n"
          ]
        },
        {
          "name": "stderr",
          "output_type": "stream",
          "text": [
            "Training:  50%|█████     | 252/500 [00:34<00:33,  7.38Epochs/s]"
          ]
        },
        {
          "name": "stdout",
          "output_type": "stream",
          "text": [
            "out shape from message function should be [E, H, C]: torch.Size([10556, 2, 32])\n",
            "out shape from message function should be [E, H, C]: torch.Size([10556, 2, 32])\n",
            "out shape from message function should be [E, H, C]: torch.Size([10556, 2, 32])\n"
          ]
        },
        {
          "name": "stderr",
          "output_type": "stream",
          "text": [
            "Training:  51%|█████     | 254/500 [00:34<00:31,  7.85Epochs/s]"
          ]
        },
        {
          "name": "stdout",
          "output_type": "stream",
          "text": [
            "out shape from message function should be [E, H, C]: torch.Size([10556, 2, 32])\n",
            "out shape from message function should be [E, H, C]: torch.Size([10556, 2, 32])\n",
            "out shape from message function should be [E, H, C]: torch.Size([10556, 2, 32])\n",
            "out shape from message function should be [E, H, C]: torch.Size([10556, 2, 32])\n"
          ]
        },
        {
          "name": "stderr",
          "output_type": "stream",
          "text": [
            "Training:  51%|█████     | 256/500 [00:34<00:30,  7.89Epochs/s]"
          ]
        },
        {
          "name": "stdout",
          "output_type": "stream",
          "text": [
            "out shape from message function should be [E, H, C]: torch.Size([10556, 2, 32])\n",
            "out shape from message function should be [E, H, C]: torch.Size([10556, 2, 32])\n",
            "out shape from message function should be [E, H, C]: torch.Size([10556, 2, 32])\n",
            "out shape from message function should be [E, H, C]: torch.Size([10556, 2, 32])\n"
          ]
        },
        {
          "name": "stderr",
          "output_type": "stream",
          "text": [
            "Training:  52%|█████▏    | 258/500 [00:34<00:35,  6.75Epochs/s]"
          ]
        },
        {
          "name": "stdout",
          "output_type": "stream",
          "text": [
            "out shape from message function should be [E, H, C]: torch.Size([10556, 2, 32])\n",
            "out shape from message function should be [E, H, C]: torch.Size([10556, 2, 32])\n"
          ]
        },
        {
          "name": "stderr",
          "output_type": "stream",
          "text": [
            "Training:  52%|█████▏    | 259/500 [00:35<00:39,  6.12Epochs/s]"
          ]
        },
        {
          "name": "stdout",
          "output_type": "stream",
          "text": [
            "out shape from message function should be [E, H, C]: torch.Size([10556, 2, 32])\n",
            "out shape from message function should be [E, H, C]: torch.Size([10556, 2, 32])\n",
            "out shape from message function should be [E, H, C]: torch.Size([10556, 2, 32])\n",
            "out shape from message function should be [E, H, C]: torch.Size([10556, 2, 32])\n"
          ]
        },
        {
          "name": "stderr",
          "output_type": "stream",
          "text": [
            "Training:  52%|█████▏    | 261/500 [00:35<00:36,  6.51Epochs/s]"
          ]
        },
        {
          "name": "stdout",
          "output_type": "stream",
          "text": [
            "out shape from message function should be [E, H, C]: torch.Size([10556, 2, 32])\n",
            "out shape from message function should be [E, H, C]: torch.Size([10556, 2, 32])\n",
            "out shape from message function should be [E, H, C]: torch.Size([10556, 2, 32])\n",
            "out shape from message function should be [E, H, C]: torch.Size([10556, 2, 32])\n",
            "out shape from message function should be [E, H, C]: torch.Size([10556, 2, 32])\n"
          ]
        },
        {
          "name": "stderr",
          "output_type": "stream",
          "text": [
            "Training:  52%|█████▏    | 262/500 [00:35<00:35,  6.78Epochs/s]"
          ]
        },
        {
          "name": "stdout",
          "output_type": "stream",
          "text": [
            "out shape from message function should be [E, H, C]: torch.Size([10556, 2, 32])\n",
            "out shape from message function should be [E, H, C]: torch.Size([10556, 2, 32])\n",
            "out shape from message function should be [E, H, C]: torch.Size([10556, 2, 32])\n"
          ]
        },
        {
          "name": "stderr",
          "output_type": "stream",
          "text": [
            "Training:  53%|█████▎    | 264/500 [00:35<00:30,  7.72Epochs/s]"
          ]
        },
        {
          "name": "stdout",
          "output_type": "stream",
          "text": [
            "out shape from message function should be [E, H, C]: torch.Size([10556, 2, 32])\n",
            "out shape from message function should be [E, H, C]: torch.Size([10556, 2, 32])\n",
            "out shape from message function should be [E, H, C]: torch.Size([10556, 2, 32])\n",
            "out shape from message function should be [E, H, C]: torch.Size([10556, 2, 32])\n"
          ]
        },
        {
          "name": "stderr",
          "output_type": "stream",
          "text": [
            "Training:  53%|█████▎    | 266/500 [00:36<00:29,  7.96Epochs/s]"
          ]
        },
        {
          "name": "stdout",
          "output_type": "stream",
          "text": [
            "out shape from message function should be [E, H, C]: torch.Size([10556, 2, 32])\n",
            "out shape from message function should be [E, H, C]: torch.Size([10556, 2, 32])\n",
            "out shape from message function should be [E, H, C]: torch.Size([10556, 2, 32])\n",
            "out shape from message function should be [E, H, C]: torch.Size([10556, 2, 32])\n"
          ]
        },
        {
          "name": "stderr",
          "output_type": "stream",
          "text": [
            "Training:  54%|█████▎    | 268/500 [00:36<00:28,  8.03Epochs/s]"
          ]
        },
        {
          "name": "stdout",
          "output_type": "stream",
          "text": [
            "out shape from message function should be [E, H, C]: torch.Size([10556, 2, 32])\n",
            "out shape from message function should be [E, H, C]: torch.Size([10556, 2, 32])\n",
            "out shape from message function should be [E, H, C]: torch.Size([10556, 2, 32])\n",
            "out shape from message function should be [E, H, C]: torch.Size([10556, 2, 32])\n"
          ]
        },
        {
          "name": "stderr",
          "output_type": "stream",
          "text": [
            "Training:  54%|█████▍    | 270/500 [00:36<00:33,  6.78Epochs/s]"
          ]
        },
        {
          "name": "stdout",
          "output_type": "stream",
          "text": [
            "out shape from message function should be [E, H, C]: torch.Size([10556, 2, 32])\n",
            "out shape from message function should be [E, H, C]: torch.Size([10556, 2, 32])\n",
            "out shape from message function should be [E, H, C]: torch.Size([10556, 2, 32])\n",
            "out shape from message function should be [E, H, C]: torch.Size([10556, 2, 32])\n"
          ]
        },
        {
          "name": "stderr",
          "output_type": "stream",
          "text": [
            "Training:  54%|█████▍    | 272/500 [00:36<00:32,  6.99Epochs/s]"
          ]
        },
        {
          "name": "stdout",
          "output_type": "stream",
          "text": [
            "out shape from message function should be [E, H, C]: torch.Size([10556, 2, 32])\n",
            "out shape from message function should be [E, H, C]: torch.Size([10556, 2, 32])\n",
            "out shape from message function should be [E, H, C]: torch.Size([10556, 2, 32])\n",
            "out shape from message function should be [E, H, C]: torch.Size([10556, 2, 32])\n",
            "out shape from message function should be [E, H, C]: torch.Size([10556, 2, 32])\n",
            "out shape from message function should be [E, H, C]: torch.Size([10556, 2, 32])\n"
          ]
        },
        {
          "name": "stderr",
          "output_type": "stream",
          "text": [
            "Training:  55%|█████▍    | 274/500 [00:37<00:29,  7.56Epochs/s]"
          ]
        },
        {
          "name": "stdout",
          "output_type": "stream",
          "text": [
            "out shape from message function should be [E, H, C]: torch.Size([10556, 2, 32])\n",
            "out shape from message function should be [E, H, C]: torch.Size([10556, 2, 32])\n",
            "out shape from message function should be [E, H, C]: torch.Size([10556, 2, 32])\n",
            "out shape from message function should be [E, H, C]: torch.Size([10556, 2, 32])\n"
          ]
        },
        {
          "name": "stderr",
          "output_type": "stream",
          "text": [
            "Training:  55%|█████▌    | 276/500 [00:37<00:28,  7.97Epochs/s]"
          ]
        },
        {
          "name": "stdout",
          "output_type": "stream",
          "text": [
            "out shape from message function should be [E, H, C]: torch.Size([10556, 2, 32])\n",
            "out shape from message function should be [E, H, C]: torch.Size([10556, 2, 32])\n",
            "out shape from message function should be [E, H, C]: torch.Size([10556, 2, 32])\n",
            "out shape from message function should be [E, H, C]: torch.Size([10556, 2, 32])\n"
          ]
        },
        {
          "name": "stderr",
          "output_type": "stream",
          "text": [
            "Training:  56%|█████▌    | 278/500 [00:37<00:27,  8.14Epochs/s]"
          ]
        },
        {
          "name": "stdout",
          "output_type": "stream",
          "text": [
            "out shape from message function should be [E, H, C]: torch.Size([10556, 2, 32])\n",
            "out shape from message function should be [E, H, C]: torch.Size([10556, 2, 32])\n",
            "out shape from message function should be [E, H, C]: torch.Size([10556, 2, 32])\n",
            "out shape from message function should be [E, H, C]: torch.Size([10556, 2, 32])\n"
          ]
        },
        {
          "name": "stderr",
          "output_type": "stream",
          "text": [
            "Training:  56%|█████▌    | 280/500 [00:37<00:26,  8.43Epochs/s]"
          ]
        },
        {
          "name": "stdout",
          "output_type": "stream",
          "text": [
            "out shape from message function should be [E, H, C]: torch.Size([10556, 2, 32])\n",
            "out shape from message function should be [E, H, C]: torch.Size([10556, 2, 32])\n",
            "out shape from message function should be [E, H, C]: torch.Size([10556, 2, 32])\n",
            "out shape from message function should be [E, H, C]: torch.Size([10556, 2, 32])\n"
          ]
        },
        {
          "name": "stderr",
          "output_type": "stream",
          "text": [
            "Training:  56%|█████▋    | 282/500 [00:38<00:28,  7.59Epochs/s]"
          ]
        },
        {
          "name": "stdout",
          "output_type": "stream",
          "text": [
            "out shape from message function should be [E, H, C]: torch.Size([10556, 2, 32])\n",
            "out shape from message function should be [E, H, C]: torch.Size([10556, 2, 32])\n",
            "out shape from message function should be [E, H, C]: torch.Size([10556, 2, 32])\n",
            "out shape from message function should be [E, H, C]: torch.Size([10556, 2, 32])\n",
            "out shape from message function should be [E, H, C]: torch.Size([10556, 2, 32])\n"
          ]
        },
        {
          "name": "stderr",
          "output_type": "stream",
          "text": [
            "Training:  57%|█████▋    | 283/500 [00:38<00:33,  6.44Epochs/s]"
          ]
        },
        {
          "name": "stdout",
          "output_type": "stream",
          "text": [
            "out shape from message function should be [E, H, C]: torch.Size([10556, 2, 32])\n",
            "out shape from message function should be [E, H, C]: torch.Size([10556, 2, 32])\n",
            "out shape from message function should be [E, H, C]: torch.Size([10556, 2, 32])\n"
          ]
        },
        {
          "name": "stderr",
          "output_type": "stream",
          "text": [
            "Training:  57%|█████▋    | 285/500 [00:38<00:29,  7.28Epochs/s]"
          ]
        },
        {
          "name": "stdout",
          "output_type": "stream",
          "text": [
            "out shape from message function should be [E, H, C]: torch.Size([10556, 2, 32])\n",
            "out shape from message function should be [E, H, C]: torch.Size([10556, 2, 32])\n",
            "out shape from message function should be [E, H, C]: torch.Size([10556, 2, 32])\n",
            "out shape from message function should be [E, H, C]: torch.Size([10556, 2, 32])\n"
          ]
        },
        {
          "name": "stderr",
          "output_type": "stream",
          "text": [
            "Training:  57%|█████▋    | 287/500 [00:38<00:28,  7.60Epochs/s]"
          ]
        },
        {
          "name": "stdout",
          "output_type": "stream",
          "text": [
            "out shape from message function should be [E, H, C]: torch.Size([10556, 2, 32])\n",
            "out shape from message function should be [E, H, C]: torch.Size([10556, 2, 32])\n",
            "out shape from message function should be [E, H, C]: torch.Size([10556, 2, 32])\n",
            "out shape from message function should be [E, H, C]: torch.Size([10556, 2, 32])\n"
          ]
        },
        {
          "name": "stderr",
          "output_type": "stream",
          "text": [
            "Training:  58%|█████▊    | 289/500 [00:39<00:27,  7.73Epochs/s]"
          ]
        },
        {
          "name": "stdout",
          "output_type": "stream",
          "text": [
            "out shape from message function should be [E, H, C]: torch.Size([10556, 2, 32])\n",
            "out shape from message function should be [E, H, C]: torch.Size([10556, 2, 32])\n",
            "out shape from message function should be [E, H, C]: torch.Size([10556, 2, 32])\n",
            "out shape from message function should be [E, H, C]: torch.Size([10556, 2, 32])\n"
          ]
        },
        {
          "name": "stderr",
          "output_type": "stream",
          "text": [
            "Training:  58%|█████▊    | 291/500 [00:39<00:28,  7.21Epochs/s]"
          ]
        },
        {
          "name": "stdout",
          "output_type": "stream",
          "text": [
            "out shape from message function should be [E, H, C]: torch.Size([10556, 2, 32])\n",
            "out shape from message function should be [E, H, C]: torch.Size([10556, 2, 32])\n",
            "out shape from message function should be [E, H, C]: torch.Size([10556, 2, 32])\n",
            "out shape from message function should be [E, H, C]: torch.Size([10556, 2, 32])\n",
            "out shape from message function should be [E, H, C]: torch.Size([10556, 2, 32])\n",
            "out shape from message function should be [E, H, C]: torch.Size([10556, 2, 32])\n"
          ]
        },
        {
          "name": "stderr",
          "output_type": "stream",
          "text": [
            "Training:  59%|█████▊    | 293/500 [00:39<00:26,  7.67Epochs/s]"
          ]
        },
        {
          "name": "stdout",
          "output_type": "stream",
          "text": [
            "out shape from message function should be [E, H, C]: torch.Size([10556, 2, 32])\n",
            "out shape from message function should be [E, H, C]: torch.Size([10556, 2, 32])\n",
            "out shape from message function should be [E, H, C]: torch.Size([10556, 2, 32])\n",
            "out shape from message function should be [E, H, C]: torch.Size([10556, 2, 32])\n"
          ]
        },
        {
          "name": "stderr",
          "output_type": "stream",
          "text": [
            "Training:  59%|█████▉    | 295/500 [00:39<00:25,  8.13Epochs/s]"
          ]
        },
        {
          "name": "stdout",
          "output_type": "stream",
          "text": [
            "out shape from message function should be [E, H, C]: torch.Size([10556, 2, 32])\n",
            "out shape from message function should be [E, H, C]: torch.Size([10556, 2, 32])\n"
          ]
        },
        {
          "name": "stderr",
          "output_type": "stream",
          "text": [
            "Training:  59%|█████▉    | 296/500 [00:40<00:30,  6.62Epochs/s]"
          ]
        },
        {
          "name": "stdout",
          "output_type": "stream",
          "text": [
            "out shape from message function should be [E, H, C]: torch.Size([10556, 2, 32])\n",
            "out shape from message function should be [E, H, C]: torch.Size([10556, 2, 32])\n",
            "out shape from message function should be [E, H, C]: torch.Size([10556, 2, 32])\n",
            "out shape from message function should be [E, H, C]: torch.Size([10556, 2, 32])\n"
          ]
        },
        {
          "name": "stderr",
          "output_type": "stream",
          "text": [
            "Training:  60%|█████▉    | 298/500 [00:40<00:26,  7.57Epochs/s]"
          ]
        },
        {
          "name": "stdout",
          "output_type": "stream",
          "text": [
            "out shape from message function should be [E, H, C]: torch.Size([10556, 2, 32])\n",
            "out shape from message function should be [E, H, C]: torch.Size([10556, 2, 32])\n",
            "out shape from message function should be [E, H, C]: torch.Size([10556, 2, 32])\n",
            "out shape from message function should be [E, H, C]: torch.Size([10556, 2, 32])\n"
          ]
        },
        {
          "name": "stderr",
          "output_type": "stream",
          "text": [
            "Training:  60%|██████    | 300/500 [00:40<00:24,  8.10Epochs/s]"
          ]
        },
        {
          "name": "stdout",
          "output_type": "stream",
          "text": [
            "out shape from message function should be [E, H, C]: torch.Size([10556, 2, 32])\n",
            "out shape from message function should be [E, H, C]: torch.Size([10556, 2, 32])\n",
            "out shape from message function should be [E, H, C]: torch.Size([10556, 2, 32])\n",
            "out shape from message function should be [E, H, C]: torch.Size([10556, 2, 32])\n"
          ]
        },
        {
          "name": "stderr",
          "output_type": "stream",
          "text": [
            "Training:  60%|██████    | 302/500 [00:40<00:25,  7.81Epochs/s]"
          ]
        },
        {
          "name": "stdout",
          "output_type": "stream",
          "text": [
            "out shape from message function should be [E, H, C]: torch.Size([10556, 2, 32])\n",
            "out shape from message function should be [E, H, C]: torch.Size([10556, 2, 32])\n",
            "out shape from message function should be [E, H, C]: torch.Size([10556, 2, 32])\n",
            "out shape from message function should be [E, H, C]: torch.Size([10556, 2, 32])\n",
            "out shape from message function should be [E, H, C]: torch.Size([10556, 2, 32])\n",
            "out shape from message function should be [E, H, C]: torch.Size([10556, 2, 32])\n"
          ]
        },
        {
          "name": "stderr",
          "output_type": "stream",
          "text": [
            "Training:  61%|██████    | 304/500 [00:41<00:23,  8.42Epochs/s]"
          ]
        },
        {
          "name": "stdout",
          "output_type": "stream",
          "text": [
            "out shape from message function should be [E, H, C]: torch.Size([10556, 2, 32])\n",
            "out shape from message function should be [E, H, C]: torch.Size([10556, 2, 32])\n",
            "out shape from message function should be [E, H, C]: torch.Size([10556, 2, 32])\n",
            "out shape from message function should be [E, H, C]: torch.Size([10556, 2, 32])\n"
          ]
        },
        {
          "name": "stderr",
          "output_type": "stream",
          "text": [
            "Training:  61%|██████    | 306/500 [00:41<00:22,  8.45Epochs/s]"
          ]
        },
        {
          "name": "stdout",
          "output_type": "stream",
          "text": [
            "out shape from message function should be [E, H, C]: torch.Size([10556, 2, 32])\n",
            "out shape from message function should be [E, H, C]: torch.Size([10556, 2, 32])\n",
            "out shape from message function should be [E, H, C]: torch.Size([10556, 2, 32])\n",
            "out shape from message function should be [E, H, C]: torch.Size([10556, 2, 32])\n"
          ]
        },
        {
          "name": "stderr",
          "output_type": "stream",
          "text": [
            "Training:  62%|██████▏   | 308/500 [00:41<00:22,  8.51Epochs/s]"
          ]
        },
        {
          "name": "stdout",
          "output_type": "stream",
          "text": [
            "out shape from message function should be [E, H, C]: torch.Size([10556, 2, 32])\n",
            "out shape from message function should be [E, H, C]: torch.Size([10556, 2, 32])\n"
          ]
        },
        {
          "name": "stderr",
          "output_type": "stream",
          "text": [
            "Training:  62%|██████▏   | 309/500 [00:41<00:28,  6.68Epochs/s]"
          ]
        },
        {
          "name": "stdout",
          "output_type": "stream",
          "text": [
            "out shape from message function should be [E, H, C]: torch.Size([10556, 2, 32])\n",
            "out shape from message function should be [E, H, C]: torch.Size([10556, 2, 32])\n",
            "out shape from message function should be [E, H, C]: torch.Size([10556, 2, 32])\n",
            "out shape from message function should be [E, H, C]: torch.Size([10556, 2, 32])\n"
          ]
        },
        {
          "name": "stderr",
          "output_type": "stream",
          "text": [
            "Training:  62%|██████▏   | 311/500 [00:42<00:28,  6.61Epochs/s]"
          ]
        },
        {
          "name": "stdout",
          "output_type": "stream",
          "text": [
            "out shape from message function should be [E, H, C]: torch.Size([10556, 2, 32])\n",
            "out shape from message function should be [E, H, C]: torch.Size([10556, 2, 32])\n",
            "out shape from message function should be [E, H, C]: torch.Size([10556, 2, 32])\n",
            "out shape from message function should be [E, H, C]: torch.Size([10556, 2, 32])\n",
            "out shape from message function should be [E, H, C]: torch.Size([10556, 2, 32])\n"
          ]
        },
        {
          "name": "stderr",
          "output_type": "stream",
          "text": [
            "Training:  63%|██████▎   | 313/500 [00:42<00:24,  7.54Epochs/s]"
          ]
        },
        {
          "name": "stdout",
          "output_type": "stream",
          "text": [
            "out shape from message function should be [E, H, C]: torch.Size([10556, 2, 32])\n",
            "out shape from message function should be [E, H, C]: torch.Size([10556, 2, 32])\n",
            "out shape from message function should be [E, H, C]: torch.Size([10556, 2, 32])\n"
          ]
        },
        {
          "name": "stderr",
          "output_type": "stream",
          "text": [
            "Training:  63%|██████▎   | 314/500 [00:42<00:24,  7.62Epochs/s]"
          ]
        },
        {
          "name": "stdout",
          "output_type": "stream",
          "text": [
            "out shape from message function should be [E, H, C]: torch.Size([10556, 2, 32])\n",
            "out shape from message function should be [E, H, C]: torch.Size([10556, 2, 32])\n",
            "out shape from message function should be [E, H, C]: torch.Size([10556, 2, 32])\n",
            "out shape from message function should be [E, H, C]: torch.Size([10556, 2, 32])\n"
          ]
        },
        {
          "name": "stderr",
          "output_type": "stream",
          "text": [
            "Training:  63%|██████▎   | 316/500 [00:42<00:23,  7.98Epochs/s]"
          ]
        },
        {
          "name": "stdout",
          "output_type": "stream",
          "text": [
            "out shape from message function should be [E, H, C]: torch.Size([10556, 2, 32])\n",
            "out shape from message function should be [E, H, C]: torch.Size([10556, 2, 32])\n",
            "out shape from message function should be [E, H, C]: torch.Size([10556, 2, 32])\n",
            "out shape from message function should be [E, H, C]: torch.Size([10556, 2, 32])\n"
          ]
        },
        {
          "name": "stderr",
          "output_type": "stream",
          "text": [
            "Training:  64%|██████▎   | 318/500 [00:42<00:22,  8.23Epochs/s]"
          ]
        },
        {
          "name": "stdout",
          "output_type": "stream",
          "text": [
            "out shape from message function should be [E, H, C]: torch.Size([10556, 2, 32])\n",
            "out shape from message function should be [E, H, C]: torch.Size([10556, 2, 32])\n",
            "out shape from message function should be [E, H, C]: torch.Size([10556, 2, 32])\n",
            "out shape from message function should be [E, H, C]: torch.Size([10556, 2, 32])\n"
          ]
        },
        {
          "name": "stderr",
          "output_type": "stream",
          "text": [
            "Training:  64%|██████▍   | 320/500 [00:43<00:26,  6.71Epochs/s]"
          ]
        },
        {
          "name": "stdout",
          "output_type": "stream",
          "text": [
            "out shape from message function should be [E, H, C]: torch.Size([10556, 2, 32])\n",
            "out shape from message function should be [E, H, C]: torch.Size([10556, 2, 32])\n",
            "out shape from message function should be [E, H, C]: torch.Size([10556, 2, 32])\n",
            "out shape from message function should be [E, H, C]: torch.Size([10556, 2, 32])\n"
          ]
        },
        {
          "name": "stderr",
          "output_type": "stream",
          "text": [
            "Training:  64%|██████▍   | 322/500 [00:43<00:24,  7.18Epochs/s]"
          ]
        },
        {
          "name": "stdout",
          "output_type": "stream",
          "text": [
            "out shape from message function should be [E, H, C]: torch.Size([10556, 2, 32])\n",
            "out shape from message function should be [E, H, C]: torch.Size([10556, 2, 32])\n",
            "out shape from message function should be [E, H, C]: torch.Size([10556, 2, 32])\n",
            "out shape from message function should be [E, H, C]: torch.Size([10556, 2, 32])\n",
            "out shape from message function should be [E, H, C]: torch.Size([10556, 2, 32])\n",
            "out shape from message function should be [E, H, C]: torch.Size([10556, 2, 32])\n"
          ]
        },
        {
          "name": "stderr",
          "output_type": "stream",
          "text": [
            "Training:  65%|██████▍   | 324/500 [00:43<00:22,  7.97Epochs/s]"
          ]
        },
        {
          "name": "stdout",
          "output_type": "stream",
          "text": [
            "out shape from message function should be [E, H, C]: torch.Size([10556, 2, 32])\n",
            "out shape from message function should be [E, H, C]: torch.Size([10556, 2, 32])\n",
            "out shape from message function should be [E, H, C]: torch.Size([10556, 2, 32])\n",
            "out shape from message function should be [E, H, C]: torch.Size([10556, 2, 32])\n"
          ]
        },
        {
          "name": "stderr",
          "output_type": "stream",
          "text": [
            "Training:  65%|██████▌   | 326/500 [00:43<00:20,  8.37Epochs/s]"
          ]
        },
        {
          "name": "stdout",
          "output_type": "stream",
          "text": [
            "out shape from message function should be [E, H, C]: torch.Size([10556, 2, 32])\n",
            "out shape from message function should be [E, H, C]: torch.Size([10556, 2, 32])\n",
            "out shape from message function should be [E, H, C]: torch.Size([10556, 2, 32])\n",
            "out shape from message function should be [E, H, C]: torch.Size([10556, 2, 32])\n"
          ]
        },
        {
          "name": "stderr",
          "output_type": "stream",
          "text": [
            "Training:  66%|██████▌   | 328/500 [00:44<00:19,  8.77Epochs/s]"
          ]
        },
        {
          "name": "stdout",
          "output_type": "stream",
          "text": [
            "out shape from message function should be [E, H, C]: torch.Size([10556, 2, 32])\n",
            "out shape from message function should be [E, H, C]: torch.Size([10556, 2, 32])\n",
            "out shape from message function should be [E, H, C]: torch.Size([10556, 2, 32])\n",
            "out shape from message function should be [E, H, C]: torch.Size([10556, 2, 32])\n"
          ]
        },
        {
          "name": "stderr",
          "output_type": "stream",
          "text": [
            "Training:  66%|██████▌   | 330/500 [00:44<00:19,  8.85Epochs/s]"
          ]
        },
        {
          "name": "stdout",
          "output_type": "stream",
          "text": [
            "out shape from message function should be [E, H, C]: torch.Size([10556, 2, 32])\n",
            "out shape from message function should be [E, H, C]: torch.Size([10556, 2, 32])\n",
            "out shape from message function should be [E, H, C]: torch.Size([10556, 2, 32])\n",
            "out shape from message function should be [E, H, C]: torch.Size([10556, 2, 32])\n"
          ]
        },
        {
          "name": "stderr",
          "output_type": "stream",
          "text": [
            "Training:  66%|██████▋   | 332/500 [00:44<00:20,  8.21Epochs/s]"
          ]
        },
        {
          "name": "stdout",
          "output_type": "stream",
          "text": [
            "out shape from message function should be [E, H, C]: torch.Size([10556, 2, 32])\n",
            "out shape from message function should be [E, H, C]: torch.Size([10556, 2, 32])\n",
            "out shape from message function should be [E, H, C]: torch.Size([10556, 2, 32])\n",
            "out shape from message function should be [E, H, C]: torch.Size([10556, 2, 32])\n"
          ]
        },
        {
          "name": "stderr",
          "output_type": "stream",
          "text": [
            "Training:  67%|██████▋   | 333/500 [00:44<00:23,  6.98Epochs/s]"
          ]
        },
        {
          "name": "stdout",
          "output_type": "stream",
          "text": [
            "out shape from message function should be [E, H, C]: torch.Size([10556, 2, 32])\n",
            "out shape from message function should be [E, H, C]: torch.Size([10556, 2, 32])\n",
            "out shape from message function should be [E, H, C]: torch.Size([10556, 2, 32])\n",
            "out shape from message function should be [E, H, C]: torch.Size([10556, 2, 32])\n"
          ]
        },
        {
          "name": "stderr",
          "output_type": "stream",
          "text": [
            "Training:  67%|██████▋   | 336/500 [00:45<00:19,  8.23Epochs/s]"
          ]
        },
        {
          "name": "stdout",
          "output_type": "stream",
          "text": [
            "out shape from message function should be [E, H, C]: torch.Size([10556, 2, 32])\n",
            "out shape from message function should be [E, H, C]: torch.Size([10556, 2, 32])\n",
            "out shape from message function should be [E, H, C]: torch.Size([10556, 2, 32])\n",
            "out shape from message function should be [E, H, C]: torch.Size([10556, 2, 32])\n"
          ]
        },
        {
          "name": "stderr",
          "output_type": "stream",
          "text": [
            "Training:  67%|██████▋   | 337/500 [00:45<00:19,  8.30Epochs/s]"
          ]
        },
        {
          "name": "stdout",
          "output_type": "stream",
          "text": [
            "out shape from message function should be [E, H, C]: torch.Size([10556, 2, 32])\n",
            "out shape from message function should be [E, H, C]: torch.Size([10556, 2, 32])\n",
            "out shape from message function should be [E, H, C]: torch.Size([10556, 2, 32])\n",
            "out shape from message function should be [E, H, C]: torch.Size([10556, 2, 32])\n"
          ]
        },
        {
          "name": "stderr",
          "output_type": "stream",
          "text": [
            "Training:  68%|██████▊   | 339/500 [00:45<00:18,  8.59Epochs/s]"
          ]
        },
        {
          "name": "stdout",
          "output_type": "stream",
          "text": [
            "out shape from message function should be [E, H, C]: torch.Size([10556, 2, 32])\n",
            "out shape from message function should be [E, H, C]: torch.Size([10556, 2, 32])\n",
            "out shape from message function should be [E, H, C]: torch.Size([10556, 2, 32])\n",
            "out shape from message function should be [E, H, C]: torch.Size([10556, 2, 32])\n"
          ]
        },
        {
          "name": "stderr",
          "output_type": "stream",
          "text": [
            "Training:  68%|██████▊   | 341/500 [00:45<00:20,  7.80Epochs/s]"
          ]
        },
        {
          "name": "stdout",
          "output_type": "stream",
          "text": [
            "out shape from message function should be [E, H, C]: torch.Size([10556, 2, 32])\n",
            "out shape from message function should be [E, H, C]: torch.Size([10556, 2, 32])\n",
            "out shape from message function should be [E, H, C]: torch.Size([10556, 2, 32])\n",
            "out shape from message function should be [E, H, C]: torch.Size([10556, 2, 32])\n",
            "out shape from message function should be [E, H, C]: torch.Size([10556, 2, 32])\n",
            "out shape from message function should be [E, H, C]: torch.Size([10556, 2, 32])\n"
          ]
        },
        {
          "name": "stderr",
          "output_type": "stream",
          "text": [
            "Training:  69%|██████▊   | 343/500 [00:46<00:18,  8.27Epochs/s]"
          ]
        },
        {
          "name": "stdout",
          "output_type": "stream",
          "text": [
            "out shape from message function should be [E, H, C]: torch.Size([10556, 2, 32])\n",
            "out shape from message function should be [E, H, C]: torch.Size([10556, 2, 32])\n",
            "out shape from message function should be [E, H, C]: torch.Size([10556, 2, 32])\n",
            "out shape from message function should be [E, H, C]: torch.Size([10556, 2, 32])\n"
          ]
        },
        {
          "name": "stderr",
          "output_type": "stream",
          "text": [
            "Training:  69%|██████▉   | 345/500 [00:46<00:17,  8.76Epochs/s]"
          ]
        },
        {
          "name": "stdout",
          "output_type": "stream",
          "text": [
            "out shape from message function should be [E, H, C]: torch.Size([10556, 2, 32])\n",
            "out shape from message function should be [E, H, C]: torch.Size([10556, 2, 32])\n",
            "out shape from message function should be [E, H, C]: torch.Size([10556, 2, 32])\n",
            "out shape from message function should be [E, H, C]: torch.Size([10556, 2, 32])\n"
          ]
        },
        {
          "name": "stderr",
          "output_type": "stream",
          "text": [
            "Training:  69%|██████▉   | 347/500 [00:46<00:20,  7.65Epochs/s]"
          ]
        },
        {
          "name": "stdout",
          "output_type": "stream",
          "text": [
            "out shape from message function should be [E, H, C]: torch.Size([10556, 2, 32])\n",
            "out shape from message function should be [E, H, C]: torch.Size([10556, 2, 32])\n",
            "out shape from message function should be [E, H, C]: torch.Size([10556, 2, 32])\n",
            "out shape from message function should be [E, H, C]: torch.Size([10556, 2, 32])\n"
          ]
        },
        {
          "name": "stderr",
          "output_type": "stream",
          "text": [
            "Training:  70%|██████▉   | 349/500 [00:46<00:18,  8.27Epochs/s]"
          ]
        },
        {
          "name": "stdout",
          "output_type": "stream",
          "text": [
            "out shape from message function should be [E, H, C]: torch.Size([10556, 2, 32])\n",
            "out shape from message function should be [E, H, C]: torch.Size([10556, 2, 32])\n",
            "out shape from message function should be [E, H, C]: torch.Size([10556, 2, 32])\n",
            "out shape from message function should be [E, H, C]: torch.Size([10556, 2, 32])\n"
          ]
        },
        {
          "name": "stderr",
          "output_type": "stream",
          "text": [
            "Training:  70%|███████   | 351/500 [00:47<00:18,  7.89Epochs/s]"
          ]
        },
        {
          "name": "stdout",
          "output_type": "stream",
          "text": [
            "out shape from message function should be [E, H, C]: torch.Size([10556, 2, 32])\n",
            "out shape from message function should be [E, H, C]: torch.Size([10556, 2, 32])\n",
            "out shape from message function should be [E, H, C]: torch.Size([10556, 2, 32])\n",
            "out shape from message function should be [E, H, C]: torch.Size([10556, 2, 32])\n",
            "out shape from message function should be [E, H, C]: torch.Size([10556, 2, 32])\n",
            "out shape from message function should be [E, H, C]: torch.Size([10556, 2, 32])\n"
          ]
        },
        {
          "name": "stderr",
          "output_type": "stream",
          "text": [
            "Training:  71%|███████   | 353/500 [00:47<00:17,  8.37Epochs/s]"
          ]
        },
        {
          "name": "stdout",
          "output_type": "stream",
          "text": [
            "out shape from message function should be [E, H, C]: torch.Size([10556, 2, 32])\n",
            "out shape from message function should be [E, H, C]: torch.Size([10556, 2, 32])\n",
            "out shape from message function should be [E, H, C]: torch.Size([10556, 2, 32])\n",
            "out shape from message function should be [E, H, C]: torch.Size([10556, 2, 32])\n"
          ]
        },
        {
          "name": "stderr",
          "output_type": "stream",
          "text": [
            "Training:  71%|███████   | 355/500 [00:47<00:16,  8.66Epochs/s]"
          ]
        },
        {
          "name": "stdout",
          "output_type": "stream",
          "text": [
            "out shape from message function should be [E, H, C]: torch.Size([10556, 2, 32])\n",
            "out shape from message function should be [E, H, C]: torch.Size([10556, 2, 32])\n",
            "out shape from message function should be [E, H, C]: torch.Size([10556, 2, 32])\n",
            "out shape from message function should be [E, H, C]: torch.Size([10556, 2, 32])\n"
          ]
        },
        {
          "name": "stderr",
          "output_type": "stream",
          "text": [
            "Training:  71%|███████▏  | 357/500 [00:47<00:16,  8.81Epochs/s]"
          ]
        },
        {
          "name": "stdout",
          "output_type": "stream",
          "text": [
            "out shape from message function should be [E, H, C]: torch.Size([10556, 2, 32])\n",
            "out shape from message function should be [E, H, C]: torch.Size([10556, 2, 32])\n",
            "out shape from message function should be [E, H, C]: torch.Size([10556, 2, 32])\n",
            "out shape from message function should be [E, H, C]: torch.Size([10556, 2, 32])\n"
          ]
        },
        {
          "name": "stderr",
          "output_type": "stream",
          "text": [
            "Training:  72%|███████▏  | 359/500 [00:47<00:15,  8.99Epochs/s]"
          ]
        },
        {
          "name": "stdout",
          "output_type": "stream",
          "text": [
            "out shape from message function should be [E, H, C]: torch.Size([10556, 2, 32])\n",
            "out shape from message function should be [E, H, C]: torch.Size([10556, 2, 32])\n",
            "out shape from message function should be [E, H, C]: torch.Size([10556, 2, 32])\n",
            "out shape from message function should be [E, H, C]: torch.Size([10556, 2, 32])\n"
          ]
        },
        {
          "name": "stderr",
          "output_type": "stream",
          "text": [
            "Training:  72%|███████▏  | 361/500 [00:48<00:20,  6.66Epochs/s]"
          ]
        },
        {
          "name": "stdout",
          "output_type": "stream",
          "text": [
            "out shape from message function should be [E, H, C]: torch.Size([10556, 2, 32])\n",
            "out shape from message function should be [E, H, C]: torch.Size([10556, 2, 32])\n",
            "out shape from message function should be [E, H, C]: torch.Size([10556, 2, 32])\n",
            "out shape from message function should be [E, H, C]: torch.Size([10556, 2, 32])\n",
            "out shape from message function should be [E, H, C]: torch.Size([10556, 2, 32])\n",
            "out shape from message function should be [E, H, C]: torch.Size([10556, 2, 32])\n"
          ]
        },
        {
          "name": "stderr",
          "output_type": "stream",
          "text": [
            "Training:  73%|███████▎  | 363/500 [00:48<00:18,  7.57Epochs/s]"
          ]
        },
        {
          "name": "stdout",
          "output_type": "stream",
          "text": [
            "out shape from message function should be [E, H, C]: torch.Size([10556, 2, 32])\n",
            "out shape from message function should be [E, H, C]: torch.Size([10556, 2, 32])\n",
            "out shape from message function should be [E, H, C]: torch.Size([10556, 2, 32])\n",
            "out shape from message function should be [E, H, C]: torch.Size([10556, 2, 32])\n"
          ]
        },
        {
          "name": "stderr",
          "output_type": "stream",
          "text": [
            "Training:  73%|███████▎  | 365/500 [00:48<00:16,  8.25Epochs/s]"
          ]
        },
        {
          "name": "stdout",
          "output_type": "stream",
          "text": [
            "out shape from message function should be [E, H, C]: torch.Size([10556, 2, 32])\n",
            "out shape from message function should be [E, H, C]: torch.Size([10556, 2, 32])\n",
            "out shape from message function should be [E, H, C]: torch.Size([10556, 2, 32])\n",
            "out shape from message function should be [E, H, C]: torch.Size([10556, 2, 32])\n"
          ]
        },
        {
          "name": "stderr",
          "output_type": "stream",
          "text": [
            "Training:  73%|███████▎  | 367/500 [00:48<00:15,  8.61Epochs/s]"
          ]
        },
        {
          "name": "stdout",
          "output_type": "stream",
          "text": [
            "out shape from message function should be [E, H, C]: torch.Size([10556, 2, 32])\n",
            "out shape from message function should be [E, H, C]: torch.Size([10556, 2, 32])\n",
            "out shape from message function should be [E, H, C]: torch.Size([10556, 2, 32])\n",
            "out shape from message function should be [E, H, C]: torch.Size([10556, 2, 32])\n"
          ]
        },
        {
          "name": "stderr",
          "output_type": "stream",
          "text": [
            "Training:  74%|███████▍  | 369/500 [00:49<00:14,  8.90Epochs/s]"
          ]
        },
        {
          "name": "stdout",
          "output_type": "stream",
          "text": [
            "out shape from message function should be [E, H, C]: torch.Size([10556, 2, 32])\n",
            "out shape from message function should be [E, H, C]: torch.Size([10556, 2, 32])\n",
            "out shape from message function should be [E, H, C]: torch.Size([10556, 2, 32])\n",
            "out shape from message function should be [E, H, C]: torch.Size([10556, 2, 32])\n"
          ]
        },
        {
          "name": "stderr",
          "output_type": "stream",
          "text": [
            "Training:  74%|███████▍  | 371/500 [00:49<00:16,  7.84Epochs/s]"
          ]
        },
        {
          "name": "stdout",
          "output_type": "stream",
          "text": [
            "out shape from message function should be [E, H, C]: torch.Size([10556, 2, 32])\n",
            "out shape from message function should be [E, H, C]: torch.Size([10556, 2, 32])\n",
            "out shape from message function should be [E, H, C]: torch.Size([10556, 2, 32])\n",
            "out shape from message function should be [E, H, C]: torch.Size([10556, 2, 32])\n",
            "out shape from message function should be [E, H, C]: torch.Size([10556, 2, 32])\n",
            "out shape from message function should be [E, H, C]: torch.Size([10556, 2, 32])\n"
          ]
        },
        {
          "name": "stderr",
          "output_type": "stream",
          "text": [
            "Training:  75%|███████▍  | 373/500 [00:49<00:15,  8.19Epochs/s]"
          ]
        },
        {
          "name": "stdout",
          "output_type": "stream",
          "text": [
            "out shape from message function should be [E, H, C]: torch.Size([10556, 2, 32])\n",
            "out shape from message function should be [E, H, C]: torch.Size([10556, 2, 32])\n",
            "out shape from message function should be [E, H, C]: torch.Size([10556, 2, 32])\n",
            "out shape from message function should be [E, H, C]: torch.Size([10556, 2, 32])\n"
          ]
        },
        {
          "name": "stderr",
          "output_type": "stream",
          "text": [
            "Training:  75%|███████▌  | 375/500 [00:49<00:17,  7.04Epochs/s]"
          ]
        },
        {
          "name": "stdout",
          "output_type": "stream",
          "text": [
            "out shape from message function should be [E, H, C]: torch.Size([10556, 2, 32])\n",
            "out shape from message function should be [E, H, C]: torch.Size([10556, 2, 32])\n",
            "out shape from message function should be [E, H, C]: torch.Size([10556, 2, 32])\n",
            "out shape from message function should be [E, H, C]: torch.Size([10556, 2, 32])\n"
          ]
        },
        {
          "name": "stderr",
          "output_type": "stream",
          "text": [
            "Training:  75%|███████▌  | 377/500 [00:50<00:15,  7.91Epochs/s]"
          ]
        },
        {
          "name": "stdout",
          "output_type": "stream",
          "text": [
            "out shape from message function should be [E, H, C]: torch.Size([10556, 2, 32])\n",
            "out shape from message function should be [E, H, C]: torch.Size([10556, 2, 32])\n",
            "out shape from message function should be [E, H, C]: torch.Size([10556, 2, 32])\n",
            "out shape from message function should be [E, H, C]: torch.Size([10556, 2, 32])\n"
          ]
        },
        {
          "name": "stderr",
          "output_type": "stream",
          "text": [
            "Training:  76%|███████▌  | 379/500 [00:50<00:14,  8.45Epochs/s]"
          ]
        },
        {
          "name": "stdout",
          "output_type": "stream",
          "text": [
            "out shape from message function should be [E, H, C]: torch.Size([10556, 2, 32])\n",
            "out shape from message function should be [E, H, C]: torch.Size([10556, 2, 32])\n",
            "out shape from message function should be [E, H, C]: torch.Size([10556, 2, 32])\n",
            "out shape from message function should be [E, H, C]: torch.Size([10556, 2, 32])\n"
          ]
        },
        {
          "name": "stderr",
          "output_type": "stream",
          "text": [
            "Training:  76%|███████▌  | 381/500 [00:50<00:15,  7.72Epochs/s]"
          ]
        },
        {
          "name": "stdout",
          "output_type": "stream",
          "text": [
            "out shape from message function should be [E, H, C]: torch.Size([10556, 2, 32])\n",
            "out shape from message function should be [E, H, C]: torch.Size([10556, 2, 32])\n",
            "out shape from message function should be [E, H, C]: torch.Size([10556, 2, 32])\n",
            "out shape from message function should be [E, H, C]: torch.Size([10556, 2, 32])\n",
            "out shape from message function should be [E, H, C]: torch.Size([10556, 2, 32])\n",
            "out shape from message function should be [E, H, C]: torch.Size([10556, 2, 32])\n"
          ]
        },
        {
          "name": "stderr",
          "output_type": "stream",
          "text": [
            "Training:  77%|███████▋  | 383/500 [00:50<00:13,  8.38Epochs/s]"
          ]
        },
        {
          "name": "stdout",
          "output_type": "stream",
          "text": [
            "out shape from message function should be [E, H, C]: torch.Size([10556, 2, 32])\n",
            "out shape from message function should be [E, H, C]: torch.Size([10556, 2, 32])\n",
            "out shape from message function should be [E, H, C]: torch.Size([10556, 2, 32])\n",
            "out shape from message function should be [E, H, C]: torch.Size([10556, 2, 32])\n"
          ]
        },
        {
          "name": "stderr",
          "output_type": "stream",
          "text": [
            "Training:  77%|███████▋  | 385/500 [00:51<00:12,  8.87Epochs/s]"
          ]
        },
        {
          "name": "stdout",
          "output_type": "stream",
          "text": [
            "out shape from message function should be [E, H, C]: torch.Size([10556, 2, 32])\n",
            "out shape from message function should be [E, H, C]: torch.Size([10556, 2, 32])\n",
            "out shape from message function should be [E, H, C]: torch.Size([10556, 2, 32])\n",
            "out shape from message function should be [E, H, C]: torch.Size([10556, 2, 32])\n"
          ]
        },
        {
          "name": "stderr",
          "output_type": "stream",
          "text": [
            "Training:  77%|███████▋  | 387/500 [00:51<00:12,  8.84Epochs/s]"
          ]
        },
        {
          "name": "stdout",
          "output_type": "stream",
          "text": [
            "out shape from message function should be [E, H, C]: torch.Size([10556, 2, 32])\n",
            "out shape from message function should be [E, H, C]: torch.Size([10556, 2, 32])\n",
            "out shape from message function should be [E, H, C]: torch.Size([10556, 2, 32])\n",
            "out shape from message function should be [E, H, C]: torch.Size([10556, 2, 32])\n"
          ]
        },
        {
          "name": "stderr",
          "output_type": "stream",
          "text": [
            "Training:  78%|███████▊  | 389/500 [00:51<00:15,  7.33Epochs/s]"
          ]
        },
        {
          "name": "stdout",
          "output_type": "stream",
          "text": [
            "out shape from message function should be [E, H, C]: torch.Size([10556, 2, 32])\n",
            "out shape from message function should be [E, H, C]: torch.Size([10556, 2, 32])\n",
            "out shape from message function should be [E, H, C]: torch.Size([10556, 2, 32])\n",
            "out shape from message function should be [E, H, C]: torch.Size([10556, 2, 32])\n"
          ]
        },
        {
          "name": "stderr",
          "output_type": "stream",
          "text": [
            "Training:  78%|███████▊  | 391/500 [00:51<00:15,  7.13Epochs/s]"
          ]
        },
        {
          "name": "stdout",
          "output_type": "stream",
          "text": [
            "out shape from message function should be [E, H, C]: torch.Size([10556, 2, 32])\n",
            "out shape from message function should be [E, H, C]: torch.Size([10556, 2, 32])\n",
            "out shape from message function should be [E, H, C]: torch.Size([10556, 2, 32])\n",
            "out shape from message function should be [E, H, C]: torch.Size([10556, 2, 32])\n",
            "out shape from message function should be [E, H, C]: torch.Size([10556, 2, 32])\n",
            "out shape from message function should be [E, H, C]: torch.Size([10556, 2, 32])\n"
          ]
        },
        {
          "name": "stderr",
          "output_type": "stream",
          "text": [
            "Training:  79%|███████▊  | 393/500 [00:52<00:13,  7.82Epochs/s]"
          ]
        },
        {
          "name": "stdout",
          "output_type": "stream",
          "text": [
            "out shape from message function should be [E, H, C]: torch.Size([10556, 2, 32])\n",
            "out shape from message function should be [E, H, C]: torch.Size([10556, 2, 32])\n",
            "out shape from message function should be [E, H, C]: torch.Size([10556, 2, 32])\n",
            "out shape from message function should be [E, H, C]: torch.Size([10556, 2, 32])\n"
          ]
        },
        {
          "name": "stderr",
          "output_type": "stream",
          "text": [
            "Training:  79%|███████▉  | 395/500 [00:52<00:14,  7.31Epochs/s]"
          ]
        },
        {
          "name": "stdout",
          "output_type": "stream",
          "text": [
            "out shape from message function should be [E, H, C]: torch.Size([10556, 2, 32])\n",
            "out shape from message function should be [E, H, C]: torch.Size([10556, 2, 32])\n",
            "out shape from message function should be [E, H, C]: torch.Size([10556, 2, 32])\n",
            "out shape from message function should be [E, H, C]: torch.Size([10556, 2, 32])\n"
          ]
        },
        {
          "name": "stderr",
          "output_type": "stream",
          "text": [
            "Training:  79%|███████▉  | 397/500 [00:52<00:12,  8.17Epochs/s]"
          ]
        },
        {
          "name": "stdout",
          "output_type": "stream",
          "text": [
            "out shape from message function should be [E, H, C]: torch.Size([10556, 2, 32])\n",
            "out shape from message function should be [E, H, C]: torch.Size([10556, 2, 32])\n",
            "out shape from message function should be [E, H, C]: torch.Size([10556, 2, 32])\n",
            "out shape from message function should be [E, H, C]: torch.Size([10556, 2, 32])\n"
          ]
        },
        {
          "name": "stderr",
          "output_type": "stream",
          "text": [
            "Training:  80%|███████▉  | 399/500 [00:52<00:11,  8.58Epochs/s]"
          ]
        },
        {
          "name": "stdout",
          "output_type": "stream",
          "text": [
            "out shape from message function should be [E, H, C]: torch.Size([10556, 2, 32])\n",
            "out shape from message function should be [E, H, C]: torch.Size([10556, 2, 32])\n",
            "out shape from message function should be [E, H, C]: torch.Size([10556, 2, 32])\n",
            "out shape from message function should be [E, H, C]: torch.Size([10556, 2, 32])\n"
          ]
        },
        {
          "name": "stderr",
          "output_type": "stream",
          "text": [
            "Training:  80%|████████  | 401/500 [00:53<00:12,  7.89Epochs/s]"
          ]
        },
        {
          "name": "stdout",
          "output_type": "stream",
          "text": [
            "out shape from message function should be [E, H, C]: torch.Size([10556, 2, 32])\n",
            "out shape from message function should be [E, H, C]: torch.Size([10556, 2, 32])\n",
            "out shape from message function should be [E, H, C]: torch.Size([10556, 2, 32])\n",
            "out shape from message function should be [E, H, C]: torch.Size([10556, 2, 32])\n",
            "out shape from message function should be [E, H, C]: torch.Size([10556, 2, 32])\n",
            "out shape from message function should be [E, H, C]: torch.Size([10556, 2, 32])\n"
          ]
        },
        {
          "name": "stderr",
          "output_type": "stream",
          "text": [
            "Training:  81%|████████  | 403/500 [00:53<00:14,  6.90Epochs/s]"
          ]
        },
        {
          "name": "stdout",
          "output_type": "stream",
          "text": [
            "out shape from message function should be [E, H, C]: torch.Size([10556, 2, 32])\n",
            "out shape from message function should be [E, H, C]: torch.Size([10556, 2, 32])\n",
            "out shape from message function should be [E, H, C]: torch.Size([10556, 2, 32])\n",
            "out shape from message function should be [E, H, C]: torch.Size([10556, 2, 32])\n"
          ]
        },
        {
          "name": "stderr",
          "output_type": "stream",
          "text": [
            "Training:  81%|████████  | 405/500 [00:53<00:12,  7.91Epochs/s]"
          ]
        },
        {
          "name": "stdout",
          "output_type": "stream",
          "text": [
            "out shape from message function should be [E, H, C]: torch.Size([10556, 2, 32])\n",
            "out shape from message function should be [E, H, C]: torch.Size([10556, 2, 32])\n",
            "out shape from message function should be [E, H, C]: torch.Size([10556, 2, 32])\n",
            "out shape from message function should be [E, H, C]: torch.Size([10556, 2, 32])\n"
          ]
        },
        {
          "name": "stderr",
          "output_type": "stream",
          "text": [
            "Training:  81%|████████▏ | 407/500 [00:53<00:11,  8.43Epochs/s]"
          ]
        },
        {
          "name": "stdout",
          "output_type": "stream",
          "text": [
            "out shape from message function should be [E, H, C]: torch.Size([10556, 2, 32])\n",
            "out shape from message function should be [E, H, C]: torch.Size([10556, 2, 32])\n",
            "out shape from message function should be [E, H, C]: torch.Size([10556, 2, 32])\n",
            "out shape from message function should be [E, H, C]: torch.Size([10556, 2, 32])\n"
          ]
        },
        {
          "name": "stderr",
          "output_type": "stream",
          "text": [
            "Training:  82%|████████▏ | 409/500 [00:54<00:10,  8.74Epochs/s]"
          ]
        },
        {
          "name": "stdout",
          "output_type": "stream",
          "text": [
            "out shape from message function should be [E, H, C]: torch.Size([10556, 2, 32])\n",
            "out shape from message function should be [E, H, C]: torch.Size([10556, 2, 32])\n",
            "out shape from message function should be [E, H, C]: torch.Size([10556, 2, 32])\n",
            "out shape from message function should be [E, H, C]: torch.Size([10556, 2, 32])\n"
          ]
        },
        {
          "name": "stderr",
          "output_type": "stream",
          "text": [
            "Training:  82%|████████▏ | 411/500 [00:54<00:11,  7.89Epochs/s]"
          ]
        },
        {
          "name": "stdout",
          "output_type": "stream",
          "text": [
            "out shape from message function should be [E, H, C]: torch.Size([10556, 2, 32])\n",
            "out shape from message function should be [E, H, C]: torch.Size([10556, 2, 32])\n",
            "out shape from message function should be [E, H, C]: torch.Size([10556, 2, 32])\n",
            "out shape from message function should be [E, H, C]: torch.Size([10556, 2, 32])\n",
            "out shape from message function should be [E, H, C]: torch.Size([10556, 2, 32])\n",
            "out shape from message function should be [E, H, C]: torch.Size([10556, 2, 32])\n"
          ]
        },
        {
          "name": "stderr",
          "output_type": "stream",
          "text": [
            "Training:  83%|████████▎ | 413/500 [00:54<00:10,  8.13Epochs/s]"
          ]
        },
        {
          "name": "stdout",
          "output_type": "stream",
          "text": [
            "out shape from message function should be [E, H, C]: torch.Size([10556, 2, 32])\n",
            "out shape from message function should be [E, H, C]: torch.Size([10556, 2, 32])\n",
            "out shape from message function should be [E, H, C]: torch.Size([10556, 2, 32])\n",
            "out shape from message function should be [E, H, C]: torch.Size([10556, 2, 32])\n"
          ]
        },
        {
          "name": "stderr",
          "output_type": "stream",
          "text": [
            "Training:  83%|████████▎ | 415/500 [00:54<00:09,  8.50Epochs/s]"
          ]
        },
        {
          "name": "stdout",
          "output_type": "stream",
          "text": [
            "out shape from message function should be [E, H, C]: torch.Size([10556, 2, 32])\n",
            "out shape from message function should be [E, H, C]: torch.Size([10556, 2, 32])\n",
            "out shape from message function should be [E, H, C]: torch.Size([10556, 2, 32])\n",
            "out shape from message function should be [E, H, C]: torch.Size([10556, 2, 32])\n"
          ]
        },
        {
          "name": "stderr",
          "output_type": "stream",
          "text": [
            "Training:  83%|████████▎ | 417/500 [00:55<00:11,  7.09Epochs/s]"
          ]
        },
        {
          "name": "stdout",
          "output_type": "stream",
          "text": [
            "out shape from message function should be [E, H, C]: torch.Size([10556, 2, 32])\n",
            "out shape from message function should be [E, H, C]: torch.Size([10556, 2, 32])\n",
            "out shape from message function should be [E, H, C]: torch.Size([10556, 2, 32])\n",
            "out shape from message function should be [E, H, C]: torch.Size([10556, 2, 32])\n"
          ]
        },
        {
          "name": "stderr",
          "output_type": "stream",
          "text": [
            "Training:  84%|████████▍ | 419/500 [00:55<00:10,  7.93Epochs/s]"
          ]
        },
        {
          "name": "stdout",
          "output_type": "stream",
          "text": [
            "out shape from message function should be [E, H, C]: torch.Size([10556, 2, 32])\n",
            "out shape from message function should be [E, H, C]: torch.Size([10556, 2, 32])\n",
            "out shape from message function should be [E, H, C]: torch.Size([10556, 2, 32])\n",
            "out shape from message function should be [E, H, C]: torch.Size([10556, 2, 32])\n"
          ]
        },
        {
          "name": "stderr",
          "output_type": "stream",
          "text": [
            "Training:  84%|████████▍ | 421/500 [00:55<00:10,  7.56Epochs/s]"
          ]
        },
        {
          "name": "stdout",
          "output_type": "stream",
          "text": [
            "out shape from message function should be [E, H, C]: torch.Size([10556, 2, 32])\n",
            "out shape from message function should be [E, H, C]: torch.Size([10556, 2, 32])\n",
            "out shape from message function should be [E, H, C]: torch.Size([10556, 2, 32])\n",
            "out shape from message function should be [E, H, C]: torch.Size([10556, 2, 32])\n",
            "out shape from message function should be [E, H, C]: torch.Size([10556, 2, 32])\n",
            "out shape from message function should be [E, H, C]: torch.Size([10556, 2, 32])\n"
          ]
        },
        {
          "name": "stderr",
          "output_type": "stream",
          "text": [
            "Training:  85%|████████▍ | 423/500 [00:55<00:09,  8.30Epochs/s]"
          ]
        },
        {
          "name": "stdout",
          "output_type": "stream",
          "text": [
            "out shape from message function should be [E, H, C]: torch.Size([10556, 2, 32])\n",
            "out shape from message function should be [E, H, C]: torch.Size([10556, 2, 32])\n",
            "out shape from message function should be [E, H, C]: torch.Size([10556, 2, 32])\n",
            "out shape from message function should be [E, H, C]: torch.Size([10556, 2, 32])\n"
          ]
        },
        {
          "name": "stderr",
          "output_type": "stream",
          "text": [
            "Training:  85%|████████▌ | 425/500 [00:56<00:08,  8.68Epochs/s]"
          ]
        },
        {
          "name": "stdout",
          "output_type": "stream",
          "text": [
            "out shape from message function should be [E, H, C]: torch.Size([10556, 2, 32])\n",
            "out shape from message function should be [E, H, C]: torch.Size([10556, 2, 32])\n",
            "out shape from message function should be [E, H, C]: torch.Size([10556, 2, 32])\n",
            "out shape from message function should be [E, H, C]: torch.Size([10556, 2, 32])\n"
          ]
        },
        {
          "name": "stderr",
          "output_type": "stream",
          "text": [
            "Training:  85%|████████▌ | 427/500 [00:56<00:08,  8.82Epochs/s]"
          ]
        },
        {
          "name": "stdout",
          "output_type": "stream",
          "text": [
            "out shape from message function should be [E, H, C]: torch.Size([10556, 2, 32])\n",
            "out shape from message function should be [E, H, C]: torch.Size([10556, 2, 32])\n",
            "out shape from message function should be [E, H, C]: torch.Size([10556, 2, 32])\n",
            "out shape from message function should be [E, H, C]: torch.Size([10556, 2, 32])\n"
          ]
        },
        {
          "name": "stderr",
          "output_type": "stream",
          "text": [
            "Training:  86%|████████▌ | 430/500 [00:56<00:07,  9.09Epochs/s]"
          ]
        },
        {
          "name": "stdout",
          "output_type": "stream",
          "text": [
            "out shape from message function should be [E, H, C]: torch.Size([10556, 2, 32])\n",
            "out shape from message function should be [E, H, C]: torch.Size([10556, 2, 32])\n",
            "out shape from message function should be [E, H, C]: torch.Size([10556, 2, 32])\n",
            "out shape from message function should be [E, H, C]: torch.Size([10556, 2, 32])\n",
            "out shape from message function should be [E, H, C]: torch.Size([10556, 2, 32])\n",
            "out shape from message function should be [E, H, C]: torch.Size([10556, 2, 32])\n"
          ]
        },
        {
          "name": "stderr",
          "output_type": "stream",
          "text": [
            "Training:  86%|████████▋ | 432/500 [00:56<00:09,  7.12Epochs/s]"
          ]
        },
        {
          "name": "stdout",
          "output_type": "stream",
          "text": [
            "out shape from message function should be [E, H, C]: torch.Size([10556, 2, 32])\n",
            "out shape from message function should be [E, H, C]: torch.Size([10556, 2, 32])\n",
            "out shape from message function should be [E, H, C]: torch.Size([10556, 2, 32])\n",
            "out shape from message function should be [E, H, C]: torch.Size([10556, 2, 32])\n",
            "out shape from message function should be [E, H, C]: torch.Size([10556, 2, 32])\n",
            "out shape from message function should be [E, H, C]: torch.Size([10556, 2, 32])\n"
          ]
        },
        {
          "name": "stderr",
          "output_type": "stream",
          "text": [
            "Training:  87%|████████▋ | 435/500 [00:57<00:07,  8.38Epochs/s]"
          ]
        },
        {
          "name": "stdout",
          "output_type": "stream",
          "text": [
            "out shape from message function should be [E, H, C]: torch.Size([10556, 2, 32])\n",
            "out shape from message function should be [E, H, C]: torch.Size([10556, 2, 32])\n",
            "out shape from message function should be [E, H, C]: torch.Size([10556, 2, 32])\n",
            "out shape from message function should be [E, H, C]: torch.Size([10556, 2, 32])\n",
            "out shape from message function should be [E, H, C]: torch.Size([10556, 2, 32])\n"
          ]
        },
        {
          "name": "stderr",
          "output_type": "stream",
          "text": [
            "Training:  87%|████████▋ | 436/500 [00:57<00:07,  8.47Epochs/s]"
          ]
        },
        {
          "name": "stdout",
          "output_type": "stream",
          "text": [
            "out shape from message function should be [E, H, C]: torch.Size([10556, 2, 32])\n",
            "out shape from message function should be [E, H, C]: torch.Size([10556, 2, 32])\n",
            "out shape from message function should be [E, H, C]: torch.Size([10556, 2, 32])\n"
          ]
        },
        {
          "name": "stderr",
          "output_type": "stream",
          "text": [
            "Training:  88%|████████▊ | 438/500 [00:57<00:07,  8.72Epochs/s]"
          ]
        },
        {
          "name": "stdout",
          "output_type": "stream",
          "text": [
            "out shape from message function should be [E, H, C]: torch.Size([10556, 2, 32])\n",
            "out shape from message function should be [E, H, C]: torch.Size([10556, 2, 32])\n",
            "out shape from message function should be [E, H, C]: torch.Size([10556, 2, 32])\n",
            "out shape from message function should be [E, H, C]: torch.Size([10556, 2, 32])\n"
          ]
        },
        {
          "name": "stderr",
          "output_type": "stream",
          "text": [
            "Training:  88%|████████▊ | 440/500 [00:57<00:06,  8.86Epochs/s]"
          ]
        },
        {
          "name": "stdout",
          "output_type": "stream",
          "text": [
            "out shape from message function should be [E, H, C]: torch.Size([10556, 2, 32])\n",
            "out shape from message function should be [E, H, C]: torch.Size([10556, 2, 32])\n",
            "out shape from message function should be [E, H, C]: torch.Size([10556, 2, 32])\n",
            "out shape from message function should be [E, H, C]: torch.Size([10556, 2, 32])\n"
          ]
        },
        {
          "name": "stderr",
          "output_type": "stream",
          "text": [
            "Training:  88%|████████▊ | 442/500 [00:58<00:07,  8.21Epochs/s]"
          ]
        },
        {
          "name": "stdout",
          "output_type": "stream",
          "text": [
            "out shape from message function should be [E, H, C]: torch.Size([10556, 2, 32])\n",
            "out shape from message function should be [E, H, C]: torch.Size([10556, 2, 32])\n",
            "out shape from message function should be [E, H, C]: torch.Size([10556, 2, 32])\n",
            "out shape from message function should be [E, H, C]: torch.Size([10556, 2, 32])\n",
            "out shape from message function should be [E, H, C]: torch.Size([10556, 2, 32])\n",
            "out shape from message function should be [E, H, C]: torch.Size([10556, 2, 32])\n"
          ]
        },
        {
          "name": "stderr",
          "output_type": "stream",
          "text": [
            "Training:  89%|████████▉ | 444/500 [00:58<00:07,  7.02Epochs/s]"
          ]
        },
        {
          "name": "stdout",
          "output_type": "stream",
          "text": [
            "out shape from message function should be [E, H, C]: torch.Size([10556, 2, 32])\n",
            "out shape from message function should be [E, H, C]: torch.Size([10556, 2, 32])\n",
            "out shape from message function should be [E, H, C]: torch.Size([10556, 2, 32])\n",
            "out shape from message function should be [E, H, C]: torch.Size([10556, 2, 32])\n"
          ]
        },
        {
          "name": "stderr",
          "output_type": "stream",
          "text": [
            "Training:  89%|████████▉ | 446/500 [00:58<00:06,  7.73Epochs/s]"
          ]
        },
        {
          "name": "stdout",
          "output_type": "stream",
          "text": [
            "out shape from message function should be [E, H, C]: torch.Size([10556, 2, 32])\n",
            "out shape from message function should be [E, H, C]: torch.Size([10556, 2, 32])\n",
            "out shape from message function should be [E, H, C]: torch.Size([10556, 2, 32])\n",
            "out shape from message function should be [E, H, C]: torch.Size([10556, 2, 32])\n"
          ]
        },
        {
          "name": "stderr",
          "output_type": "stream",
          "text": [
            "Training:  90%|████████▉ | 448/500 [00:58<00:06,  8.45Epochs/s]"
          ]
        },
        {
          "name": "stdout",
          "output_type": "stream",
          "text": [
            "out shape from message function should be [E, H, C]: torch.Size([10556, 2, 32])\n",
            "out shape from message function should be [E, H, C]: torch.Size([10556, 2, 32])\n",
            "out shape from message function should be [E, H, C]: torch.Size([10556, 2, 32])\n",
            "out shape from message function should be [E, H, C]: torch.Size([10556, 2, 32])\n"
          ]
        },
        {
          "name": "stderr",
          "output_type": "stream",
          "text": [
            "Training:  90%|█████████ | 450/500 [00:59<00:05,  8.84Epochs/s]"
          ]
        },
        {
          "name": "stdout",
          "output_type": "stream",
          "text": [
            "out shape from message function should be [E, H, C]: torch.Size([10556, 2, 32])\n",
            "out shape from message function should be [E, H, C]: torch.Size([10556, 2, 32])\n",
            "out shape from message function should be [E, H, C]: torch.Size([10556, 2, 32])\n",
            "out shape from message function should be [E, H, C]: torch.Size([10556, 2, 32])\n"
          ]
        },
        {
          "name": "stderr",
          "output_type": "stream",
          "text": [
            "Training:  90%|█████████ | 452/500 [00:59<00:05,  8.02Epochs/s]"
          ]
        },
        {
          "name": "stdout",
          "output_type": "stream",
          "text": [
            "out shape from message function should be [E, H, C]: torch.Size([10556, 2, 32])\n",
            "out shape from message function should be [E, H, C]: torch.Size([10556, 2, 32])\n",
            "out shape from message function should be [E, H, C]: torch.Size([10556, 2, 32])\n",
            "out shape from message function should be [E, H, C]: torch.Size([10556, 2, 32])\n",
            "out shape from message function should be [E, H, C]: torch.Size([10556, 2, 32])\n",
            "out shape from message function should be [E, H, C]: torch.Size([10556, 2, 32])\n"
          ]
        },
        {
          "name": "stderr",
          "output_type": "stream",
          "text": [
            "Training:  91%|█████████ | 454/500 [00:59<00:05,  8.35Epochs/s]"
          ]
        },
        {
          "name": "stdout",
          "output_type": "stream",
          "text": [
            "out shape from message function should be [E, H, C]: torch.Size([10556, 2, 32])\n",
            "out shape from message function should be [E, H, C]: torch.Size([10556, 2, 32])\n",
            "out shape from message function should be [E, H, C]: torch.Size([10556, 2, 32])\n",
            "out shape from message function should be [E, H, C]: torch.Size([10556, 2, 32])\n"
          ]
        },
        {
          "name": "stderr",
          "output_type": "stream",
          "text": [
            "Training:  91%|█████████ | 456/500 [00:59<00:04,  8.84Epochs/s]"
          ]
        },
        {
          "name": "stdout",
          "output_type": "stream",
          "text": [
            "out shape from message function should be [E, H, C]: torch.Size([10556, 2, 32])\n",
            "out shape from message function should be [E, H, C]: torch.Size([10556, 2, 32])\n",
            "out shape from message function should be [E, H, C]: torch.Size([10556, 2, 32])\n",
            "out shape from message function should be [E, H, C]: torch.Size([10556, 2, 32])\n"
          ]
        },
        {
          "name": "stderr",
          "output_type": "stream",
          "text": [
            "Training:  92%|█████████▏| 458/500 [01:00<00:06,  6.97Epochs/s]"
          ]
        },
        {
          "name": "stdout",
          "output_type": "stream",
          "text": [
            "out shape from message function should be [E, H, C]: torch.Size([10556, 2, 32])\n",
            "out shape from message function should be [E, H, C]: torch.Size([10556, 2, 32])\n",
            "out shape from message function should be [E, H, C]: torch.Size([10556, 2, 32])\n",
            "out shape from message function should be [E, H, C]: torch.Size([10556, 2, 32])\n"
          ]
        },
        {
          "name": "stderr",
          "output_type": "stream",
          "text": [
            "Training:  92%|█████████▏| 460/500 [01:00<00:05,  7.57Epochs/s]"
          ]
        },
        {
          "name": "stdout",
          "output_type": "stream",
          "text": [
            "out shape from message function should be [E, H, C]: torch.Size([10556, 2, 32])\n",
            "out shape from message function should be [E, H, C]: torch.Size([10556, 2, 32])\n",
            "out shape from message function should be [E, H, C]: torch.Size([10556, 2, 32])\n",
            "out shape from message function should be [E, H, C]: torch.Size([10556, 2, 32])\n"
          ]
        },
        {
          "name": "stderr",
          "output_type": "stream",
          "text": [
            "Training:  92%|█████████▏| 462/500 [01:00<00:05,  7.59Epochs/s]"
          ]
        },
        {
          "name": "stdout",
          "output_type": "stream",
          "text": [
            "out shape from message function should be [E, H, C]: torch.Size([10556, 2, 32])\n",
            "out shape from message function should be [E, H, C]: torch.Size([10556, 2, 32])\n",
            "out shape from message function should be [E, H, C]: torch.Size([10556, 2, 32])\n",
            "out shape from message function should be [E, H, C]: torch.Size([10556, 2, 32])\n",
            "out shape from message function should be [E, H, C]: torch.Size([10556, 2, 32])\n",
            "out shape from message function should be [E, H, C]: torch.Size([10556, 2, 32])\n"
          ]
        },
        {
          "name": "stderr",
          "output_type": "stream",
          "text": [
            "Training:  93%|█████████▎| 464/500 [01:00<00:04,  8.31Epochs/s]"
          ]
        },
        {
          "name": "stdout",
          "output_type": "stream",
          "text": [
            "out shape from message function should be [E, H, C]: torch.Size([10556, 2, 32])\n",
            "out shape from message function should be [E, H, C]: torch.Size([10556, 2, 32])\n",
            "out shape from message function should be [E, H, C]: torch.Size([10556, 2, 32])\n",
            "out shape from message function should be [E, H, C]: torch.Size([10556, 2, 32])\n"
          ]
        },
        {
          "name": "stderr",
          "output_type": "stream",
          "text": [
            "Training:  93%|█████████▎| 466/500 [01:01<00:04,  8.40Epochs/s]"
          ]
        },
        {
          "name": "stdout",
          "output_type": "stream",
          "text": [
            "out shape from message function should be [E, H, C]: torch.Size([10556, 2, 32])\n",
            "out shape from message function should be [E, H, C]: torch.Size([10556, 2, 32])\n",
            "out shape from message function should be [E, H, C]: torch.Size([10556, 2, 32])\n",
            "out shape from message function should be [E, H, C]: torch.Size([10556, 2, 32])\n"
          ]
        },
        {
          "name": "stderr",
          "output_type": "stream",
          "text": [
            "Training:  94%|█████████▎| 468/500 [01:01<00:03,  8.70Epochs/s]"
          ]
        },
        {
          "name": "stdout",
          "output_type": "stream",
          "text": [
            "out shape from message function should be [E, H, C]: torch.Size([10556, 2, 32])\n",
            "out shape from message function should be [E, H, C]: torch.Size([10556, 2, 32])\n",
            "out shape from message function should be [E, H, C]: torch.Size([10556, 2, 32])\n",
            "out shape from message function should be [E, H, C]: torch.Size([10556, 2, 32])\n"
          ]
        },
        {
          "name": "stderr",
          "output_type": "stream",
          "text": [
            "Training:  94%|█████████▍| 470/500 [01:01<00:04,  7.21Epochs/s]"
          ]
        },
        {
          "name": "stdout",
          "output_type": "stream",
          "text": [
            "out shape from message function should be [E, H, C]: torch.Size([10556, 2, 32])\n",
            "out shape from message function should be [E, H, C]: torch.Size([10556, 2, 32])\n",
            "out shape from message function should be [E, H, C]: torch.Size([10556, 2, 32])\n",
            "out shape from message function should be [E, H, C]: torch.Size([10556, 2, 32])\n"
          ]
        },
        {
          "name": "stderr",
          "output_type": "stream",
          "text": [
            "Training:  94%|█████████▍| 472/500 [01:01<00:03,  7.25Epochs/s]"
          ]
        },
        {
          "name": "stdout",
          "output_type": "stream",
          "text": [
            "out shape from message function should be [E, H, C]: torch.Size([10556, 2, 32])\n",
            "out shape from message function should be [E, H, C]: torch.Size([10556, 2, 32])\n",
            "out shape from message function should be [E, H, C]: torch.Size([10556, 2, 32])\n",
            "out shape from message function should be [E, H, C]: torch.Size([10556, 2, 32])\n",
            "out shape from message function should be [E, H, C]: torch.Size([10556, 2, 32])\n",
            "out shape from message function should be [E, H, C]: torch.Size([10556, 2, 32])\n"
          ]
        },
        {
          "name": "stderr",
          "output_type": "stream",
          "text": [
            "Training:  95%|█████████▍| 474/500 [01:02<00:03,  7.91Epochs/s]"
          ]
        },
        {
          "name": "stdout",
          "output_type": "stream",
          "text": [
            "out shape from message function should be [E, H, C]: torch.Size([10556, 2, 32])\n",
            "out shape from message function should be [E, H, C]: torch.Size([10556, 2, 32])\n",
            "out shape from message function should be [E, H, C]: torch.Size([10556, 2, 32])\n",
            "out shape from message function should be [E, H, C]: torch.Size([10556, 2, 32])\n"
          ]
        },
        {
          "name": "stderr",
          "output_type": "stream",
          "text": [
            "Training:  95%|█████████▌| 476/500 [01:02<00:02,  8.51Epochs/s]"
          ]
        },
        {
          "name": "stdout",
          "output_type": "stream",
          "text": [
            "out shape from message function should be [E, H, C]: torch.Size([10556, 2, 32])\n",
            "out shape from message function should be [E, H, C]: torch.Size([10556, 2, 32])\n",
            "out shape from message function should be [E, H, C]: torch.Size([10556, 2, 32])\n",
            "out shape from message function should be [E, H, C]: torch.Size([10556, 2, 32])\n"
          ]
        },
        {
          "name": "stderr",
          "output_type": "stream",
          "text": [
            "Training:  96%|█████████▌| 478/500 [01:02<00:02,  8.63Epochs/s]"
          ]
        },
        {
          "name": "stdout",
          "output_type": "stream",
          "text": [
            "out shape from message function should be [E, H, C]: torch.Size([10556, 2, 32])\n",
            "out shape from message function should be [E, H, C]: torch.Size([10556, 2, 32])\n",
            "out shape from message function should be [E, H, C]: torch.Size([10556, 2, 32])\n",
            "out shape from message function should be [E, H, C]: torch.Size([10556, 2, 32])\n"
          ]
        },
        {
          "name": "stderr",
          "output_type": "stream",
          "text": [
            "Training:  96%|█████████▌| 480/500 [01:02<00:02,  8.65Epochs/s]"
          ]
        },
        {
          "name": "stdout",
          "output_type": "stream",
          "text": [
            "out shape from message function should be [E, H, C]: torch.Size([10556, 2, 32])\n",
            "out shape from message function should be [E, H, C]: torch.Size([10556, 2, 32])\n",
            "out shape from message function should be [E, H, C]: torch.Size([10556, 2, 32])\n",
            "out shape from message function should be [E, H, C]: torch.Size([10556, 2, 32])\n"
          ]
        },
        {
          "name": "stderr",
          "output_type": "stream",
          "text": [
            "Training:  96%|█████████▋| 482/500 [01:03<00:02,  8.03Epochs/s]"
          ]
        },
        {
          "name": "stdout",
          "output_type": "stream",
          "text": [
            "out shape from message function should be [E, H, C]: torch.Size([10556, 2, 32])\n",
            "out shape from message function should be [E, H, C]: torch.Size([10556, 2, 32])\n",
            "out shape from message function should be [E, H, C]: torch.Size([10556, 2, 32])\n",
            "out shape from message function should be [E, H, C]: torch.Size([10556, 2, 32])\n"
          ]
        },
        {
          "name": "stderr",
          "output_type": "stream",
          "text": [
            "Training:  97%|█████████▋| 483/500 [01:03<00:02,  6.87Epochs/s]"
          ]
        },
        {
          "name": "stdout",
          "output_type": "stream",
          "text": [
            "out shape from message function should be [E, H, C]: torch.Size([10556, 2, 32])\n",
            "out shape from message function should be [E, H, C]: torch.Size([10556, 2, 32])\n",
            "out shape from message function should be [E, H, C]: torch.Size([10556, 2, 32])\n",
            "out shape from message function should be [E, H, C]: torch.Size([10556, 2, 32])\n"
          ]
        },
        {
          "name": "stderr",
          "output_type": "stream",
          "text": [
            "Training:  97%|█████████▋| 485/500 [01:03<00:01,  7.78Epochs/s]"
          ]
        },
        {
          "name": "stdout",
          "output_type": "stream",
          "text": [
            "out shape from message function should be [E, H, C]: torch.Size([10556, 2, 32])\n",
            "out shape from message function should be [E, H, C]: torch.Size([10556, 2, 32])\n",
            "out shape from message function should be [E, H, C]: torch.Size([10556, 2, 32])\n",
            "out shape from message function should be [E, H, C]: torch.Size([10556, 2, 32])\n"
          ]
        },
        {
          "name": "stderr",
          "output_type": "stream",
          "text": [
            "Training:  97%|█████████▋| 487/500 [01:03<00:01,  8.36Epochs/s]"
          ]
        },
        {
          "name": "stdout",
          "output_type": "stream",
          "text": [
            "out shape from message function should be [E, H, C]: torch.Size([10556, 2, 32])\n",
            "out shape from message function should be [E, H, C]: torch.Size([10556, 2, 32])\n",
            "out shape from message function should be [E, H, C]: torch.Size([10556, 2, 32])\n",
            "out shape from message function should be [E, H, C]: torch.Size([10556, 2, 32])\n"
          ]
        },
        {
          "name": "stderr",
          "output_type": "stream",
          "text": [
            "Training:  98%|█████████▊| 490/500 [01:04<00:01,  8.78Epochs/s]"
          ]
        },
        {
          "name": "stdout",
          "output_type": "stream",
          "text": [
            "out shape from message function should be [E, H, C]: torch.Size([10556, 2, 32])\n",
            "out shape from message function should be [E, H, C]: torch.Size([10556, 2, 32])\n",
            "out shape from message function should be [E, H, C]: torch.Size([10556, 2, 32])\n",
            "out shape from message function should be [E, H, C]: torch.Size([10556, 2, 32])\n"
          ]
        },
        {
          "name": "stderr",
          "output_type": "stream",
          "text": [
            "Training:  98%|█████████▊| 491/500 [01:04<00:01,  7.72Epochs/s]"
          ]
        },
        {
          "name": "stdout",
          "output_type": "stream",
          "text": [
            "out shape from message function should be [E, H, C]: torch.Size([10556, 2, 32])\n",
            "out shape from message function should be [E, H, C]: torch.Size([10556, 2, 32])\n",
            "out shape from message function should be [E, H, C]: torch.Size([10556, 2, 32])\n",
            "out shape from message function should be [E, H, C]: torch.Size([10556, 2, 32])\n",
            "out shape from message function should be [E, H, C]: torch.Size([10556, 2, 32])\n",
            "out shape from message function should be [E, H, C]: torch.Size([10556, 2, 32])\n"
          ]
        },
        {
          "name": "stderr",
          "output_type": "stream",
          "text": [
            "Training:  99%|█████████▊| 493/500 [01:04<00:00,  8.36Epochs/s]"
          ]
        },
        {
          "name": "stdout",
          "output_type": "stream",
          "text": [
            "out shape from message function should be [E, H, C]: torch.Size([10556, 2, 32])\n",
            "out shape from message function should be [E, H, C]: torch.Size([10556, 2, 32])\n",
            "out shape from message function should be [E, H, C]: torch.Size([10556, 2, 32])\n",
            "out shape from message function should be [E, H, C]: torch.Size([10556, 2, 32])\n"
          ]
        },
        {
          "name": "stderr",
          "output_type": "stream",
          "text": [
            "Training:  99%|█████████▉| 495/500 [01:04<00:00,  7.08Epochs/s]"
          ]
        },
        {
          "name": "stdout",
          "output_type": "stream",
          "text": [
            "out shape from message function should be [E, H, C]: torch.Size([10556, 2, 32])\n",
            "out shape from message function should be [E, H, C]: torch.Size([10556, 2, 32])\n",
            "out shape from message function should be [E, H, C]: torch.Size([10556, 2, 32])\n",
            "out shape from message function should be [E, H, C]: torch.Size([10556, 2, 32])\n"
          ]
        },
        {
          "name": "stderr",
          "output_type": "stream",
          "text": [
            "Training:  99%|█████████▉| 497/500 [01:05<00:00,  7.94Epochs/s]"
          ]
        },
        {
          "name": "stdout",
          "output_type": "stream",
          "text": [
            "out shape from message function should be [E, H, C]: torch.Size([10556, 2, 32])\n",
            "out shape from message function should be [E, H, C]: torch.Size([10556, 2, 32])\n",
            "out shape from message function should be [E, H, C]: torch.Size([10556, 2, 32])\n",
            "out shape from message function should be [E, H, C]: torch.Size([10556, 2, 32])\n"
          ]
        },
        {
          "name": "stderr",
          "output_type": "stream",
          "text": [
            "Training: 100%|█████████▉| 499/500 [01:05<00:00,  8.27Epochs/s]"
          ]
        },
        {
          "name": "stdout",
          "output_type": "stream",
          "text": [
            "out shape from message function should be [E, H, C]: torch.Size([10556, 2, 32])\n",
            "out shape from message function should be [E, H, C]: torch.Size([10556, 2, 32])\n",
            "out shape from message function should be [E, H, C]: torch.Size([10556, 2, 32])\n",
            "out shape from message function should be [E, H, C]: torch.Size([10556, 2, 32])\n"
          ]
        },
        {
          "name": "stderr",
          "output_type": "stream",
          "text": [
            "Training: 100%|██████████| 500/500 [01:05<00:00,  7.65Epochs/s]\n"
          ]
        },
        {
          "name": "stdout",
          "output_type": "stream",
          "text": [
            "Maximum test set accuracy: 0.784\n",
            "Minimum loss: 0.02573513053357601\n",
            "out shape from message function should be [E, H, C]: torch.Size([10556, 2, 32])\n",
            "out shape from message function should be [E, H, C]: torch.Size([10556, 2, 32])\n",
            "Saving Model Predictions for Model Type GAT\n",
            "\n"
          ]
        },
        {
          "data": {
            "image/png": "[encoded data removed]",
            "text/plain": [
              "<Figure size 640x480 with 1 Axes>"
            ]
          },
          "metadata": {},
          "output_type": "display_data"
        }
      ],
      "source": [
        "if 'IS_GRADESCOPE_ENV' not in os.environ:\n",
        "    for args in [\n",
        "        {'model_type': 'GAT', 'dataset': 'cora', 'num_layers': 2, 'heads': 1, 'batch_size': 32, 'hidden_dim': 32, 'dropout': 0.5, 'epochs': 500, 'opt': 'adam', 'opt_scheduler': 'none', 'opt_restart': 0, 'weight_decay': 5e-3, 'lr': 0.01},\n",
        "    ]:\n",
        "        args = objectview(args)\n",
        "        for model in ['GAT']:\n",
        "            args.model_type = model\n",
        "\n",
        "            # Match the dimension.\n",
        "            if model == 'GAT':\n",
        "              args.heads = 2\n",
        "            else:\n",
        "              args.heads = 1\n",
        "\n",
        "            if args.dataset == 'cora':\n",
        "                dataset = Planetoid(root='/tmp/cora', name='Cora')\n",
        "            else:\n",
        "                raise NotImplementedError(\"Unknown dataset\")\n",
        "            test_accs, losses, best_model, best_acc, test_loader = train(dataset, args)\n",
        "\n",
        "            print(\"Maximum test set accuracy: {0}\".format(max(test_accs)))\n",
        "            print(\"Minimum loss: {0}\".format(min(losses)))\n",
        "\n",
        "            # Run test for our best model to save the predictions!\n",
        "            test(test_loader, best_model, is_validation=False, save_model_preds=True, model_type=model)\n",
        "            print()\n",
        "\n",
        "            plt.title(dataset.name)\n",
        "            plt.plot(losses, label=\"training loss\" + \" - \" + args.model_type)\n",
        "            plt.plot(test_accs, label=\"test accuracy\" + \" - \" + args.model_type)\n",
        "        plt.legend()\n",
        "        plt.show()\n"
      ]
    },
    {
      "attachments": {},
      "cell_type": "markdown",
      "metadata": {
        "id": "PlCtBEBLMBkR"
      },
      "source": [
        "## Question 1: What is the maximum accuracy obtained on test set for GAT? (10 points)\n",
        "\n",
        "\n",
        "Running the training cell above will also save your best GAT model predictions as *CORA-Node-GAT.csv*.  \n",
        "\n",
        "When you sumbit your assignment, you will have to download this file and attatch it to your submission. As with the other colabs, please zip this file `CS224W_Colab4.ipynb` and the *.csv* file that's generated!\n"
      ]
    },
    {
      "cell_type": "code",
      "execution_count": null,
      "metadata": {
        "id": "iL1EsPll3-kU"
      },
      "outputs": [],
      "source": []
    }
  ],
  "metadata": {
    "accelerator": "GPU",
    "colab": {
      "machine_shape": "hm",
      "provenance": []
    },
    "kernelspec": {
      "display_name": "Python 3",
      "language": "python",
      "name": "python3"
    },
    "language_info": {
      "codemirror_mode": {
        "name": "ipython",
        "version": 3
      },
      "file_extension": ".py",
      "mimetype": "text/x-python",
      "name": "python",
      "nbconvert_exporter": "python",
      "pygments_lexer": "ipython3",
      "version": "3.11.3"
    }
  },
  "nbformat": 4,
  "nbformat_minor": 0
}
